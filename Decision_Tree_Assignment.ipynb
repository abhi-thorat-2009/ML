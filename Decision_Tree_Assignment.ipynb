{
  "nbformat": 4,
  "nbformat_minor": 0,
  "metadata": {
    "colab": {
      "provenance": []
    },
    "kernelspec": {
      "name": "python3",
      "display_name": "Python 3"
    },
    "language_info": {
      "name": "python"
    }
  },
  "cells": [
    {
      "cell_type": "markdown",
      "source": [
        "#Theoretical"
      ],
      "metadata": {
        "id": "uxs3WcUU8Y9l"
      }
    },
    {
      "cell_type": "markdown",
      "source": [
        "### 1. What is a Decision Tree, and how does it work?\n",
        "\n",
        "A decision tree is a type of supervised machine learning algorithm that's used for both classification and regression tasks.  It's a tree-like structure where each internal node represents a \"decision\" or \"test\" on a feature (or attribute), each branch represents the outcome of the test, and each leaf node represents the final outcome (a class label or a predicted value).\n",
        "\n",
        "Here's a breakdown of how it works:\n",
        "\n",
        "**1. Building the Tree (Training Phase):**\n",
        "\n",
        "*   **Data Preparation:** The algorithm starts with a dataset of labeled examples (input features and corresponding target values).\n",
        "*   **Feature Selection:** The core of the algorithm is how it chooses which feature to split on at each node.  It aims to select the feature that best separates the data into more homogeneous subsets with respect to the target variable.  Common criteria for feature selection include:\n",
        "    *   **Gini Impurity (for classification):** Measures the impurity of a set of samples.  A lower Gini impurity indicates a more homogeneous set. The goal is to minimize the weighted average of the Gini impurities of the child nodes.\n",
        "    *   **Information Gain (for classification):** Measures the reduction in entropy (uncertainty) achieved by splitting the data on a particular feature.  The feature with the highest information gain is chosen.\n",
        "    *   **Mean Squared Error (for regression):** Measures the average squared difference between the predicted values and the actual values.  The goal is to minimize this error.\n",
        "*   **Splitting:** Once a feature is selected, the algorithm splits the data into subsets based on the possible values or ranges of that feature.  For categorical features, there's a branch for each category. For numerical features, the algorithm often finds an optimal threshold to split the data (e.g., values less than or equal to the threshold go down one branch, and values greater than the threshold go down the other).\n",
        "*   **Recursion:** This process of feature selection and splitting is repeated recursively for each subset until a stopping criterion is met.  Common stopping criteria include:\n",
        "    *   All samples in a subset belong to the same class (for classification).\n",
        "    *   A maximum tree depth is reached.\n",
        "    *   A minimum number of samples are required at a leaf node.\n",
        "    *   No more features are available to split on.\n",
        "*   **Leaf Node Assignment:** When a leaf node is reached, it's assigned a value.  For classification, this is the most frequent class among the samples in that leaf. For regression, it's typically the average (or median) of the target values of the samples in that leaf.\n",
        "\n",
        "**2. Making Predictions (Testing Phase):**\n",
        "\n",
        "*   **Input:** Given a new, unseen data point with its features.\n",
        "*   **Traversal:** The algorithm starts at the root node of the decision tree.\n",
        "*   **Decision at Each Node:** At each internal node, the algorithm checks the value of the corresponding feature in the input data point.  It then follows the branch corresponding to that value.\n",
        "*   **Leaf Node:** This process continues until a leaf node is reached.\n",
        "*   **Output:** The value assigned to the leaf node is the predicted outcome for the input data point (a class label for classification or a numerical value for regression).\n",
        "\n",
        "\n"
      ],
      "metadata": {
        "id": "_x2nasie8bA-"
      }
    },
    {
      "cell_type": "code",
      "execution_count": null,
      "metadata": {
        "id": "V7hvjSEH8QAh"
      },
      "outputs": [],
      "source": []
    },
    {
      "cell_type": "markdown",
      "source": [
        "###2. What are impurity measures in Decision Trees?\n",
        "\n",
        "In decision trees, impurity measures are crucial for determining the best way to split the data at each node. They quantify the \"disorder\" or \"mixed-up-ness\" of the classes within a set of data points. The goal is to find splits that reduce this impurity, creating subsets that are as \"pure\" as possible, meaning they contain mostly (or ideally, only) examples from a single class.\n",
        "\n",
        "Here's a breakdown of the two most common impurity measures:\n",
        "\n",
        "**1. Gini Impurity:**\n",
        "\n",
        "*   **What it measures:** The Gini impurity measures the probability of misclassifying a randomly chosen element in the dataset if it were labeled randomly according to the distribution of classes in the set.\n",
        "*   **How it works:**\n",
        "    *   For each class in the dataset, calculate the proportion of examples belonging to that class.\n",
        "    *   Square each of these proportions.\n",
        "    *   Sum up all the squared proportions.\n",
        "    *   Subtract this sum from 1.\n",
        "*   **Range:** Gini impurity ranges from 0 to 0.5.\n",
        "    *   0 means perfect purity (all examples belong to the same class).\n",
        "    *   0.5 means maximum impurity (classes are evenly distributed).\n",
        "*   **Advantages:**\n",
        "    *   Computationally simpler and faster than entropy.\n",
        "    *   Often preferred in practical implementations of decision trees.\n",
        "*   **Disadvantages:**\n",
        "    *   Slightly biased towards larger partitions.\n",
        "\n",
        "**2. Entropy:**\n",
        "\n",
        "*   **What it measures:** Entropy is a measure of the amount of uncertainty or disorder in a set of data. In the context of decision trees, it measures the uncertainty about the class labels in a node.\n",
        "*   **How it works:**\n",
        "    *   For each class in the dataset, calculate the proportion of examples belonging to that class.\n",
        "    *   Multiply each proportion by the logarithm base 2 of that proportion (with a negative sign).\n",
        "    *   Sum up all these values.\n",
        "*   **Range:** Entropy ranges from 0 to 1.\n",
        "    *   0 means perfect purity (all examples belong to the same class).\n",
        "    *   1 means maximum impurity (classes are evenly distributed).\n",
        "*   **Advantages:**\n",
        "    *   Considers the distribution of data more comprehensively than Gini impurity.\n",
        "    *   More commonly used in theoretical discussions and some decision tree algorithms (like C4.5 and ID3).\n",
        "*   **Disadvantages:**\n",
        "    *   More computationally intensive than Gini impurity.\n",
        "\n",
        "\n",
        "\n"
      ],
      "metadata": {
        "id": "WPZlN5xx8_Qu"
      }
    },
    {
      "cell_type": "code",
      "source": [],
      "metadata": {
        "id": "6fkFLVOV9CX2"
      },
      "execution_count": null,
      "outputs": []
    },
    {
      "cell_type": "markdown",
      "source": [
        "###3. What is the mathematical formula for Gini Impurity?\n",
        "\n",
        "The mathematical formula for Gini Impurity is:\n",
        "\n",
        "```\n",
        "Gini Impurity = 1 - Σ (pᵢ)²\n",
        "```\n",
        "\n",
        "Where:\n",
        "\n",
        "*   `pᵢ` is the proportion of samples belonging to class `i`.\n",
        "*   `Σ` represents the sum over all classes.\n",
        "\n",
        "Let's break it down:\n",
        "\n",
        "1.  **`pᵢ`:** For each class in your dataset, you calculate the proportion (or probability) of samples that belong to that class.  For example, if you have a dataset with two classes (positive and negative), and 60% of the samples are positive, then `p_positive = 0.6` and `p_negative = 0.4`.\n",
        "\n",
        "2.  **`pᵢ²`:** You square each of these proportions.  In the example above, `p_positive² = 0.6² = 0.36` and `p_negative² = 0.4² = 0.16`.\n",
        "\n",
        "3.  **`Σ (pᵢ)²`:** You sum up all the squared proportions.  In our example, `0.36 + 0.16 = 0.52`.\n",
        "\n",
        "4.  **`1 - Σ (pᵢ)²`:** Finally, you subtract the sum of squared proportions from 1.  In our example, `1 - 0.52 = 0.48`.  This is the Gini impurity for that node or subset of data.\n",
        "\n",
        "**Example:**\n",
        "\n",
        "Let's say you have a node with 10 samples: 6 belong to class A and 4 belong to class B.\n",
        "\n",
        "1.  `p_A = 6/10 = 0.6`\n",
        "2.  `p_B = 4/10 = 0.4`\n",
        "3.  `p_A² = 0.36`\n",
        "4.  `p_B² = 0.16`\n",
        "5.  `Σ (pᵢ)² = 0.36 + 0.16 = 0.52`\n",
        "6.  `Gini Impurity = 1 - 0.52 = 0.48`\n",
        "\n",
        "**Interpretation:**\n",
        "\n",
        "*   A Gini impurity of 0 means perfect purity (all samples belong to the same class).\n",
        "*   A Gini impurity of 0.5 (for a binary classification problem) means maximum impurity (classes are evenly distributed).  The closer the Gini impurity is to 0, the better the split (in terms of creating more homogeneous subsets).\n"
      ],
      "metadata": {
        "id": "lZVl_2fL9B4l"
      }
    },
    {
      "cell_type": "code",
      "source": [],
      "metadata": {
        "id": "PMw7qQXU9FS3"
      },
      "execution_count": null,
      "outputs": []
    },
    {
      "cell_type": "markdown",
      "source": [
        "###4. What is the mathematical formula for Entropy?\n",
        "\n",
        "The mathematical formula for entropy, specifically as used in decision trees (and information theory in general), is:\n",
        "\n",
        "```\n",
        "Entropy(S) = - Σ (pᵢ * log₂(pᵢ))\n",
        "```\n",
        "\n",
        "Where:\n",
        "\n",
        "*   `Entropy(S)` represents the entropy of the set `S` (the set of data points at a particular node).\n",
        "*   `pᵢ` is the proportion of samples in `S` that belong to class `i`.\n",
        "*   `Σ` represents the sum over all classes.\n",
        "*   `log₂(pᵢ)` is the logarithm base 2 of `pᵢ`.\n",
        "\n",
        "Let's break it down step by step:\n",
        "\n",
        "1.  **`pᵢ`:**  For each class `i` in your dataset, calculate the proportion of samples that belong to that class within the current subset `S`.  For example, if you have a binary classification problem (positive and negative) and 70% of the samples in the current node are positive, then `p_positive = 0.7` and `p_negative = 0.3`.\n",
        "\n",
        "2.  **`log₂(pᵢ)`:** Take the base-2 logarithm of each `pᵢ`.  In our example, `log₂(0.7) ≈ -0.515` and `log₂(0.3) ≈ -1.737`.  You can use a calculator or programming language to compute these logarithms.\n",
        "\n",
        "3.  **`pᵢ * log₂(pᵢ)`:** Multiply each `pᵢ` by its corresponding `log₂(pᵢ)`. In our example, `0.7 * -0.515 ≈ -0.3605` and `0.3 * -1.737 ≈ -0.5211`.\n",
        "\n",
        "4.  **`- Σ (pᵢ * log₂(pᵢ))`:** Sum up all the values calculated in the previous step and then multiply the entire sum by -1.  In our example, `-(-0.3605 + -0.5211) ≈ 0.8816`. This is the entropy for that node or subset of data.\n",
        "\n",
        "**Example:**\n",
        "\n",
        "Let's say you have a node with 10 samples: 7 belong to class A and 3 belong to class B.\n",
        "\n",
        "1.  `p_A = 7/10 = 0.7`\n",
        "2.  `p_B = 3/10 = 0.3`\n",
        "3.  `log₂(0.7) ≈ -0.515`\n",
        "4.  `log₂(0.3) ≈ -1.737`\n",
        "5.  `p_A * log₂(p_A) ≈ -0.3605`\n",
        "6.  `p_B * log₂(p_B) ≈ -0.5211`\n",
        "7.  `Entropy(S) ≈ -(-0.3605 + -0.5211) ≈ 0.8816`\n",
        "\n",
        "**Interpretation:**\n",
        "\n",
        "*   An entropy of 0 means perfect purity (all samples belong to the same class).\n",
        "*   An entropy of 1 (for a binary classification problem) means maximum impurity (classes are evenly distributed). The higher the entropy, the more \"mixed up\" the classes are in that node.  The goal when building a decision tree is to find splits that *reduce* entropy.\n",
        "\n"
      ],
      "metadata": {
        "id": "1m4vp3qt9Fnz"
      }
    },
    {
      "cell_type": "code",
      "source": [],
      "metadata": {
        "id": "9tDqBVcN9IPB"
      },
      "execution_count": null,
      "outputs": []
    },
    {
      "cell_type": "markdown",
      "source": [
        "### 5. What is Information Gain, and how is it used in Decision Trees?\n",
        "\n",
        "Information Gain is a key concept in decision tree algorithms. It's a measure of how much \"information\" a feature provides about the target variable. In simpler terms, it tells you how well a feature separates the data into different classes.\n",
        "\n",
        "Here's a breakdown:\n",
        "\n",
        "**What it measures:**\n",
        "\n",
        "Information Gain measures the reduction in entropy (uncertainty) achieved by splitting the data on a particular feature. The feature with the highest information gain is chosen to split the data at each node of the decision tree.\n",
        "\n",
        "**How it works:**\n",
        "\n",
        "1.  **Calculate the initial entropy:** First, calculate the entropy of the entire dataset before any split. This represents the initial uncertainty about the class labels.\n",
        "\n",
        "2.  **Calculate entropy after splitting:** For each feature, consider all possible ways to split the data based on that feature. Calculate the entropy of the subsets created by each split.\n",
        "\n",
        "3.  **Calculate weighted average entropy:** Calculate the weighted average of the entropies of the subsets. The weights are the proportions of samples that go into each subset.\n",
        "\n",
        "4.  **Calculate Information Gain:** Subtract the weighted average entropy of the subsets from the initial entropy. This gives you the information gain for that feature.\n",
        "\n",
        "5.  **Choose the best split:** Select the feature that has the highest information gain. This is the feature that best reduces the uncertainty about the class labels.\n",
        "\n",
        "**Mathematical Formula:**\n",
        "\n",
        "```\n",
        "Information Gain(S, A) = Entropy(S) - Σ (|Sv| / |S|) * Entropy(Sv)\n",
        "```\n",
        "\n",
        "Where:\n",
        "\n",
        "*   `Information Gain(S, A)` is the information gain for splitting set `S` on attribute `A`.\n",
        "*   `Entropy(S)` is the entropy of the set `S` before the split.\n",
        "*   `|S|` is the number of samples in set `S`.\n",
        "*   `|Sv|` is the number of samples in subset `Sv` (the subset created by splitting on value `v` of attribute `A`).\n",
        "*   `Entropy(Sv)` is the entropy of the subset `Sv`.\n",
        "*   `Σ` represents the sum over all values `v` of attribute `A`.\n",
        "\n",
        "\n"
      ],
      "metadata": {
        "id": "eGPYaUA09IsC"
      }
    },
    {
      "cell_type": "code",
      "source": [],
      "metadata": {
        "id": "JW9JoFYK9Kmn"
      },
      "execution_count": null,
      "outputs": []
    },
    {
      "cell_type": "markdown",
      "source": [
        "### 6. What is the difference between Gini Impurity and Entropy?\n",
        "\n",
        "Gini impurity and entropy are both measures of impurity used in decision trees to determine the best way to split the data at each node. While they both aim to quantify the \"disorder\" or \"mixed-up-ness\" of classes within a set of data points, they have some key differences:\n",
        "\n",
        "**1. Formula and Calculation:**\n",
        "\n",
        "*   **Gini Impurity:** `Gini Impurity = 1 - Σ (pᵢ)²`\n",
        "    *   It's calculated by squaring the proportion of samples belonging to each class, summing these squares, and subtracting the sum from 1.\n",
        "*   **Entropy:** `Entropy(S) = - Σ (pᵢ * log₂(pᵢ))`\n",
        "    *   It's calculated by multiplying the proportion of samples belonging to each class by the logarithm (base 2) of that proportion, summing these values, and then negating the sum.\n",
        "\n",
        "**2. Range of Values:**\n",
        "\n",
        "*   **Gini Impurity:** Ranges from 0 to 0.5.\n",
        "    *   0 means perfect purity (all samples belong to the same class).\n",
        "    *   0.5 means maximum impurity (classes are evenly distributed).\n",
        "*   **Entropy:** Ranges from 0 to 1.\n",
        "    *   0 means perfect purity.\n",
        "    *   1 means maximum impurity.\n",
        "\n",
        "**3. Computational Complexity:**\n",
        "\n",
        "*   **Gini Impurity:** Computationally simpler and faster to calculate because it involves only squaring and summing proportions.\n",
        "*   **Entropy:** More computationally intensive due to the use of logarithms, which can be slower to compute.\n",
        "\n",
        "**4. Sensitivity to Class Distribution:**\n",
        "\n",
        "*   **Entropy:** Considered to be slightly more sensitive to changes in class distribution, as it takes into account the logarithmic relationship between proportions and impurity.\n",
        "*   **Gini Impurity:** Slightly less sensitive to changes in class distribution.\n",
        "\n",
        "**5. Bias towards Larger Partitions:**\n",
        "\n",
        "*   **Gini Impurity:** Slightly biased towards creating larger partitions during splits.\n",
        "*   **Entropy:** Less biased in this regard.\n",
        "\n",
        "**6. Practical Use:**\n",
        "\n",
        "*   **Gini Impurity:** Often preferred in practical implementations of decision trees due to its computational efficiency.\n",
        "*   **Entropy:** More commonly used in theoretical discussions and some decision tree algorithms (like C4.5 and ID3).\n",
        "\n",
        "**In Summary:**\n",
        "\n",
        "*   Gini impurity is computationally faster and simpler, making it a good choice for large datasets.\n",
        "*   Entropy is slightly more accurate and considers the class distribution more comprehensively, but it's computationally more expensive.\n",
        "\n",
        "**Which one to use?**\n",
        "\n",
        "In most cases, the choice between Gini impurity and entropy doesn't significantly affect the performance of the decision tree. Gini impurity is often preferred due to its speed, but entropy might be preferred in some specific scenarios or for theoretical reasons. Many machine learning libraries allow you to choose either criterion when training decision trees.\n"
      ],
      "metadata": {
        "id": "KwQ7bCst9LB7"
      }
    },
    {
      "cell_type": "code",
      "source": [],
      "metadata": {
        "id": "INBFu1BI9NLg"
      },
      "execution_count": null,
      "outputs": []
    },
    {
      "cell_type": "markdown",
      "source": [
        "### 7. What is the mathematical explanation behind Decision Trees?\n",
        "\n",
        " Here's a breakdown of the key mathematical concepts:\n",
        "\n",
        "**1. Impurity Measures (Gini Impurity & Entropy)**\n",
        "\n",
        "*   **Gini Impurity:**\n",
        "    *   Formula: `Gini Impurity = 1 - Σ (pᵢ)²`\n",
        "    *   `pᵢ` is the proportion of samples belonging to class `i`.\n",
        "    *   This measures how mixed up the classes are in a node. A pure node (all samples same class) has Gini = 0. A maximally impure node (equal class distribution) has Gini closer to 0.5 (for binary classification).\n",
        "*   **Entropy:**\n",
        "    *   Formula: `Entropy(S) = - Σ (pᵢ * log₂(pᵢ))`\n",
        "    *   `pᵢ` is the proportion of samples belonging to class `i`.\n",
        "    *   This measures the uncertainty in a node. A pure node has Entropy = 0. A maximally impure node has Entropy closer to 1 (for binary classification).\n",
        "\n",
        "**2. Information Gain**\n",
        "\n",
        "*   **Formula:** `Information Gain(S, A) = Entropy(S) - Σ (|Sv| / |S|) * Entropy(Sv)`\n",
        "    *   `S` is the set of samples at a node.\n",
        "    *   `A` is a feature we're considering to split on.\n",
        "    *   `Sv` are the subsets of `S` created by splitting on `A`.\n",
        "    *   `|S|` and `|Sv|` are the number of samples in those sets.\n",
        "    *   This measures how much splitting on feature `A` reduces the uncertainty. We want to maximize Information Gain.\n",
        "\n",
        "**3. Splitting Criteria**\n",
        "\n",
        "*   Decision trees use these impurity measures and Information Gain to decide the best feature to split on at each node.\n",
        "*   The algorithm calculates the Information Gain for all features and chooses the one with the highest gain. This means that feature best separates the data according to class labels.\n",
        "\n",
        "**4. Recursive Partitioning**\n",
        "\n",
        "*   This splitting process is repeated recursively for each child node until a stopping criterion is met:\n",
        "    *   All samples in a node belong to the same class (pure node).\n",
        "    *   Maximum tree depth is reached.\n",
        "    *   Minimum number of samples per leaf node is reached.\n",
        "\n",
        "**5. Mathematical Representation of the Tree**\n",
        "\n",
        "*   A decision tree can be seen as a piecewise constant function. Each leaf node represents a region in the feature space, and the value assigned to the leaf is the prediction for that region.\n",
        "*   The decision boundaries are hyperplanes perpendicular to the feature axes.\n",
        "\n",
        "**6. Overfitting and Regularization**\n",
        "\n",
        "*   Decision trees are prone to overfitting, where they learn the training data too well, including noise, and don't generalize well to new data.\n",
        "*   To prevent this, techniques like pruning are used:\n",
        "    *   **Pre-pruning:** Stop growing the tree early based on criteria like maximum depth or minimum samples per leaf.\n",
        "    *   **Post-pruning:** Grow the tree fully and then remove branches that don't improve performance on a validation set.\n",
        "\n",
        "**7. Mathematical Formulation of Pruning**\n",
        "\n",
        "*   Pruning can be formulated as an optimization problem, where we want to find the subtree that minimizes a cost function that balances the tree size and the misclassification error.\n",
        "*   This can involve concepts like cost complexity pruning, which introduces a penalty for larger trees.\n",
        "\n",
        "**Key Mathematical Tools Used**\n",
        "\n",
        "*   **Probability and Statistics:** Proportions, probabilities, entropy calculations.\n",
        "*   **Logarithms:** Used in entropy calculation.\n",
        "*   **Linear Algebra:** Representing data and decision boundaries.\n",
        "*   **Optimization:** Finding the best splits and pruning the tree.\n",
        "\n",
        "**In essence, decision trees are built using a combination of information theory (entropy, information gain), statistical measures (proportions), and optimization techniques to find the best way to partition the data and make predictions.**\n",
        "\n",
        "\n"
      ],
      "metadata": {
        "id": "jo--J7Yc9NfN"
      }
    },
    {
      "cell_type": "code",
      "source": [],
      "metadata": {
        "id": "e7-b5iid9Puh"
      },
      "execution_count": null,
      "outputs": []
    },
    {
      "cell_type": "markdown",
      "source": [
        "### 8. What is Pre-Pruning in Decision Trees?\n",
        "\n",
        "Pre-pruning, also known as early stopping, is a technique used in decision trees to prevent overfitting. Overfitting occurs when the tree becomes too complex and learns the training data too well, including noise and outliers. This leads to poor performance on unseen data.\n",
        "\n",
        "**How it works:**\n",
        "\n",
        "Pre-pruning involves stopping the growth of the decision tree *before* it reaches its full potential. This is done by setting certain constraints or thresholds that limit the tree's depth and complexity. The tree stops splitting further when any of these conditions are met.\n",
        "\n",
        "**Common Pre-pruning Techniques:**\n",
        "\n",
        "*   **Maximum Depth:** Limits the maximum depth of the tree. Once the tree reaches this depth, it stops growing, even if further splits could potentially improve accuracy on the training data.\n",
        "*   **Minimum Samples per Leaf:** Sets a minimum number of samples required to be in a leaf node. If a split would result in a leaf node with fewer samples than this threshold, the split is not performed.\n",
        "*   **Minimum Samples per Split:** Specifies the minimum number of samples required to split an internal node. If a node has fewer samples than this threshold, it is not split further.\n",
        "*   **Maximum Features:** Limits the number of features considered for splitting at each node. This can help to prevent the tree from becoming too complex and also speed up the training process.\n",
        "\n",
        "**Advantages of Pre-pruning:**\n",
        "\n",
        "*   **Reduces Overfitting:** By stopping the tree's growth early, it avoids capturing noise and outliers in the training data, leading to better generalization on unseen data.\n",
        "*   **Faster Training:** Pre-pruning results in smaller trees, which are faster to train and easier to interpret.\n",
        "\n",
        "**Disadvantages of Pre-pruning:**\n",
        "\n",
        "*   **Risk of Underfitting:** If the stopping criteria are too strict, the tree might be too shallow to capture important patterns in the data, leading to underfitting. Underfitting occurs when the model is too simple to learn the underlying structure of the data, resulting in poor performance on both training and unseen data.\n",
        "\n",
        "**Key Considerations:**\n",
        "\n",
        "*   The effectiveness of pre-pruning depends on carefully tuning the hyperparameters that control the stopping criteria. These hyperparameters are often determined using techniques like cross-validation.\n",
        "*   Pre-pruning is a trade-off between preventing overfitting and potentially underfitting the data. It's important to find the right balance to achieve good performance on unseen data.\n",
        "\n",
        "\n",
        "\n"
      ],
      "metadata": {
        "id": "WdRsDCej9QC_"
      }
    },
    {
      "cell_type": "code",
      "source": [],
      "metadata": {
        "id": "tkvZC_CN9SY2"
      },
      "execution_count": null,
      "outputs": []
    },
    {
      "cell_type": "markdown",
      "source": [
        "### 9. What is Post-Pruning in Decision Trees?\n",
        "\n",
        "Post-pruning, also known as backward pruning, is another technique used in decision trees to prevent overfitting. Unlike pre-pruning, which stops the tree from growing *before* it gets too complex, post-pruning allows the tree to grow fully and then *prunes* or removes branches that do not contribute significantly to the model's performance.\n",
        "\n",
        "**How it works:**\n",
        "\n",
        "1.  **Grow the full tree:** The decision tree is first grown to its maximum possible extent, often resulting in a very complex tree that may overfit the training data.\n",
        "\n",
        "2.  **Prune branches:** The algorithm then traverses the tree from the bottom up (from the leaf nodes towards the root). At each internal node, it considers removing the subtree rooted at that node.\n",
        "\n",
        "3.  **Evaluate performance:** To decide whether to prune a branch, the algorithm evaluates the performance of the tree *with* and *without* that branch. This evaluation is typically done using a validation set (a portion of the training data that is held back during the initial tree construction).\n",
        "\n",
        "4.  **Remove branches:** If removing the branch improves or at least doesn't significantly degrade the performance on the validation set, the branch is pruned (replaced by a leaf node).  This process continues recursively up the tree.\n",
        "\n",
        "**Common Post-pruning Techniques:**\n",
        "\n",
        "*   **Reduced Error Pruning:** This method removes nodes if the error rate on the validation set improves after the removal.\n",
        "*   **Cost Complexity Pruning (also called Weakest Link Pruning):** This method introduces a cost complexity parameter (alpha) that penalizes the tree for having too many nodes. The algorithm finds the subtree that minimizes a combination of the error rate and the tree size (number of leaves).  Different values of alpha lead to different levels of pruning.\n",
        "\n",
        "**Advantages of Post-pruning:**\n",
        "\n",
        "*   **More Accurate Pruning:** Because post-pruning considers the performance of subtrees on a validation set, it can often make more informed decisions about which branches to prune compared to pre-pruning.  It can identify and remove branches that might seem important based on the training data alone but don't generalize well.\n",
        "*   **Less Prone to Underfitting:** Since the tree is initially grown fully, post-pruning is less likely to underfit the data compared to pre-pruning.  It has a chance to capture complex relationships before pruning back unnecessary complexity.\n",
        "\n",
        "**Disadvantages of Post-pruning:**\n",
        "\n",
        "*   **Computationally More Expensive:** Post-pruning requires growing the full tree first and then evaluating the performance of many subtrees, making it computationally more intensive than pre-pruning.\n",
        "*   **Requires a Validation Set:** Post-pruning needs a separate validation set to evaluate the performance of the tree during the pruning process.  This reduces the amount of data available for training the initial (full) tree.\n",
        "\n",
        "**Key Considerations:**\n",
        "\n",
        "*   The choice between post-pruning techniques (like Reduced Error Pruning or Cost Complexity Pruning) and the optimal value of any associated parameters (like alpha in Cost Complexity Pruning) can be important for the effectiveness of post-pruning.  Cross-validation is often used to tune these parameters.\n",
        "\n"
      ],
      "metadata": {
        "id": "NBuTJgd79S10"
      }
    },
    {
      "cell_type": "code",
      "source": [],
      "metadata": {
        "id": "sE9jSlrl9U9R"
      },
      "execution_count": null,
      "outputs": []
    },
    {
      "cell_type": "markdown",
      "source": [
        "### 10. What is the difference between Pre-Pruning and Post-Pruning?\n",
        "\n",
        "Both pre-pruning and post-pruning are techniques used to prevent overfitting in decision trees, but they approach the problem from different directions. Here's a breakdown of their key differences:\n",
        "\n",
        "**Pre-pruning (Early Stopping)**\n",
        "\n",
        "*   **When it happens:** Stops the tree from growing *before* it gets too complex.\n",
        "*   **How it works:** Sets constraints on the tree's growth, such as:\n",
        "    *   Maximum depth of the tree\n",
        "    *   Minimum number of samples required in a leaf node\n",
        "    *   Minimum number of samples required to split a node\n",
        "*   **Advantages:**\n",
        "    *   Simpler and faster to implement.\n",
        "    *   Reduces overfitting by preventing the tree from learning noise in the training data.\n",
        "*   **Disadvantages:**\n",
        "    *   Can lead to underfitting if the constraints are too strict. The tree might stop growing before capturing important patterns.\n",
        "    *   It's challenging to determine the optimal stopping criteria beforehand.\n",
        "\n",
        "**Post-pruning (Backward Pruning)**\n",
        "\n",
        "*   **When it happens:** Grows the tree fully and then *prunes* or removes unnecessary branches.\n",
        "*   **How it works:**\n",
        "    *   The tree is grown to its maximum extent, often overfitting the training data.\n",
        "    *   The algorithm then traverses the tree from the bottom up.\n",
        "    *   At each node, it considers removing the subtree rooted at that node.\n",
        "    *   The decision to prune is based on evaluating the tree's performance on a validation set.\n",
        "*   **Advantages:**\n",
        "    *   Generally more accurate than pre-pruning because it considers the performance of subtrees on a validation set.\n",
        "    *   Less prone to underfitting as the tree is initially grown fully.\n",
        "*   **Disadvantages:**\n",
        "    *   Computationally more expensive as it requires growing the full tree first.\n",
        "    *   Needs a separate validation set, which reduces the data available for training.\n",
        "\n",
        "**Here's a table summarizing the key differences:**\n",
        "\n",
        "| Feature | Pre-pruning | Post-pruning |\n",
        "|---|---|---|\n",
        "| **Timing** | Stops growth early | Prunes after full growth |\n",
        "| **Approach** | Sets constraints on growth | Removes branches |\n",
        "| **Accuracy** | Can be less accurate due to underfitting | Generally more accurate |\n",
        "| **Computational cost** | Less expensive | More expensive |\n",
        "| **Data requirements** | Doesn't need a validation set | Requires a validation set |\n",
        "| **Overfitting risk** | Lower | Lower (after pruning) |\n",
        "| **Underfitting risk** | Higher | Lower |\n",
        "\n",
        "**Which one to use?**\n",
        "\n",
        "*   Pre-pruning is often used as a quick and simple way to prevent overfitting, especially when dealing with large datasets where computational cost is a concern.\n",
        "*   Post-pruning is generally preferred when accuracy is more important and computational resources are available. It often leads to better performance as it makes more informed decisions about pruning based on validation set performance.\n",
        "\n",
        "Ultimately, the choice between pre-pruning and post-pruning depends on the specific dataset, the goals of the analysis, and the available computational resources. In many cases, post-pruning is the preferred method due to its higher accuracy, but pre-pruning can be a useful starting point or a good option when speed is a primary concern.\n"
      ],
      "metadata": {
        "id": "Uiy-5BsR9VU5"
      }
    },
    {
      "cell_type": "code",
      "source": [],
      "metadata": {
        "id": "1TVLGAjR9XZg"
      },
      "execution_count": null,
      "outputs": []
    },
    {
      "cell_type": "markdown",
      "source": [
        "### 11. What is a Decision Tree Regressor?\n",
        "\n",
        "A Decision Tree Regressor is a type of decision tree specifically designed for regression tasks. Unlike a Decision Tree Classifier, which predicts categorical outcomes (classes), a Decision Tree Regressor predicts continuous outcomes (numerical values).\n",
        "\n",
        "Here's a breakdown of how it works:\n",
        "\n",
        "**1. Building the Tree (Training Phase):**\n",
        "\n",
        "*   **Data Preparation:** The algorithm starts with a dataset of labeled examples, where each example has input features and a corresponding continuous target value.\n",
        "*   **Feature Selection:** The core of the algorithm is how it chooses which feature to split on at each node.  It aims to select the feature that best separates the data into subsets that are more homogeneous with respect to the target variable (i.e., the target values within each subset are as similar as possible). Common criteria for feature selection in regression include:\n",
        "    *   **Mean Squared Error (MSE):** Measures the average squared difference between the predicted values and the actual values. The goal is to minimize the MSE.\n",
        "    *   **Mean Absolute Error (MAE):** Measures the average absolute difference between the predicted values and the actual values. The goal is to minimize the MAE.\n",
        "*   **Splitting:** Once a feature is selected, the algorithm finds an optimal threshold to split the data.  For numerical features, this threshold divides the data into two subsets (e.g., values less than or equal to the threshold go down one branch, and values greater than the threshold go down the other). For categorical features, each category typically gets its own branch.\n",
        "*   **Recursion:** This process of feature selection and splitting is repeated recursively for each subset until a stopping criterion is met. Common stopping criteria include:\n",
        "    *   A maximum tree depth is reached.\n",
        "    *   A minimum number of samples are required at a leaf node.\n",
        "    *   No more features are available to split on.\n",
        "*   **Leaf Node Assignment:** When a leaf node is reached, it's assigned a value.  For regression, this is typically the average (or median) of the target values of the samples in that leaf.\n",
        "\n",
        "**2. Making Predictions (Testing Phase):**\n",
        "\n",
        "*   **Input:** Given a new, unseen data point with its features.\n",
        "*   **Traversal:** The algorithm starts at the root node of the decision tree.\n",
        "*   **Decision at Each Node:** At each internal node, the algorithm checks the value of the corresponding feature in the input data point. It then follows the branch corresponding to that value (based on the splitting threshold learned during training).\n",
        "*   **Leaf Node:** This process continues until a leaf node is reached.\n",
        "*   **Output:** The average (or median) target value of the samples in that leaf node is the predicted outcome for the input data point.\n",
        "\n",
        "\n",
        "\n",
        "\n"
      ],
      "metadata": {
        "id": "vbEEVJOI9X0W"
      }
    },
    {
      "cell_type": "code",
      "source": [],
      "metadata": {
        "id": "UwC5-TE59Z2G"
      },
      "execution_count": null,
      "outputs": []
    },
    {
      "cell_type": "markdown",
      "source": [
        "### 12. What are the advantages and disadvantages of Decision Trees?\n",
        "\n",
        "Decision Trees, whether used for classification or regression, have a set of advantages and disadvantages that make them suitable for some tasks but less so for others. Here's a breakdown:\n",
        "\n",
        "**Advantages of Decision Trees:**\n",
        "\n",
        "*   **Easy to Understand and Interpret:** Decision trees are highly intuitive and can be visualized easily. This makes them \"white box\" models, meaning you can understand exactly how the model arrives at its predictions. This interpretability is a significant advantage in many applications.\n",
        "*   **Handles Both Categorical and Numerical Data:** Decision trees can work with both types of data without requiring extensive preprocessing. This versatility simplifies the data preparation process.\n",
        "*   **Non-linear Relationships:** They can capture non-linear relationships between features and the target variable, unlike simpler models like linear regression. This makes them suitable for more complex datasets.\n",
        "*   **Feature Importance:** Decision trees provide insights into which features are most important for making predictions. This information can be valuable for feature selection and understanding the underlying data.\n",
        "*   **No Assumptions about Data Distribution:** Unlike some other algorithms, decision trees don't make strong assumptions about the distribution of the data. This makes them more robust to outliers and non-normally distributed data.\n",
        "*   **Simple to Implement:** The basic algorithm is relatively straightforward to implement.\n",
        "\n",
        "**Disadvantages of Decision Trees:**\n",
        "\n",
        "*   **Overfitting:** Decision trees are prone to overfitting, especially if they are allowed to grow too deep. Overfitting means the model memorizes the training data, including noise and outliers, and performs poorly on unseen data.\n",
        "*   **Sensitivity to Data:** Small changes in the training data can sometimes lead to very different tree structures. This instability can be a problem if the data is noisy or if the model needs to be very robust.\n",
        "*   **Bias towards Features with Many Levels:** Features with many possible values (high cardinality) can sometimes be unfairly favored during feature selection. This can lead to imbalanced trees and potentially poor performance.\n",
        "*   **Tendency to Create Complex Trees:** Without proper pruning or constraints, decision trees can become very large and complex, making them difficult to interpret and prone to overfitting.\n",
        "*   **Not Always the Most Accurate:** While decision trees are versatile, they are not always the most accurate models. Other algorithms, like ensemble methods (e.g., Random Forests, Gradient Boosting), often achieve better performance, especially on complex datasets.\n",
        "*   **Can Create Unrealistic Decision Boundaries:** Decision trees create decision boundaries that are perpendicular to the feature axes. This can sometimes lead to unrealistic or suboptimal decision boundaries, especially if the underlying relationships are not axis-aligned.\n",
        "\n",
        "\n"
      ],
      "metadata": {
        "id": "tWX5bN-n9aRH"
      }
    },
    {
      "cell_type": "code",
      "source": [],
      "metadata": {
        "id": "clQ2QzzT9cee"
      },
      "execution_count": null,
      "outputs": []
    },
    {
      "cell_type": "markdown",
      "source": [
        "### 13. How does a Decision Tree handle missing values?\n",
        "\n",
        "\n",
        "Decision trees can handle missing values in several ways, and the specific approach depends on the implementation and the algorithm used. Here are the most common strategies:\n",
        "\n",
        "**1. Ignoring Missing Values:**\n",
        "\n",
        "*   **During Training:**  The simplest approach is to ignore instances with missing values during the tree construction process.  The algorithm simply skips over these instances when calculating impurity measures and making splitting decisions.\n",
        "*   **During Prediction:**  If a missing value is encountered during prediction, the instance is often assigned to the most frequent branch at that node or a branch chosen based on surrogate splits (explained below).\n",
        "\n",
        "**2. Imputation:**\n",
        "\n",
        "*   **During Training:** Missing values can be filled in (imputed) with estimated values before or during the tree construction. Common imputation methods include:\n",
        "    *   **Mean/Median Imputation:** Replacing missing numerical values with the mean or median of the observed values for that feature.\n",
        "    *   **Mode Imputation:** Replacing missing categorical values with the most frequent category.\n",
        "    *   **K-Nearest Neighbors Imputation (KNN Imputation):** Filling in missing values based on the values of the most similar instances.\n",
        "*   **During Prediction:**  If imputation was used during training, the same imputation method is applied to missing values encountered during prediction.\n",
        "\n",
        "**3. Surrogate Splits:**\n",
        "\n",
        "*   This is a more sophisticated approach.  When a node is split on a particular feature, the algorithm also identifies \"surrogate splits\" on other features that have similar splitting behavior.  If an instance has a missing value for the primary splitting feature, the surrogate split is used instead.  The best surrogate split is the one that most closely mimics the primary split.  This allows the tree to still make a decision even with missing data.\n",
        "\n",
        "**4. Handling Missing Values as a Separate Category:**\n",
        "\n",
        "*   For categorical features, missing values can be treated as a separate, distinct category. This can be useful if the fact that a value is missing is itself informative.\n",
        "\n",
        "**5. Probabilistic Methods:**\n",
        "\n",
        "*   Some algorithms use probabilistic methods to handle missing values.  Instead of assigning an instance to a single branch, they might assign probabilities to different branches based on the distribution of values in the training data.\n",
        "\n",
        "**Which Method is Best?**\n",
        "\n",
        "There's no single \"best\" method. The optimal strategy depends on the specific dataset, the amount of missing data, and the nature of the missing values (e.g., are they missing completely at random, or is there a pattern to the missingness?).\n",
        "\n",
        "*   Ignoring missing values is simple but can lead to information loss, especially if there's a lot of missing data.\n",
        "*   Imputation can introduce bias if not done carefully.  Simple methods like mean/median/mode imputation can distort the data distribution.\n",
        "*   Surrogate splits are a more robust approach but add computational complexity.\n",
        "*   Treating missing values as a separate category can be useful if the missingness itself is meaningful.\n",
        "\n",
        "**In Practice:**\n",
        "\n",
        "Most machine learning libraries that implement decision trees (like scikit-learn in Python) provide options for handling missing values.  Often, they use a combination of these techniques, such as surrogate splits or imputation. It's often a good idea to experiment with different strategies and evaluate their impact on the model's performance using techniques like cross-validation.  Understanding how your chosen library handles missing values is crucial for getting the best results from your decision tree model.\n"
      ],
      "metadata": {
        "id": "jDGtNLlH9c3E"
      }
    },
    {
      "cell_type": "code",
      "source": [],
      "metadata": {
        "id": "rMo0q31s9ev7"
      },
      "execution_count": null,
      "outputs": []
    },
    {
      "cell_type": "markdown",
      "source": [
        "### 14. How does a Decision Tree handle categorical features?\n",
        "\n",
        "Decision trees handle categorical features in a straightforward way, making them quite versatile. Here's how it works:\n",
        "\n",
        "**1. Splitting on Categorical Features:**\n",
        "\n",
        "*   **Creating Branches:** When a decision tree encounters a categorical feature, it typically creates a separate branch for each category.  For example, if the feature is \"color\" with categories \"red,\" \"blue,\" and \"green,\" the tree will have three branches stemming from the node where this feature is used for splitting.\n",
        "*   **Determining the Best Split:** The decision tree algorithm evaluates all possible splits on the categorical feature.  It calculates the impurity measure (Gini impurity or entropy for classification, MSE or MAE for regression) for each possible split and chooses the split that minimizes the impurity.\n",
        "*   **Example:** Imagine you're predicting customer churn, and one feature is \"subscription type\" with categories \"basic,\" \"premium,\" and \"enterprise.\" The tree might split on this feature, creating three branches, one for each subscription type. The algorithm would determine which split (or combination of splits if handling multi-valued categorical features) results in the greatest information gain or lowest impurity.\n",
        "\n",
        "**2. Handling Multi-valued Categorical Features (High Cardinality):**\n",
        "\n",
        "*   Categorical features with many categories (high cardinality) can pose a challenge.  If each category gets its own branch, the tree can become very wide and prone to overfitting.  Several strategies are used to address this:\n",
        "    *   **Grouping Categories:**  Categories can be grouped together based on their similarity or their impact on the target variable.  For instance, less frequent categories might be combined into an \"other\" category.\n",
        "    *   **Binary Splits:** Instead of creating a branch for each category, the algorithm can find the best binary split.  For example, it might find that the best split is to group \"red\" and \"green\" together versus \"blue.\" This reduces the number of branches and makes the tree less complex.\n",
        "    *   **Feature Encoding (for some algorithms):** Certain decision tree implementations may use one-hot encoding or other encoding schemes for categorical features, especially if they are integrated with other machine learning algorithms that require numerical input. However, the core decision tree algorithm itself can directly handle categorical data without encoding.\n",
        "\n",
        "**3.  Missing Values in Categorical Features:**\n",
        "\n",
        "*   Missing values in categorical features can be handled in a few ways:\n",
        "    *   **Treat as a Separate Category:** The most common approach is to treat missing values as a separate, distinct category. This can be useful if the fact that a value is missing is itself informative.\n",
        "    *   **Imputation:** Missing values can be imputed using methods like mode imputation (replacing with the most frequent category).\n",
        "    *   **Surrogate Splits:**  As mentioned before, if the tree uses surrogate splits, the split on a surrogate feature can be used when the primary feature has a missing value.\n",
        "\n",
        "**Key Considerations:**\n",
        "\n",
        "*   **Computational Cost:**  Splitting on categorical features can be computationally more expensive than splitting on numerical features, especially for high-cardinality features.\n",
        "*   **Overfitting:**  High-cardinality categorical features can increase the risk of overfitting. Techniques like grouping categories or using binary splits can help mitigate this.\n",
        "\n",
        "**In summary:** Decision trees can directly handle categorical features by creating branches for each category. Strategies like grouping categories, binary splits, and treating missing values as a separate category are used to address the challenges posed by high-cardinality features and missing data.  This direct handling of categorical data is one of the advantages of decision trees, as it avoids the need for extensive feature engineering or encoding in many cases.\n"
      ],
      "metadata": {
        "id": "ttX87T-v9fSY"
      }
    },
    {
      "cell_type": "code",
      "source": [],
      "metadata": {
        "id": "oCbUc7ig9hA2"
      },
      "execution_count": null,
      "outputs": []
    },
    {
      "cell_type": "markdown",
      "source": [
        "### 15. What are some real-world applications of Decision Trees?\n",
        "\n",
        "Decision trees are incredibly versatile and find applications in a wide range of fields. Here are some real-world examples:\n",
        "\n",
        "**1. Healthcare:**\n",
        "\n",
        "*   **Diagnosis:** Doctors can use decision trees to diagnose diseases based on symptoms and patient history. For example, a decision tree might help determine the likelihood of a patient having a specific condition based on their age, blood pressure, and other relevant factors.\n",
        "*   **Risk Assessment:** Decision trees can be used to identify patients at high risk of developing certain conditions, allowing for early intervention and preventative care.\n",
        "*   **Treatment Selection:** Decision trees can assist in choosing the most appropriate treatment plan for a patient based on their individual characteristics and the specifics of their condition.\n",
        "\n",
        "**2. Finance:**\n",
        "\n",
        "*   **Credit Scoring:** Banks and financial institutions use decision trees to assess the creditworthiness of loan applicants. Factors like income, credit history, and employment status are used to predict the likelihood of a borrower defaulting on a loan.\n",
        "*   **Fraud Detection:** Decision trees can help identify potentially fraudulent transactions by analyzing patterns in transaction data. Unusual transaction amounts, locations, or frequencies can be flagged for further investigation.\n",
        "*   **Investment Decisions:** Decision trees can be used to model potential investment outcomes based on various market conditions and factors, helping investors make informed decisions.\n",
        "\n",
        "**3. Marketing:**\n",
        "\n",
        "*   **Customer Segmentation:** Decision trees can help segment customers into different groups based on their demographics, purchasing behavior, and other characteristics. This allows businesses to tailor their marketing campaigns to specific customer segments.\n",
        "*   **Targeted Advertising:** By understanding customer preferences and behaviors, decision trees can help businesses deliver more targeted and effective advertisements.\n",
        "*   **Customer Retention:** Decision trees can be used to predict which customers are likely to churn (cancel their service) so that businesses can take proactive steps to retain them.\n",
        "\n",
        "**4. Business:**\n",
        "\n",
        "*   **Decision Making:** Decision trees can be used to evaluate different business strategies and make informed decisions about product development, pricing, and resource allocation.\n",
        "*   **Risk Management:** Decision trees can help businesses assess and manage risks by modeling potential outcomes and their associated probabilities.\n",
        "*   **Operations Management:** Decision trees can be used to optimize processes and improve efficiency in areas like manufacturing, logistics, and supply chain management.\n",
        "\n",
        "**5. Other Applications:**\n",
        "\n",
        "*   **Environmental Science:** Decision trees can be used to model and predict environmental phenomena like weather patterns, pollution levels, and species distribution.\n",
        "*   **Education:** Decision trees can help educators identify students who are at risk of falling behind and provide them with targeted support.\n",
        "*   **Engineering:** Decision trees can be used in engineering design to optimize product performance and reliability.\n",
        "\n",
        "These are just a few examples of the many real-world applications of decision trees. Their versatility, interpretability, and ability to handle both categorical and numerical data make them a valuable tool in a wide range of fields.\n"
      ],
      "metadata": {
        "id": "ncwywTAr9hWn"
      }
    },
    {
      "cell_type": "code",
      "source": [],
      "metadata": {
        "id": "faXzASgl9iaU"
      },
      "execution_count": null,
      "outputs": []
    },
    {
      "cell_type": "markdown",
      "source": [
        "# Practical"
      ],
      "metadata": {
        "id": "c0mcSrILBF9m"
      }
    },
    {
      "cell_type": "code",
      "source": [
        "# importing requrid lib\n",
        "import pandas as pd\n",
        "import numpy as np\n",
        "import matplotlib.pyplot as plt\n",
        "import seaborn as sns\n",
        "import warnings\n",
        "warnings.filterwarnings('ignore')"
      ],
      "metadata": {
        "id": "7e99boPbDVaQ"
      },
      "execution_count": null,
      "outputs": []
    },
    {
      "cell_type": "markdown",
      "source": [
        "16. Write a Python program to train a Decision Tree Classifier on the Iris dataset and print the model accuracy.\n"
      ],
      "metadata": {
        "id": "X9XpKYSvBKDR"
      }
    },
    {
      "cell_type": "code",
      "source": [
        "from sklearn.datasets import load_iris\n",
        "data=load_iris()\n",
        "x=data.data\n",
        "y=data.target\n",
        "from sklearn.model_selection import train_test_split\n",
        "x_train,x_test,y_train,y_test=train_test_split(x,y,test_size=0.2,random_state=42)\n",
        "from sklearn.tree import DecisionTreeClassifier\n",
        "from sklearn.metrics import accuracy_score\n",
        "dt=DecisionTreeClassifier()\n",
        "dt.fit(x_train,y_train)\n",
        "y_pred=dt.predict(x_test)\n",
        "print(\"accuracy is \",accuracy_score(y_test,y_pred))"
      ],
      "metadata": {
        "colab": {
          "base_uri": "https://localhost:8080/"
        },
        "id": "wUVGlEKIEjVh",
        "outputId": "cd642b48-8eb5-4517-a5d8-aa1c2ff21e93"
      },
      "execution_count": null,
      "outputs": [
        {
          "output_type": "stream",
          "name": "stdout",
          "text": [
            "accuracy is  1.0\n"
          ]
        }
      ]
    },
    {
      "cell_type": "markdown",
      "source": [
        "17. Write a Python program to train a Decision Tree Classifier using Gini Impurity as the criterion and print the feature importances.\n"
      ],
      "metadata": {
        "id": "lrf6pDuFCqDj"
      }
    },
    {
      "cell_type": "code",
      "source": [
        "clf_gini = DecisionTreeClassifier(criterion='gini')\n",
        "clf_gini.fit(x_train, y_train)\n",
        "print(\" Feature Importances (Gini):\", clf_gini.feature_importances_)"
      ],
      "metadata": {
        "colab": {
          "base_uri": "https://localhost:8080/"
        },
        "id": "e8O4DxtHCtAY",
        "outputId": "3de1d563-65ca-463d-e02b-c0b5815355fc"
      },
      "execution_count": null,
      "outputs": [
        {
          "output_type": "stream",
          "name": "stdout",
          "text": [
            " Feature Importances (Gini): [0.01667014 0.01667014 0.38926487 0.57739485]\n"
          ]
        }
      ]
    },
    {
      "cell_type": "markdown",
      "source": [
        "18. Write a Python program to train a Decision Tree Classifier using Entropy as the splitting criterion and print the model accuracy.\n"
      ],
      "metadata": {
        "id": "rzOu_g0kCtXz"
      }
    },
    {
      "cell_type": "code",
      "source": [
        "clf_entropy = DecisionTreeClassifier(criterion='entropy')\n",
        "clf_entropy.fit(x_train, y_train)\n",
        "y_pred_entropy = clf_entropy.predict(x_test)\n",
        "print(\" Accuracy (Entropy):\", accuracy_score(y_test, y_pred_entropy))"
      ],
      "metadata": {
        "colab": {
          "base_uri": "https://localhost:8080/"
        },
        "id": "xQ-4XQ4wCwd5",
        "outputId": "9f8b9447-15c2-47ec-dc87-10d0a4612d33"
      },
      "execution_count": null,
      "outputs": [
        {
          "output_type": "stream",
          "name": "stdout",
          "text": [
            " Accuracy (Entropy): 1.0\n"
          ]
        }
      ]
    },
    {
      "cell_type": "markdown",
      "source": [
        "19. Write a Python program to train a Decision Tree Regressor on a housing dataset and evaluate using Mean Squared Error (MSE).\n"
      ],
      "metadata": {
        "id": "OKrtJziaCw2n"
      }
    },
    {
      "cell_type": "code",
      "source": [
        "from sklearn.datasets import fetch_california_housing\n",
        "from sklearn.tree import DecisionTreeRegressor\n",
        "from sklearn.metrics import mean_squared_error\n",
        "\n",
        "housing = fetch_california_housing()\n",
        "X_train_reg, X_test_reg, y_train_reg, y_test_reg = train_test_split(housing.data, housing.target, test_size=0.3, random_state=42)\n",
        "reg = DecisionTreeRegressor()\n",
        "reg.fit(X_train_reg, y_train_reg)\n",
        "y_pred_reg = reg.predict(X_test_reg)\n",
        "mse = mean_squared_error(y_test_reg, y_pred_reg)\n",
        "print(\" MSE:\", mse)"
      ],
      "metadata": {
        "colab": {
          "base_uri": "https://localhost:8080/"
        },
        "id": "3wlPMwzKFJzm",
        "outputId": "f237d639-1cff-4a0d-cb9d-e60fa4439022"
      },
      "execution_count": null,
      "outputs": [
        {
          "output_type": "stream",
          "name": "stdout",
          "text": [
            " MSE: 0.5229620809892441\n"
          ]
        }
      ]
    },
    {
      "cell_type": "markdown",
      "source": [
        "20. Write a Python program to train a Decision Tree Classifier and visualize the tree using graphviz.\n"
      ],
      "metadata": {
        "id": "fNorKWOPC0ao"
      }
    },
    {
      "cell_type": "code",
      "source": [
        "!pip install graphviz"
      ],
      "metadata": {
        "colab": {
          "base_uri": "https://localhost:8080/"
        },
        "id": "mP2tiaduGGJx",
        "outputId": "f31a3949-f150-41f1-c0cd-941c4644952a"
      },
      "execution_count": null,
      "outputs": [
        {
          "output_type": "stream",
          "name": "stdout",
          "text": [
            "Requirement already satisfied: graphviz in /usr/local/lib/python3.11/dist-packages (0.20.3)\n"
          ]
        }
      ]
    },
    {
      "cell_type": "code",
      "source": [
        "import pandas as pd\n",
        "from sklearn.datasets import load_iris\n",
        "from sklearn.tree import DecisionTreeClassifier, export_graphviz\n",
        "import graphviz\n",
        "\n",
        "# Load the Iris dataset\n",
        "iris = load_iris()\n",
        "X = iris.data  # Features\n",
        "y = iris.target # Target variable\n",
        "\n",
        "# Create and train the Decision Tree Classifier\n",
        "clf = DecisionTreeClassifier()\n",
        "clf.fit(X, y)\n",
        "\n",
        "# Export the decision tree to a DOT format string\n",
        "dot_data = export_graphviz(clf, out_file=None,\n",
        "                           feature_names=iris.feature_names,\n",
        "                           class_names=iris.target_names,\n",
        "                           filled=True, rounded=True,\n",
        "                           special_characters=True)\n",
        "\n",
        "# Create a graph from the DOT format string\n",
        "graph = graphviz.Source(dot_data)\n",
        "\n",
        "\n",
        "graph.view()\n",
        "\n",
        "#  save the graph to a file (e.g., as a PNG or PDF):\n",
        "graph.render(\"iris_tree\")  # Saves as iris_tree.png (by default)\n",
        "\n"
      ],
      "metadata": {
        "colab": {
          "base_uri": "https://localhost:8080/",
          "height": 36
        },
        "id": "U58xrPavC3Rf",
        "outputId": "e4bc1881-c3ee-4692-c84b-3e11849d22d8"
      },
      "execution_count": null,
      "outputs": [
        {
          "output_type": "execute_result",
          "data": {
            "text/plain": [
              "'iris_tree.pdf'"
            ],
            "application/vnd.google.colaboratory.intrinsic+json": {
              "type": "string"
            }
          },
          "metadata": {},
          "execution_count": 20
        }
      ]
    },
    {
      "cell_type": "markdown",
      "source": [
        "21. Write a Python program to train a Decision Tree Classifier with a maximum depth of 3 and compare its accuracy with a fully grown tree.\n"
      ],
      "metadata": {
        "id": "M3CUDpiiC3sZ"
      }
    },
    {
      "cell_type": "code",
      "source": [
        "from sklearn.datasets import load_iris\n",
        "from sklearn.tree import DecisionTreeClassifier\n",
        "from sklearn.model_selection import train_test_split\n",
        "from sklearn.metrics import accuracy_score\n",
        "\n",
        "# Load the Iris dataset\n",
        "iris = load_iris()\n",
        "X = iris.data\n",
        "y = iris.target\n",
        "\n",
        "# Split data into training and testing sets\n",
        "X_train, X_test, y_train, y_test = train_test_split(X, y, test_size=0.3, random_state=42)\n",
        "\n",
        "# Train a fully grown Decision Tree Classifier\n",
        "clf_full = DecisionTreeClassifier()\n",
        "clf_full.fit(X_train, y_train)\n",
        "y_pred_full = clf_full.predict(X_test)\n",
        "accuracy_full = accuracy_score(y_test, y_pred_full)\n",
        "\n",
        "# Train a Decision Tree Classifier with max_depth=3\n",
        "clf_depth3 = DecisionTreeClassifier(max_depth=3)\n",
        "clf_depth3.fit(X_train, y_train)\n",
        "y_pred_depth3 = clf_depth3.predict(X_test)\n",
        "accuracy_depth3 = accuracy_score(y_test, y_pred_depth3)\n",
        "\n",
        "# Print the accuracies\n",
        "print(\"Accuracy of fully grown tree:\", accuracy_full)\n",
        "print(\"Accuracy of tree with max_depth=3:\", accuracy_depth3)\n",
        "\n"
      ],
      "metadata": {
        "colab": {
          "base_uri": "https://localhost:8080/"
        },
        "id": "5otb05q3C6Jj",
        "outputId": "74dbf905-1303-46a6-e2d7-876c78737a61"
      },
      "execution_count": null,
      "outputs": [
        {
          "output_type": "stream",
          "name": "stdout",
          "text": [
            "Accuracy of fully grown tree: 1.0\n",
            "Accuracy of tree with max_depth=3: 1.0\n"
          ]
        }
      ]
    },
    {
      "cell_type": "markdown",
      "source": [
        "22. Write a Python program to train a Decision Tree Classifier using min_samples_split=5 and compare its accuracy with a default tree.\n"
      ],
      "metadata": {
        "id": "CAQOHO4-C6g8"
      }
    },
    {
      "cell_type": "code",
      "source": [
        "from sklearn.datasets import load_iris\n",
        "from sklearn.tree import DecisionTreeClassifier\n",
        "from sklearn.model_selection import train_test_split\n",
        "from sklearn.metrics import accuracy_score\n",
        "\n",
        "# Load the Iris dataset\n",
        "iris = load_iris()\n",
        "X = iris.data\n",
        "y = iris.target\n",
        "\n",
        "# Split data into training and testing sets\n",
        "X_train, X_test, y_train, y_test = train_test_split(X, y, test_size=0.3, random_state=42)\n",
        "\n",
        "# Train a Decision Tree Classifier with default parameters (fully grown)\n",
        "clf_default = DecisionTreeClassifier()\n",
        "clf_default.fit(X_train, y_train)\n",
        "y_pred_default = clf_default.predict(X_test)\n",
        "accuracy_default = accuracy_score(y_test, y_pred_default)\n",
        "\n",
        "# Train a Decision Tree Classifier with min_samples_split=5\n",
        "clf_min_samples = DecisionTreeClassifier(min_samples_split=5)\n",
        "clf_min_samples.fit(X_train, y_train)\n",
        "y_pred_min_samples = clf_min_samples.predict(X_test)\n",
        "accuracy_min_samples = accuracy_score(y_test, y_pred_min_samples)\n",
        "\n",
        "# Print the accuracies\n",
        "print(\"Accuracy of default tree:\", accuracy_default)\n",
        "print(\"Accuracy of tree with min_samples_split=5:\", accuracy_min_samples)\n",
        "\n"
      ],
      "metadata": {
        "colab": {
          "base_uri": "https://localhost:8080/"
        },
        "id": "XpTabrxHC9us",
        "outputId": "20f4ad72-d9bc-4d95-9ab8-b1ab3cca393e"
      },
      "execution_count": null,
      "outputs": [
        {
          "output_type": "stream",
          "name": "stdout",
          "text": [
            "Accuracy of default tree: 1.0\n",
            "Accuracy of tree with min_samples_split=5: 1.0\n"
          ]
        }
      ]
    },
    {
      "cell_type": "markdown",
      "source": [
        "23. Write a Python program to apply feature scaling before training a Decision Tree Classifier and compare its accuracy with unscaled data.\n"
      ],
      "metadata": {
        "id": "OkbbYu43C-Ku"
      }
    },
    {
      "cell_type": "code",
      "source": [
        "from sklearn.datasets import load_iris\n",
        "from sklearn.tree import DecisionTreeClassifier\n",
        "from sklearn.model_selection import train_test_split\n",
        "from sklearn.metrics import accuracy_score\n",
        "\n",
        "# Load the Iris dataset\n",
        "iris = load_iris()\n",
        "X = iris.data\n",
        "y = iris.target\n",
        "\n",
        "# Split data into training and testing sets\n",
        "X_train, X_test, y_train, y_test = train_test_split(X, y, test_size=0.3, random_state=42)\n",
        "\n",
        "# Train a Decision Tree Classifier with default parameters (fully grown)\n",
        "clf_default = DecisionTreeClassifier()\n",
        "clf_default.fit(X_train, y_train)\n",
        "y_pred_default = clf_default.predict(X_test)\n",
        "accuracy_default = accuracy_score(y_test, y_pred_default)\n",
        "\n",
        "# Train a Decision Tree Classifier with min_samples_split=5\n",
        "clf_min_samples = DecisionTreeClassifier(min_samples_split=5)\n",
        "clf_min_samples.fit(X_train, y_train)\n",
        "y_pred_min_samples = clf_min_samples.predict(X_test)\n",
        "accuracy_min_samples = accuracy_score(y_test, y_pred_min_samples)\n",
        "\n",
        "# Print the accuracies\n",
        "print(\"Accuracy of default tree:\", accuracy_default)\n",
        "print(\"Accuracy of tree with min_samples_split=5:\", accuracy_min_samples)\n"
      ],
      "metadata": {
        "colab": {
          "base_uri": "https://localhost:8080/"
        },
        "id": "oHoiDCv-DAfa",
        "outputId": "ed85cfa3-a83e-44b9-d259-1695d0e11e7e"
      },
      "execution_count": null,
      "outputs": [
        {
          "output_type": "stream",
          "name": "stdout",
          "text": [
            "Accuracy of default tree: 1.0\n",
            "Accuracy of tree with min_samples_split=5: 1.0\n"
          ]
        }
      ]
    },
    {
      "cell_type": "markdown",
      "source": [
        "24. Write a Python program to train a Decision Tree Classifier using One-vs-Rest (OvR) strategy for multiclass classification.\n"
      ],
      "metadata": {
        "id": "uRhZLlhGDA7w"
      }
    },
    {
      "cell_type": "code",
      "source": [
        "from sklearn.datasets import load_iris  # Or any other multiclass dataset\n",
        "from sklearn.tree import DecisionTreeClassifier\n",
        "from sklearn.multiclass import OneVsRestClassifier\n",
        "from sklearn.model_selection import train_test_split\n",
        "from sklearn.metrics import accuracy_score\n",
        "\n",
        "# Load a multiclass dataset\n",
        "iris = load_iris()\n",
        "X = iris.data\n",
        "y = iris.target  # Iris has 3 classes\n",
        "\n",
        "# Split the data into training and testing sets\n",
        "X_train, X_test, y_train, y_test = train_test_split(X, y, test_size=0.3, random_state=42)\n",
        "\n",
        "# Create a Decision Tree Classifier (you can customize this)\n",
        "base_classifier = DecisionTreeClassifier()\n",
        "\n",
        "# Create the OneVsRestClassifier\n",
        "ovr_classifier = OneVsRestClassifier(base_classifier)\n",
        "\n",
        "# Train the OneVsRestClassifier\n",
        "ovr_classifier.fit(X_train, y_train)\n",
        "\n",
        "# Make predictions on the test set\n",
        "y_pred_ovr = ovr_classifier.predict(X_test)\n",
        "\n",
        "# Evaluate the accuracy\n",
        "accuracy_ovr = accuracy_score(y_test, y_pred_ovr)\n",
        "print(\"One-vs-Rest Accuracy:\", accuracy_ovr)\n",
        "\n"
      ],
      "metadata": {
        "colab": {
          "base_uri": "https://localhost:8080/"
        },
        "id": "DwBeM8z8DDfw",
        "outputId": "4cedc8fa-8c02-47ea-cd83-8516a1061156"
      },
      "execution_count": null,
      "outputs": [
        {
          "output_type": "stream",
          "name": "stdout",
          "text": [
            "One-vs-Rest Accuracy: 1.0\n"
          ]
        }
      ]
    },
    {
      "cell_type": "markdown",
      "source": [
        "25. Write a Python program to train a Decision Tree Classifier and display the feature importance scores.\n"
      ],
      "metadata": {
        "id": "7vSvZUjBDD5x"
      }
    },
    {
      "cell_type": "code",
      "source": [
        "from sklearn.datasets import load_iris\n",
        "from sklearn.tree import DecisionTreeClassifier\n",
        "from sklearn.model_selection import train_test_split\n",
        "\n",
        "# Load the dataset\n",
        "iris = load_iris()\n",
        "X = iris.data\n",
        "y = iris.target\n",
        "\n",
        "# Split the data into training and testing sets\n",
        "X_train, X_test, y_train, y_test = train_test_split(X, y, test_size=0.3, random_state=42)\n",
        "\n",
        "# Create and train the Decision Tree Classifier\n",
        "clf = DecisionTreeClassifier()\n",
        "clf.fit(X_train, y_train)  # Train on the training data\n",
        "\n",
        "# Get feature importances\n",
        "feature_importances = clf.feature_importances_\n",
        "\n",
        "# Print feature importances\n",
        "print(\"Feature Importances:\")\n",
        "for i, importance in enumerate(feature_importances):\n",
        "    print(f\"{iris.feature_names[i]}: {importance}\")\n",
        "\n"
      ],
      "metadata": {
        "colab": {
          "base_uri": "https://localhost:8080/"
        },
        "id": "YTcnjremDGTL",
        "outputId": "671959e4-fbb0-44f2-9d90-44ac24829bf6"
      },
      "execution_count": null,
      "outputs": [
        {
          "output_type": "stream",
          "name": "stdout",
          "text": [
            "Feature Importances:\n",
            "sepal length (cm): 0.01911001911001911\n",
            "sepal width (cm): 0.0\n",
            "petal length (cm): 0.4235665821031675\n",
            "petal width (cm): 0.5573233987868135\n"
          ]
        }
      ]
    },
    {
      "cell_type": "markdown",
      "source": [
        "26. Write a Python program to train a Decision Tree Regressor with max_depth=5 and compare its performance with an unrestricted tree.\n"
      ],
      "metadata": {
        "id": "FfMS-biSDGyg"
      }
    },
    {
      "cell_type": "code",
      "source": [
        "from sklearn.datasets import fetch_california_housing\n",
        "from sklearn.tree import DecisionTreeRegressor\n",
        "from sklearn.model_selection import train_test_split\n",
        "from sklearn.metrics import mean_squared_error\n",
        "\n",
        "# Load the California housing dataset\n",
        "housing = fetch_california_housing()\n",
        "X = housing.data\n",
        "y = housing.target\n",
        "\n",
        "# Split the data into training and testing sets\n",
        "X_train, X_test, y_train, y_test = train_test_split(X, y, test_size=0.3, random_state=42)\n",
        "\n",
        "# Train an unrestricted Decision Tree Regressor (default parameters)\n",
        "reg_unrestricted = DecisionTreeRegressor()\n",
        "reg_unrestricted.fit(X_train, y_train)\n",
        "y_pred_unrestricted = reg_unrestricted.predict(X_test)\n",
        "mse_unrestricted = mean_squared_error(y_test, y_pred_unrestricted)\n",
        "\n",
        "# Train a Decision Tree Regressor with max_depth=5\n",
        "reg_depth5 = DecisionTreeRegressor(max_depth=5)\n",
        "reg_depth5.fit(X_train, y_train)\n",
        "y_pred_depth5 = reg_depth5.predict(X_test)\n",
        "mse_depth5 = mean_squared_error(y_test, y_pred_depth5)\n",
        "\n",
        "# Print the Mean Squared Errors (MSE)\n",
        "print(\"MSE of unrestricted tree:\", mse_unrestricted)\n",
        "print(\"MSE of tree with max_depth=5:\", mse_depth5)\n",
        "\n",
        "# Compare the MSEs\n",
        "if mse_depth5 < mse_unrestricted:\n",
        "    print(\"The tree with max_depth=5 has lower MSE (better performance).\")\n",
        "elif mse_depth5 > mse_unrestricted:\n",
        "    print(\"The unrestricted tree has lower MSE (better performance).\")\n",
        "else:\n",
        "    print(\"Both trees have the same MSE.\")\n",
        "\n",
        "\n"
      ],
      "metadata": {
        "colab": {
          "base_uri": "https://localhost:8080/"
        },
        "id": "XLQo5t0MDJAp",
        "outputId": "0097ad63-ec3b-4050-ee14-bd21ddb8d6e6"
      },
      "execution_count": null,
      "outputs": [
        {
          "output_type": "stream",
          "name": "stdout",
          "text": [
            "MSE of unrestricted tree: 0.533622842045478\n",
            "MSE of tree with max_depth=5: 0.5210801561811793\n",
            "The tree with max_depth=5 has lower MSE (better performance).\n"
          ]
        }
      ]
    },
    {
      "cell_type": "markdown",
      "source": [
        "27. Write a Python program to train a Decision Tree Classifier, apply Cost Complexity Pruning (CCP), and visualize its effect on accuracy.\n"
      ],
      "metadata": {
        "id": "K19S8LvMDJfp"
      }
    },
    {
      "cell_type": "code",
      "source": [
        "from sklearn.datasets import load_iris\n",
        "from sklearn.tree import DecisionTreeClassifier\n",
        "from sklearn.model_selection import train_test_split\n",
        "from sklearn.metrics import accuracy_score\n",
        "import matplotlib.pyplot as plt\n",
        "\n",
        "# Load the Iris dataset\n",
        "iris = load_iris()\n",
        "X = iris.data\n",
        "y = iris.target\n",
        "\n",
        "# Split the data into training and testing sets\n",
        "X_train, X_test, y_train, y_test = train_test_split(X, y, test_size=0.3, random_state=42)\n",
        "\n",
        "# Create a Decision Tree Classifier (you can customize this)\n",
        "clf = DecisionTreeClassifier(random_state=0)  # Add random_state for reproducibility\n",
        "\n",
        "# Get the cost complexity pruning path\n",
        "path = clf.cost_complexity_pruning_path(X_train, y_train)\n",
        "ccp_alphas = path.ccp_alphas  # Different alpha values for pruning\n",
        "impurities = path.impurities  # Impurities corresponding to alpha values\n",
        "\n",
        "# Store accuracy scores for different alpha values\n",
        "accuracies_train = []\n",
        "accuracies_test = []\n",
        "\n",
        "for ccp_alpha in ccp_alphas:\n",
        "    clf_pruned = DecisionTreeClassifier(ccp_alpha=ccp_alpha, random_state=0) # Use the same random state\n",
        "    clf_pruned.fit(X_train, y_train)\n",
        "\n",
        "    y_pred_train = clf_pruned.predict(X_train)\n",
        "    accuracy_train = accuracy_score(y_train, y_pred_train)\n",
        "    accuracies_train.append(accuracy_train)\n",
        "\n",
        "    y_pred_test = clf_pruned.predict(X_test)\n",
        "    accuracy_test = accuracy_score(y_test, y_pred_test)\n",
        "    accuracies_test.append(accuracy_test)\n",
        "\n",
        "\n",
        "# Visualize the effect of CCP on accuracy\n",
        "plt.figure(figsize=(10, 6))\n",
        "plt.plot(ccp_alphas, accuracies_train, marker='o', label='Training Accuracy')\n",
        "plt.plot(ccp_alphas, accuracies_test, marker='x', label='Testing Accuracy')\n",
        "plt.xlabel('CCP Alpha')\n",
        "plt.ylabel('Accuracy')\n",
        "plt.title('Effect of Cost Complexity Pruning on Accuracy')\n",
        "plt.legend()\n",
        "plt.grid(True)\n",
        "plt.show()\n",
        "\n"
      ],
      "metadata": {
        "colab": {
          "base_uri": "https://localhost:8080/",
          "height": 564
        },
        "id": "PgxyBp3hDMlQ",
        "outputId": "9a30e84a-1289-41f2-f05f-c232613d784a"
      },
      "execution_count": null,
      "outputs": [
        {
          "output_type": "display_data",
          "data": {
            "text/plain": [
              "<Figure size 1000x600 with 1 Axes>"
            ],
            "image/png": "[encoded data removed]"
          },
          "metadata": {}
        }
      ]
    },
    {
      "cell_type": "markdown",
      "source": [
        "28. Write a Python program to train a Decision Tree Classifier and evaluate its performance using Precision, Recall, and F1-Score.\n"
      ],
      "metadata": {
        "id": "AzQ1_KBdDNCS"
      }
    },
    {
      "cell_type": "code",
      "source": [
        "from sklearn.datasets import load_iris\n",
        "from sklearn.tree import DecisionTreeClassifier\n",
        "from sklearn.model_selection import train_test_split\n",
        "from sklearn.metrics import precision_score, recall_score, f1_score\n",
        "\n",
        "# Load the Iris dataset\n",
        "iris = load_iris()\n",
        "X = iris.data\n",
        "y = iris.target\n",
        "\n",
        "# Split data into training and testing sets\n",
        "X_train, X_test, y_train, y_test = train_test_split(X, y, test_size=0.3, random_state=42)  # random_state for reproducibility\n",
        "\n",
        "# Create and train the Decision Tree Classifier\n",
        "clf = DecisionTreeClassifier()\n",
        "clf.fit(X_train, y_train)\n",
        "\n",
        "# Make predictions on the test set\n",
        "y_pred = clf.predict(X_test)\n",
        "\n",
        "# Calculate precision, recall, and F1-score\n",
        "# Important: Specify the 'average' parameter for multiclass classification\n",
        "precision = precision_score(y_test, y_pred, average='weighted') # 'weighted' averages by support\n",
        "recall = recall_score(y_test, y_pred, average='weighted')\n",
        "f1 = f1_score(y_test, y_pred, average='weighted')\n",
        "\n",
        "# Print the results\n",
        "print(\"Precision:\", precision)\n",
        "print(\"Recall:\", recall)\n",
        "print(\"F1-score:\", f1)\n",
        "\n",
        "\n",
        "\n",
        "\n",
        "\n"
      ],
      "metadata": {
        "colab": {
          "base_uri": "https://localhost:8080/"
        },
        "id": "Tn9Ao0HdDPEx",
        "outputId": "258937f9-b160-4376-93d8-791a9feac7ef"
      },
      "execution_count": null,
      "outputs": [
        {
          "output_type": "stream",
          "name": "stdout",
          "text": [
            "Precision: 1.0\n",
            "Recall: 1.0\n",
            "F1-score: 1.0\n"
          ]
        }
      ]
    },
    {
      "cell_type": "markdown",
      "source": [
        "29. Write a Python program to train a Decision Tree Classifier and visualize the confusion matrix using seaborn.\n"
      ],
      "metadata": {
        "id": "ZhiUuhH7DPdJ"
      }
    },
    {
      "cell_type": "code",
      "source": [
        "from sklearn.datasets import load_iris\n",
        "from sklearn.tree import DecisionTreeClassifier\n",
        "from sklearn.model_selection import train_test_split\n",
        "from sklearn.metrics import confusion_matrix\n",
        "import seaborn as sns\n",
        "import matplotlib.pyplot as plt\n",
        "\n",
        "# Load the Iris dataset\n",
        "iris = load_iris()\n",
        "X = iris.data\n",
        "y = iris.target\n",
        "\n",
        "# Split data into training and testing sets\n",
        "X_train, X_test, y_train, y_test = train_test_split(X, y, test_size=0.3, random_state=42)\n",
        "\n",
        "# Create and train the Decision Tree Classifier\n",
        "clf = DecisionTreeClassifier()\n",
        "clf.fit(X_train, y_train)\n",
        "\n",
        "# Make predictions on the test set\n",
        "y_pred = clf.predict(X_test)\n",
        "\n",
        "# Calculate the confusion matrix\n",
        "cm = confusion_matrix(y_test, y_pred)\n",
        "\n",
        "# Visualize the confusion matrix using seaborn\n",
        "plt.figure(figsize=(8, 6))  # Adjust figure size for better visualization\n",
        "sns.heatmap(cm, annot=True, fmt=\"d\", cmap=\"Blues\", cbar=False,  # Customize heatmap\n",
        "            xticklabels=iris.target_names, yticklabels=iris.target_names) # Add class labels\n",
        "plt.xlabel(\"Predicted Label\")\n",
        "plt.ylabel(\"True Label\")\n",
        "plt.title(\"Confusion Matrix\")\n",
        "plt.show()\n",
        "\n"
      ],
      "metadata": {
        "colab": {
          "base_uri": "https://localhost:8080/",
          "height": 564
        },
        "id": "kWwKsCYdDRjw",
        "outputId": "dfe33d1b-e2ad-41de-fe6c-804dd036f8e9"
      },
      "execution_count": null,
      "outputs": [
        {
          "output_type": "display_data",
          "data": {
            "text/plain": [
              "<Figure size 800x600 with 1 Axes>"
            ],
            "image/png": "[encoded data removed]"
          },
          "metadata": {}
        }
      ]
    },
    {
      "cell_type": "markdown",
      "source": [
        "30. Write a Python program to train a Decision Tree Classifier and use GridSearchCV to find the optimal values for max_depth and min_samples_split."
      ],
      "metadata": {
        "id": "KxyLC9gTDSDs"
      }
    },
    {
      "cell_type": "code",
      "source": [
        "from sklearn.datasets import load_iris\n",
        "from sklearn.tree import DecisionTreeClassifier\n",
        "from sklearn.model_selection import train_test_split, GridSearchCV\n",
        "\n",
        "# Load the Iris dataset\n",
        "iris = load_iris()\n",
        "X = iris.data\n",
        "y = iris.target\n",
        "\n",
        "# Split data into training and testing sets\n",
        "X_train, X_test, y_train, y_test = train_test_split(X, y, test_size=0.3, random_state=42)\n",
        "\n",
        "# Define the parameter grid to search\n",
        "param_grid = {\n",
        "    'max_depth': range(1, 11),  # Try max_depth from 1 to 10 (inclusive)\n",
        "    'min_samples_split': range(2, 11) # Try min_samples_split from 2 to 10 (inclusive)\n",
        "}\n",
        "\n",
        "# Create a GridSearchCV object.  cv=5 means 5-fold cross-validation.\n",
        "grid_search = GridSearchCV(DecisionTreeClassifier(random_state=42), param_grid, cv=5, scoring='accuracy') # scoring='accuracy' for classification\n",
        "\n",
        "# Perform the grid search\n",
        "grid_search.fit(X_train, y_train)\n",
        "\n",
        "# Print the best hyperparameters found\n",
        "print(\"Best Hyperparameters:\", grid_search.best_params_)\n",
        "\n",
        "# Print the best accuracy score achieved\n",
        "print(\"Best Accuracy:\", grid_search.best_score_)\n",
        "\n",
        "# --- Evaluate the model with the best hyperparameters on the test set ---\n",
        "# Get the best estimator (the trained classifier with the best parameters)\n",
        "best_clf = grid_search.best_estimator_\n",
        "\n",
        "# Make predictions on the test set\n",
        "y_pred_best = best_clf.predict(X_test)\n",
        "\n",
        "from sklearn.metrics import accuracy_score\n",
        "test_accuracy = accuracy_score(y_test, y_pred_best)\n",
        "print(\"Test Accuracy with Best Hyperparameters:\", test_accuracy)\n",
        "\n",
        "\n"
      ],
      "metadata": {
        "colab": {
          "base_uri": "https://localhost:8080/"
        },
        "id": "_Iu0ro-1DTFd",
        "outputId": "71c34022-c547-42b2-b3b0-3e7b5fac5a3f"
      },
      "execution_count": null,
      "outputs": [
        {
          "output_type": "stream",
          "name": "stdout",
          "text": [
            "Best Hyperparameters: {'max_depth': 4, 'min_samples_split': 6}\n",
            "Best Accuracy: 0.9428571428571428\n",
            "Test Accuracy with Best Hyperparameters: 1.0\n"
          ]
        }
      ]
    },
    {
      "cell_type": "code",
      "source": [],
      "metadata": {
        "id": "gwXRT2-uJk_s"
      },
      "execution_count": null,
      "outputs": []
    }
  ]
}