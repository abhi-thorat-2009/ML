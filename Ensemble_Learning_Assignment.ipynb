{
  "nbformat": 4,
  "nbformat_minor": 0,
  "metadata": {
    "colab": {
      "provenance": []
    },
    "kernelspec": {
      "name": "python3",
      "display_name": "Python 3"
    },
    "language_info": {
      "name": "python"
    }
  },
  "cells": [
    {
      "cell_type": "markdown",
      "source": [
        "# Theoretical"
      ],
      "metadata": {
        "id": "vwhM8rm3XcaC"
      }
    },
    {
      "cell_type": "markdown",
      "source": [
        "1. Can we use Bagging for regression problems ?\n"
      ],
      "metadata": {
        "id": "Wgf5Ar4CXgdQ"
      }
    },
    {
      "cell_type": "markdown",
      "source": [
        "Yes, Bagging (Bootstrap Aggregating) can be used for regression problems. In fact, one of the most common implementations of Bagging for regression is the Bagging Regressor in scikit-learn.\n",
        "\n",
        "###How Bagging Works for Regression:\n",
        "* Multiple subsets of the training data are created using bootstrap sampling (random sampling with replacement).\n",
        "* A base regressor (e.g., Decision Tree, Linear Regression, etc.) is trained on each subset.\n",
        "* The final prediction is obtained by averaging the predictions of all base models"
      ],
      "metadata": {
        "id": "8sMdJ6ziZ5Nt"
      }
    },
    {
      "cell_type": "code",
      "execution_count": null,
      "metadata": {
        "id": "kPwOke56XVGN"
      },
      "outputs": [],
      "source": []
    },
    {
      "cell_type": "markdown",
      "source": [
        "2. What is the difference between multiple model training and single model training ?\n"
      ],
      "metadata": {
        "id": "lfxEdl4VY866"
      }
    },
    {
      "cell_type": "markdown",
      "source": [
        "The core difference between multiple model training and single model training lies in how the learning process is structured and how predictions are ultimately made. Here's a breakdown:\n",
        "\n",
        "**Single Model Training:**\n",
        "\n",
        "* **Process:**\n",
        "    * A single machine learning algorithm is trained on the entire dataset.\n",
        "    * The goal is to produce one, unified model that captures the underlying patterns in the data.\n",
        "* **Outcome:**\n",
        "    * Results in a single predictive model.\n",
        "    * Predictions are made directly by this one model.\n",
        "* **Characteristics:**\n",
        "    * Simpler to implement and understand.\n",
        "    * Potentially susceptible to overfitting if the model is too complex for the data.\n",
        "    * Performance can be heavily influenced by the specific characteristics of the training data.\n",
        "\n",
        "**Multiple Model Training:**\n",
        "\n",
        "* **Process:**\n",
        "    * Multiple instances of the same or different machine learning algorithms are trained.\n",
        "    * These models are trained on different subsets of the data (e.g., in Bagging) or in a sequential manner (e.g., in Boosting).\n",
        "    * The predictions of these individual models are then combined.\n",
        "* **Outcome:**\n",
        "    * Results in an ensemble of predictive models.\n",
        "    * Predictions are made by aggregating the outputs of the individual models (e.g., by averaging or voting).\n",
        "* **Characteristics:**\n",
        "    * Generally more robust and accurate, as it reduces variance and bias.\n",
        "    * Can be more computationally expensive.\n",
        "    * Often more complex to interpret.\n",
        "    * Example of this is ensemble learning.\n",
        "* **Key points:**\n",
        "    * **Diversity:** A crucial aspect of multiple model training is ensuring diversity among the individual models. This is achieved through techniques like bootstrap sampling or feature randomness.\n",
        "    * **Aggregation:** The method used to combine the predictions of the individual models is also important. Common aggregation methods include averaging (for regression) and voting (for classification).\n",
        "\n",
        "\n"
      ],
      "metadata": {
        "id": "Z2MtIpcealND"
      }
    },
    {
      "cell_type": "code",
      "source": [],
      "metadata": {
        "id": "u99Dvi7eY_yD"
      },
      "execution_count": null,
      "outputs": []
    },
    {
      "cell_type": "markdown",
      "source": [
        "3. Explain the concept of feature randomness in Random Forest.\n"
      ],
      "metadata": {
        "id": "YpZBGLXVZAHM"
      }
    },
    {
      "cell_type": "markdown",
      "source": [
        "The concept of feature randomness is a key component of the Random Forest algorithm, and it plays a vital role in its effectiveness. Here's a breakdown:\n",
        "\n",
        "**Understanding the Role of Feature Randomness:**\n",
        "\n",
        "* **Decision Trees and Overfitting:**\n",
        "    * Individual decision trees are prone to overfitting the training data. This means they can learn the data too well, including its noise, and perform poorly on unseen data.\n",
        "    * When building a decision tree, the algorithm typically selects the feature that provides the \"best\" split at each node. This can lead to trees that are highly correlated, as they often rely on the same dominant features.\n",
        "* **Introducing Randomness:**\n",
        "    * Random Forest addresses this by introducing randomness in two primary ways:\n",
        "        * **Bootstrap Sampling (Bagging):** Each tree is trained on a random subset of the data, created by sampling with replacement.\n",
        "        * **Feature Randomness:** At each node of a tree, instead of considering all features for the best split, the algorithm only considers a random subset of features.\n",
        "* **How Feature Randomness Works:**\n",
        "    * When a decision tree in a Random Forest is being built, and it comes time to decide how to split a node, the algorithm doesn't look at every single feature.\n",
        "    * Instead, it randomly selects a small subset of the available features.\n",
        "    * It then only considers those randomly selected features when determining the best split.\n",
        "    * This process is repeated at every node of every tree in the forest.\n",
        "* **Benefits of Feature Randomness:**\n",
        "    * **Decreased Correlation:** By limiting the features considered at each split, feature randomness helps to decorrelate the trees in the forest. This is crucial because it ensures that the trees make different kinds of errors, which can be averaged out when making predictions.\n",
        "    * **Reduced Variance:** Decorrelating the trees reduces the overall variance of the model, which helps to prevent overfitting.\n",
        "    * **Improved Generalization:** By preventing the trees from relying too heavily on any single feature, feature randomness helps the model to generalize better to unseen data.\n",
        "    * **Increased Robustness:** This technique makes the model more robust to noisy data.\n",
        "\n",
        "\n"
      ],
      "metadata": {
        "id": "jdI07rUXazy_"
      }
    },
    {
      "cell_type": "code",
      "source": [],
      "metadata": {
        "id": "PPi5FQnuZCpH"
      },
      "execution_count": null,
      "outputs": []
    },
    {
      "cell_type": "markdown",
      "source": [
        "4. What is OOB (Out-of-Bag) Score ?\n"
      ],
      "metadata": {
        "id": "2JPZHxPFZDB6"
      }
    },
    {
      "cell_type": "markdown",
      "source": [
        "The Out-of-Bag (OOB) score is a valuable method for evaluating the performance of ensemble models, particularly those that use bagging, such as Random Forests. Here's a breakdown of the concept:\n",
        "\n",
        "**Understanding the Basics:**\n",
        "\n",
        "* **Bagging and Bootstrap Sampling:**\n",
        "    * Bagging (Bootstrap Aggregating) involves creating multiple subsets of the training data by sampling with replacement. This means some data points will be included multiple times in a subset, while others will be left out.\n",
        "    * These left-out data points are what we call \"out-of-bag\" samples.\n",
        "* **OOB Samples:**\n",
        "    * For each tree in a Random Forest (or other bagging ensemble), there will be a portion of the original training data that was not used to train that specific tree. These unused data points are the OOB samples for that tree.\n",
        "* **OOB Score Calculation:**\n",
        "    * The OOB score leverages these OOB samples to estimate the model's performance without needing a separate validation set.\n",
        "    * Here's how it works:\n",
        "        * For each data point in the original training set, identify the trees that did *not* use that data point in their training.\n",
        "        * Use those trees to predict the outcome for that data point.\n",
        "        * Aggregate these predictions (e.g., majority vote for classification, average for regression).\n",
        "        * Compare the aggregated prediction to the actual outcome to assess accuracy.\n",
        "        * The OOB score represents the overall accuracy of these predictions across all data points.\n",
        "\n",
        "**Key Advantages:**\n",
        "\n",
        "* **Efficient Evaluation:**\n",
        "    * It provides an inherent validation method, eliminating the need for a separate validation set. This is particularly useful when data is limited.\n",
        "* **Unbiased Estimate:**\n",
        "    * Because the OOB samples were not used in the training of the respective trees, the OOB score provides a relatively unbiased estimate of the model's generalization performance.\n",
        "\n"
      ],
      "metadata": {
        "id": "vEUwLViubBWu"
      }
    },
    {
      "cell_type": "code",
      "source": [],
      "metadata": {
        "id": "gpgNjM9YZFvr"
      },
      "execution_count": null,
      "outputs": []
    },
    {
      "cell_type": "markdown",
      "source": [
        "5. How can you measure the importance of features in a Random Forest model ?\n"
      ],
      "metadata": {
        "id": "3KRGmjcJZGFZ"
      }
    },
    {
      "cell_type": "markdown",
      "source": [
        "Random Forest provides valuable insights into feature importance, helping you understand which variables contribute most significantly to your model's predictions. Here's a breakdown of the primary methods:\n",
        "\n",
        "**1. Mean Decrease Impurity (Gini Importance):**\n",
        "\n",
        "* **How it works:**\n",
        "    * This method measures how much each feature contributes to reducing impurity (e.g., Gini impurity or entropy) within the decision trees of the forest.\n",
        "    * When a feature is used to split a node, it reduces the impurity of that node. The more a feature reduces impurity across all trees, the more important it's considered.\n",
        "    * Essentially, it tallies up how much each feature helps to create purer nodes in the trees.\n",
        "* **Key points:**\n",
        "    * It's calculated during the training process, making it computationally efficient.\n",
        "    * It can sometimes favor features with high cardinality (many unique values).\n",
        "    * This is readily available in the scikit-learn library in python, via the \"feature_importances_\" attribute of the random forest object.\n",
        "* **Use case:**\n",
        "    * This is very quick to calculate, and gives a good general overview of feature importance.\n",
        "\n",
        "**2. Mean Decrease Accuracy (Permutation Importance):**\n",
        "\n",
        "* **How it works:**\n",
        "    * This method assesses feature importance by measuring how much the model's accuracy decreases when a feature's values are randomly permuted (shuffled).\n",
        "    * If shuffling a feature's values significantly reduces accuracy, it indicates that the feature is crucial for the model's predictions.\n",
        "    * In essence, it tests how much the model relies on each feature.\n",
        "* **Key points:**\n",
        "    * It's generally considered more reliable than Gini importance, especially when dealing with correlated features.\n",
        "    * It can be computationally more expensive.\n",
        "    * This is also available within scikit-learn, via the \"permutation_importance\" function.\n",
        "* **Use case:**\n",
        "    * This method is better for getting a more accurate representation of how important a feature is to the model's performance.\n",
        "\n",
        "**In Summary:**\n",
        "\n",
        "* Both methods provide valuable insights, but they approach feature importance from different angles.\n",
        "* Gini importance is efficient and provides a quick overview.\n",
        "* Permutation importance is more robust and accurate, especially when dealing with complex datasets.\n",
        "\n",
        "When working with Random Forest, it's often beneficial to use both methods to gain a comprehensive understanding of feature importance.\n"
      ],
      "metadata": {
        "id": "DSXWq8oQbVUs"
      }
    },
    {
      "cell_type": "code",
      "source": [],
      "metadata": {
        "id": "1CeYbcc7ZIYi"
      },
      "execution_count": null,
      "outputs": []
    },
    {
      "cell_type": "markdown",
      "source": [
        "6. Explain the working principle of a Bagging Classifier.\n"
      ],
      "metadata": {
        "id": "zOL-bVrRZI6K"
      }
    },
    {
      "cell_type": "markdown",
      "source": [
        "The Bagging Classifier, short for Bootstrap Aggregating Classifier, is an ensemble learning technique designed to improve the stability and accuracy of machine learning algorithms used for classification. Here's a breakdown of its working principle:\n",
        "\n",
        "**Core Concepts:**\n",
        "\n",
        "* **Bootstrap Sampling:**\n",
        "    * The foundation of Bagging is \"bootstrap sampling.\" This involves creating multiple subsets of the original training data by randomly sampling with replacement.\n",
        "    * \"With replacement\" means that a data point can be selected multiple times within a single subset. Therefore, some data points may appear more than once, while others may be left out entirely.\n",
        "    * This process generates diverse training sets, as each subset will have a slightly different composition.\n",
        "* **Base Classifiers:**\n",
        "    * Bagging utilizes \"base classifiers,\" which are the individual machine learning models that are trained on each bootstrap sample.\n",
        "    * Typically, the same type of classifier is used for all subsets (e.g., decision trees).\n",
        "    * These base classifiers are often considered \"weak learners\" because they may have high variance and be prone to overfitting.\n",
        "* **Parallel Training:**\n",
        "    * Each base classifier is trained independently on its respective bootstrap sample. This allows for parallel processing, which can significantly speed up the training process.\n",
        "* **Aggregation (Voting):**\n",
        "    * Once all the base classifiers are trained, the Bagging Classifier aggregates their predictions to make a final prediction.\n",
        "    * For classification problems, the most common aggregation method is \"majority voting.\" This means that the class that receives the most votes from the base classifiers is chosen as the final prediction.\n",
        "\n",
        "**Step-by-Step Process:**\n",
        "\n",
        "1.  **Create Bootstrap Samples:**\n",
        "    * Generate multiple bootstrap samples from the original training dataset.\n",
        "2.  **Train Base Classifiers:**\n",
        "    * Train a base classifier on each of the bootstrap samples.\n",
        "3.  **Aggregate Predictions:**\n",
        "    * When making a prediction on a new data point, each base classifier provides its prediction.\n",
        "    * The Bagging Classifier then uses majority voting to determine the final prediction.\n",
        "\n",
        "**Key Benefits:**\n",
        "\n",
        "* **Reduced Variance:**\n",
        "    * By training on multiple subsets of the data and aggregating the predictions, Bagging reduces the variance of the model, which helps to prevent overfitting.\n",
        "* **Improved Accuracy:**\n",
        "    * Combining the predictions of multiple models often leads to better accuracy than a single model.\n",
        "* **Increased Robustness:**\n",
        "    * Bagging makes the model more robust to noisy data and outliers.\n",
        "\n"
      ],
      "metadata": {
        "id": "57qsLxbpbrf1"
      }
    },
    {
      "cell_type": "code",
      "source": [],
      "metadata": {
        "id": "G32NaIXjZLhs"
      },
      "execution_count": null,
      "outputs": []
    },
    {
      "cell_type": "markdown",
      "source": [
        "7. How do you evaluate a Bagging Classifier’s performance ?\n"
      ],
      "metadata": {
        "id": "eZEbZnLqZMKc"
      }
    },
    {
      "cell_type": "markdown",
      "source": [
        "Evaluating the performance of a Bagging Classifier is crucial to understand how well it's generalizing to unseen data. Here's a breakdown of the common evaluation methods:\n",
        "\n",
        "**1. Out-of-Bag (OOB) Score:**\n",
        "\n",
        "* **How it works:**\n",
        "    * As explained earlier, OOB samples are the data points that were not included in the bootstrap sample used to train a specific tree.\n",
        "    * The OOB score calculates the accuracy of the classifier on these OOB samples, essentially using them as a built-in validation set.\n",
        "    * This is very effective, and saves the user from having to split the training data to create a validation set.\n",
        "* **Advantages:**\n",
        "    * Provides an unbiased estimate of generalization performance.\n",
        "    * Efficient, as it leverages the data already used in the bagging process.\n",
        "* **When to use:**\n",
        "    * Especially useful when data is limited.\n",
        "\n",
        "**2. Cross-Validation:**\n",
        "\n",
        "* **How it works:**\n",
        "    * Techniques like k-fold cross-validation split the training data into k subsets (folds).\n",
        "    * The model is trained on k-1 folds and evaluated on the remaining fold, and this process is repeated k times.\n",
        "    * The performance metrics are then averaged across the k folds.\n",
        "* **Advantages:**\n",
        "    * Provides a more robust estimate of performance by averaging across multiple splits.\n",
        "    * Helps to detect overfitting.\n",
        "* **When to use:**\n",
        "    * Standard practice for evaluating model performance, especially when you need a reliable estimate of how well the model will perform on unseen data.\n",
        "\n",
        "**3. Standard Classification Metrics:**\n",
        "\n",
        "* **Accuracy:**\n",
        "    * The proportion of correctly classified instances.\n",
        "* **Precision:**\n",
        "    * The proportion of correctly predicted positive instances out of all instances predicted as positive.\n",
        "* **Recall (Sensitivity):**\n",
        "    * The proportion of correctly predicted positive instances out of all actual positive instances.\n",
        "* **F1-Score:**\n",
        "    * The harmonic mean of precision and recall, providing a balanced measure.\n",
        "* **ROC AUC (Area Under the Receiver Operating Characteristic Curve):**\n",
        "    * Measures the model's ability to distinguish between classes, especially useful for imbalanced datasets.\n",
        "* **Confusion Matrix:**\n",
        "    * A table that shows the number of correct and incorrect predictions for each class, providing detailed insights into the model's performance.\n",
        "* **When to use:**\n",
        "    * These metrics are used in all classification problems, and you choose the metrics that are most important to the problem you are trying to solve. For example, if false negatives are very costly, you would focus on recall.\n",
        "\n",
        "**Key Considerations:**\n",
        "\n",
        "* **Imbalanced Datasets:**\n",
        "    * If your dataset has an imbalanced class distribution, accuracy alone can be misleading. Consider using metrics like precision, recall, F1-score, and ROC AUC.\n",
        "* **Problem Context:**\n",
        "    * The best evaluation metrics depend on the specific problem you're trying to solve. Choose metrics that align with your goals and priorities.\n",
        "* **Scikit-learn:**\n",
        "    * The scikit-learn library in Python provides convenient functions for calculating all of these evaluation metrics.\n",
        "\n"
      ],
      "metadata": {
        "id": "3_MjoBygb299"
      }
    },
    {
      "cell_type": "code",
      "source": [],
      "metadata": {
        "id": "VaVAJUvxZPJk"
      },
      "execution_count": null,
      "outputs": []
    },
    {
      "cell_type": "markdown",
      "source": [
        "8. How does a Bagging Regressor work ?\n"
      ],
      "metadata": {
        "id": "LtzcXdk6ZPi2"
      }
    },
    {
      "cell_type": "markdown",
      "source": [
        "A Bagging Regressor follows a very similar principle to a Bagging Classifier, but it's tailored for regression tasks (predicting continuous values). Here's a breakdown of how it works:\n",
        "\n",
        "**Core Concepts:**\n",
        "\n",
        "* **Bootstrap Sampling:**\n",
        "    * Just like in Bagging Classification, the Bagging Regressor starts by creating multiple bootstrap samples from the training data. This involves randomly sampling data points with replacement, resulting in diverse subsets of the original data.\n",
        "* **Base Regressors:**\n",
        "    * Instead of training classifiers, the Bagging Regressor trains multiple base regressors on each bootstrap sample. These are typically the same type of regression model (e.g., decision tree regressors).\n",
        "    * These base regressors are often \"weak learners\" that might have high variance.\n",
        "* **Parallel Training:**\n",
        "    * Each base regressor is trained independently on its corresponding bootstrap sample, enabling parallel processing.\n",
        "* **Aggregation (Averaging):**\n",
        "    * The key difference lies in how the predictions are aggregated. For regression, the Bagging Regressor typically averages the predictions of all the base regressors.\n",
        "    * This means that when making a prediction for a new data point, each base regressor provides its predicted continuous value, and these values are then averaged to produce the final prediction.\n",
        "\n",
        "**Step-by-Step Process:**\n",
        "\n",
        "1.  **Create Bootstrap Samples:**\n",
        "    * Generate multiple bootstrap samples from the training dataset.\n",
        "2.  **Train Base Regressors:**\n",
        "    * Train a base regressor on each bootstrap sample.\n",
        "3.  **Aggregate Predictions:**\n",
        "    * When making a prediction on a new data point, each base regressor provides its predicted value.\n",
        "    * The Bagging Regressor then calculates the average of these predicted values to produce the final prediction.\n",
        "\n",
        "**Key Benefits:**\n",
        "\n",
        "* **Reduced Variance:**\n",
        "    * By training on multiple subsets and averaging the predictions, the Bagging Regressor reduces the variance of the model, leading to more stable and reliable predictions.\n",
        "* **Improved Accuracy:**\n",
        "    * Averaging the predictions of multiple regressors often results in better overall accuracy compared to a single regressor.\n",
        "* **Increased Robustness:**\n",
        "    * The Bagging Regressor is more robust to noisy data and outliers.\n",
        "\n",
        "\n"
      ],
      "metadata": {
        "id": "Wjbgje4FcCY2"
      }
    },
    {
      "cell_type": "code",
      "source": [],
      "metadata": {
        "id": "kV7aKQ3zZR42"
      },
      "execution_count": null,
      "outputs": []
    },
    {
      "cell_type": "markdown",
      "source": [
        "9. What is the main advantage of ensemble techniques ?\n"
      ],
      "metadata": {
        "id": "jqs_D0prZSPQ"
      }
    },
    {
      "cell_type": "markdown",
      "source": [
        "The main advantage of ensemble techniques is their ability to **improve prediction performance** by combining the strengths of multiple models. This improvement generally manifests in two key ways:\n",
        "\n",
        "* **Reduced Variance:**\n",
        "    * Ensemble methods, particularly bagging, reduce the variance of predictions. This means the model's predictions are less sensitive to small fluctuations in the training data, leading to more stable and consistent results.\n",
        "* **Reduced Bias:**\n",
        "    * Ensemble methods, particularly boosting, reduce the bias of predictions. This means the model is better able to capture the underlying patterns in the data, even if individual models are relatively simple.\n",
        "\n",
        "Here's a more comprehensive breakdown:\n",
        "\n",
        "* **Increased Accuracy:**\n",
        "    * By combining the predictions of multiple models, ensemble techniques often achieve higher accuracy than any single model could achieve on its own.\n",
        "* **Improved Robustness:**\n",
        "    * Ensemble models are generally more robust to noisy data and outliers, as the errors of individual models tend to cancel each other out.\n",
        "* **Enhanced Generalization:**\n",
        "    * Ensemble methods help models generalize better to unseen data, reducing the risk of overfitting.\n",
        "* **Better Handling of Complex Data:**\n",
        "    * Ensemble techniques can effectively handle complex datasets with intricate relationships between features.\n",
        "\n",
        "\n"
      ],
      "metadata": {
        "id": "tyUYyWJRcQ4x"
      }
    },
    {
      "cell_type": "code",
      "source": [],
      "metadata": {
        "id": "Gtaya-UrZVA2"
      },
      "execution_count": null,
      "outputs": []
    },
    {
      "cell_type": "markdown",
      "source": [
        "10. What is the main challenge of ensemble methods ?\n"
      ],
      "metadata": {
        "id": "MmwNL18CZVd2"
      }
    },
    {
      "cell_type": "markdown",
      "source": [
        "While ensemble methods offer significant advantages, they also come with certain challenges. The main challenge is **increased complexity**, which manifests in several ways:\n",
        "\n",
        "* **Computational Cost:**\n",
        "    * Training multiple models, especially with large datasets, can be computationally expensive. This is particularly true for boosting methods, which train models sequentially.\n",
        "    * The time required for both training and prediction can be significantly higher compared to single models.\n",
        "* **Reduced Interpretability:**\n",
        "    * Ensemble models, especially those with many base learners, can be very complex and difficult to interpret.\n",
        "    * Understanding how the ensemble arrives at a particular prediction can be challenging, making it difficult to gain insights into the underlying relationships in the data.\n",
        "* **Increased Memory Usage:**\n",
        "    * Storing multiple models requires more memory than storing a single model.\n",
        "* **Potential for Overfitting (in some cases):**\n",
        "    * While ensemble methods are generally good at reducing overfitting, if not used correctly, they can overfit. For example, if boosting is run for too many rounds, it can start to overfit the training data.\n",
        "* **Complexity of Tuning:**\n",
        "    * Ensemble methods often have more hyperparameters to tune than single models. This can make the model selection and optimization process more complex.\n",
        "* **Difficulty in real time applications:**\n",
        "    * Due to the computational complexity, it can be difficult to use some ensemble methods in real time applications, where predictions are needed very fast.\n",
        "\n"
      ],
      "metadata": {
        "id": "F1qTw4qjcdNN"
      }
    },
    {
      "cell_type": "code",
      "source": [],
      "metadata": {
        "id": "Pa3tTsq0ZYRL"
      },
      "execution_count": null,
      "outputs": []
    },
    {
      "cell_type": "markdown",
      "source": [
        "11. Explain the key idea behind ensemble techniques.\n"
      ],
      "metadata": {
        "id": "A636GlLXZYrL"
      }
    },
    {
      "cell_type": "markdown",
      "source": [
        "The key idea behind ensemble techniques is to **combine the predictive power of multiple individual models to create a more robust and accurate overall model**. This is based on the principle that \"the wisdom of the crowd\" often outperforms the judgment of a single expert.\n",
        "\n",
        "Here's a breakdown of the core concepts:\n",
        "\n",
        "* **Diversity:**\n",
        "    * Ensemble methods strive to create a collection of diverse models. This diversity is crucial because it ensures that the models make different kinds of errors.\n",
        "    * Diversity is achieved through various techniques, such as:\n",
        "        * **Bootstrap sampling (Bagging):** Training models on different subsets of the data.\n",
        "        * **Feature randomness (Random Forest):** Training models on different subsets of features.\n",
        "        * **Sequential learning (Boosting):** Training models to correct the errors of previous models.\n",
        "* **Aggregation:**\n",
        "    * Once the individual models are trained, their predictions are combined to produce a final prediction.\n",
        "    * Common aggregation methods include:\n",
        "        * **Voting (Classification):** Selecting the class that receives the most votes from the individual models.\n",
        "        * **Averaging (Regression):** Calculating the average of the predictions from the individual models.\n",
        "        * **Weighted averaging/voting (Stacking, Boosting):** Giving more weight to the predictions of more accurate models.\n",
        "* **Error Reduction:**\n",
        "    * By combining the predictions of diverse models, ensemble methods can effectively reduce both bias and variance.\n",
        "        * **Variance reduction (Bagging):** Averaging out the errors of individual models reduces the overall variance of the ensemble.\n",
        "        * **Bias reduction (Boosting):** Sequentially training models to correct errors reduces the overall bias of the ensemble.\n",
        "\n",
        "In essence, ensemble techniques aim to create a \"super model\" by leveraging the strengths of multiple \"weak\" or moderately good models. The goal is to create a model that is more accurate, robust, and reliable than any single model could achieve on its own.\n"
      ],
      "metadata": {
        "id": "UqxS-hJkcsql"
      }
    },
    {
      "cell_type": "code",
      "source": [],
      "metadata": {
        "id": "MtN2WxgXZbpo"
      },
      "execution_count": null,
      "outputs": []
    },
    {
      "cell_type": "markdown",
      "source": [
        "12. What is a Random Forest Classifier ?\n"
      ],
      "metadata": {
        "id": "8VCLHOW9Zb_0"
      }
    },
    {
      "cell_type": "markdown",
      "source": [
        "A Random Forest Classifier is a powerful and widely used ensemble learning method for classification tasks. It operates by constructing a multitude of decision trees at training time and outputting the class that is the mode of the classes (classification) or mean prediction (regression) of the individual trees.\n",
        "\n",
        "Here's a breakdown of its key features and how it works:\n",
        "\n",
        "**Key Characteristics:**\n",
        "\n",
        "* **Ensemble Method:**\n",
        "    * It's an ensemble method, meaning it combines the predictions of multiple models to improve overall performance.\n",
        "* **Decision Trees:**\n",
        "    * It's built upon decision trees, which are tree-like structures that make decisions based on features.\n",
        "* **Randomness:**\n",
        "    * It introduces randomness in two primary ways:\n",
        "        * **Bootstrap Sampling (Bagging):** Each decision tree is trained on a random subset of the training data, created by sampling with replacement. This means some data points may be included multiple times, while others may be left out.\n",
        "        * **Feature Randomness:** When building each tree, at each node, only a random subset of features is considered for splitting. This adds further diversity to the trees.\n",
        "* **Aggregation:**\n",
        "    * For classification, the Random Forest aggregates the predictions of all the individual decision trees through majority voting. The class that receives the most votes is the final prediction.\n",
        "\n",
        "**How it Works:**\n",
        "\n",
        "1.  **Bootstrap Sampling:**\n",
        "    * Create multiple bootstrap samples (random samples with replacement) from the training data.\n",
        "2.  **Decision Tree Construction:**\n",
        "    * For each bootstrap sample, build a decision tree.\n",
        "    * At each node of the tree, instead of considering all features for the best split, randomly select a subset of features.\n",
        "    * Choose the best split from this random subset.\n",
        "    * Grow each tree to its maximum size (or until a stopping criterion is met).\n",
        "3.  **Aggregation (Voting):**\n",
        "    * When making a prediction on a new data point, each decision tree in the forest provides its classification prediction.\n",
        "    * The Random Forest Classifier then uses majority voting to determine the final prediction.\n",
        "\n",
        "**Advantages:**\n",
        "\n",
        "* **High Accuracy:**\n",
        "    * It often achieves high accuracy, even with complex datasets.\n",
        "* **Reduced Overfitting:**\n",
        "    * The randomness introduced through bootstrap sampling and feature randomness helps to reduce overfitting.\n",
        "* **Robustness:**\n",
        "    * It's robust to noisy data and outliers.\n",
        "* **Feature Importance:**\n",
        "    * It provides a measure of feature importance, which can be useful for feature selection.\n",
        "* **Handles both categorical and numerical data.**\n",
        "\n",
        "**In summary:**\n",
        "\n",
        "The Random Forest Classifier is a robust and effective ensemble method that leverages the power of multiple decision trees and randomness to achieve high accuracy and reduce overfitting.\n"
      ],
      "metadata": {
        "id": "ocSGLcKYc17k"
      }
    },
    {
      "cell_type": "code",
      "source": [],
      "metadata": {
        "id": "Q8PVtYCxZeOQ"
      },
      "execution_count": null,
      "outputs": []
    },
    {
      "cell_type": "markdown",
      "source": [
        "13. What are the main types of ensemble techniques ?\n"
      ],
      "metadata": {
        "id": "uBQ4nqYlZehx"
      }
    },
    {
      "cell_type": "markdown",
      "source": [
        "The main types of ensemble techniques can be broadly categorized into three main approaches:\n",
        "\n",
        "1.  **Bagging (Bootstrap Aggregating):**\n",
        "    * This technique involves training multiple instances of the same base learner on different subsets of the training data.\n",
        "    * The subsets are created using bootstrap sampling (random sampling with replacement).\n",
        "    * The predictions of the individual models are then aggregated, typically by voting (for classification) or averaging (for regression).\n",
        "    * Bagging primarily aims to reduce variance, which helps to prevent overfitting.\n",
        "    * A prominent example is the Random Forest algorithm.\n",
        "\n",
        "2.  **Boosting:**\n",
        "    * Boosting involves training models sequentially, where each subsequent model tries to correct the errors of the previous ones.\n",
        "    * The models are typically weak learners (models that perform slightly better than random guessing).\n",
        "    * Boosting focuses on reducing bias, which helps to improve the model's ability to capture complex patterns in the data.\n",
        "    * Examples include AdaBoost, Gradient Boosting, XGBoost, and LightGBM.\n",
        "\n",
        "3.  **Stacking (Stacked Generalization):**\n",
        "    * Stacking involves training multiple different base learners and then training a \"meta-learner\" to combine their predictions.\n",
        "    * The meta-learner takes the predictions of the base learners as input and produces the final prediction.\n",
        "    * Stacking aims to leverage the strengths of different models and improve overall performance.\n",
        "    * It can be more complex to implement than bagging or boosting.\n",
        "\n",
        "Here's a quick summary table:\n",
        "\n",
        "| Technique | Main Goal | How it Works | Examples |\n",
        "| :-------- | :-------- | :----------- | :------- |\n",
        "| Bagging   | Reduce Variance | Parallel training, bootstrap sampling, aggregation | Random Forest |\n",
        "| Boosting  | Reduce Bias | Sequential training, error correction | AdaBoost, Gradient Boosting, XGBoost |\n",
        "| Stacking  | Combine Strengths | Meta-learner, multiple base learners | Stacked Models |\n"
      ],
      "metadata": {
        "id": "gL3CtLdZc91P"
      }
    },
    {
      "cell_type": "code",
      "source": [],
      "metadata": {
        "id": "uV7iHpdVZg8Q"
      },
      "execution_count": null,
      "outputs": []
    },
    {
      "cell_type": "markdown",
      "source": [
        "14. What is ensemble learning in machine learning ?\n"
      ],
      "metadata": {
        "id": "DbcsGvRLZhjp"
      }
    },
    {
      "cell_type": "markdown",
      "source": [
        "Ensemble learning in machine learning is a technique that combines the predictions of multiple individual models to produce a final prediction that is more accurate and robust than any of the individual models alone. It's based on the principle that \"the wisdom of the crowd\" often outperforms the judgment of a single expert.\n",
        "\n",
        "Here's a breakdown of the key aspects:\n",
        "\n",
        "**Core Idea:**\n",
        "\n",
        "* Instead of relying on a single model, ensemble learning trains multiple models and then aggregates their predictions.\n",
        "* This aggregation can be done through various methods, such as voting (for classification) or averaging (for regression).\n",
        "\n",
        "**Benefits:**\n",
        "\n",
        "* **Improved Accuracy:** Ensemble methods often achieve higher accuracy than single models, especially for complex problems.\n",
        "* **Increased Robustness:** They are more robust to noisy data and outliers, as the errors of individual models tend to cancel each other out.\n",
        "* **Enhanced Generalization:** They help models generalize better to unseen data, reducing the risk of overfitting.\n",
        "* **Reduced Variance and Bias:** Depending on the technique used, ensemble methods can reduce both the variance (sensitivity to small fluctuations in the training data) and bias (systematic errors) of the model.\n",
        "\n",
        "**Key Components:**\n",
        "\n",
        "* **Base Learners:** These are the individual models that are combined in the ensemble. They can be the same type of model or different types.\n",
        "* **Aggregation Method:** This is the method used to combine the predictions of the base learners. Common methods include:\n",
        "    * **Voting:** In classification, each base learner \"votes\" for a class, and the class with the most votes is chosen.\n",
        "    * **Averaging:** In regression, the predictions of the base learners are averaged to produce the final prediction.\n",
        "    * **Weighted Averaging/Voting:** Some models predictions are given more weight than others.\n",
        "* **Diversity:** The base learners in an ensemble should be diverse, meaning they should make different kinds of errors. This diversity is crucial for the ensemble to be effective.\n",
        "\n",
        "**Common Ensemble Techniques:**\n",
        "\n",
        "* **Bagging (Bootstrap Aggregating):** Trains multiple models on different subsets of the data and aggregates their predictions.\n",
        "* **Boosting:** Trains models sequentially, where each subsequent model tries to correct the errors of the previous ones.\n",
        "* **Stacking:** Trains a meta-model to combine the predictions of multiple base models.\n",
        "\n",
        "In essence, ensemble learning is a powerful approach that leverages the strengths of multiple models to create a more accurate and reliable prediction.\n"
      ],
      "metadata": {
        "id": "XyY8Jcz9dFK8"
      }
    },
    {
      "cell_type": "code",
      "source": [],
      "metadata": {
        "id": "ClGAp1l-ZkBL"
      },
      "execution_count": null,
      "outputs": []
    },
    {
      "cell_type": "markdown",
      "source": [
        "15. When should we avoid using ensemble methods ?\n"
      ],
      "metadata": {
        "id": "l6_Plg8pZkWW"
      }
    },
    {
      "cell_type": "markdown",
      "source": [
        "While ensemble methods are powerful, they're not always the best choice. Here are scenarios where you might want to avoid using them:\n",
        "\n",
        "* **When Interpretability Is Crucial:**\n",
        "    * Ensemble models, especially complex ones like deep boosted trees or stacked models, can be very difficult to interpret. If you need to understand *why* a model is making a particular prediction (e.g., in medical diagnosis or legal applications), a simpler, more interpretable model might be preferable.\n",
        "* **When Computational Resources Are Limited:**\n",
        "    * Training multiple models can be computationally expensive, especially with large datasets. If you have limited processing power or time, ensemble methods might not be feasible.\n",
        "* **When Real-Time Predictions Are Required:**\n",
        "    * If you need to make predictions very quickly (e.g., in real-time applications like fraud detection or online advertising), the computational overhead of ensemble methods might be a bottleneck.\n",
        "* **When the Dataset Is Very Small:**\n",
        "    * Ensemble methods often require a substantial amount of data to train effectively. With very small datasets, the models might overfit or fail to capture meaningful patterns.\n",
        "* **When the Base Model Is Already Very Strong:**\n",
        "    * If your base model is already achieving very high performance, the added complexity of an ensemble might not yield significant improvements. In such cases, the extra effort might not be justified.\n",
        "* **When Simplicity Is Preferred:**\n",
        "    * Sometimes, a simpler model is preferable, even if it has slightly lower accuracy. If you value simplicity and ease of implementation, a single model might be a better choice.\n",
        "* **When Development Time is heavily restricted:**\n",
        "    * Ensemble methods, particularly those that require tuning of many hyperparameters, can take significantly longer to develop than a single model. If time is a strong constraint, a single model may be more appropriate.\n",
        "* **When the underlying problem is very simple:**\n",
        "    * If the underlying problem that you are trying to solve is very simple, and linear, then a linear model will likely out perform an ensemble method.\n",
        "\n",
        "In essence, weigh the benefits of improved performance against the costs of increased complexity, computational resources, and interpretability.\n"
      ],
      "metadata": {
        "id": "HlxKsqsQdNWA"
      }
    },
    {
      "cell_type": "code",
      "source": [],
      "metadata": {
        "id": "GHJfEEkpZm-E"
      },
      "execution_count": null,
      "outputs": []
    },
    {
      "cell_type": "markdown",
      "source": [
        "16. How does Bagging help in reducing overfitting ?\n"
      ],
      "metadata": {
        "id": "FzhHcZ_EZnYV"
      }
    },
    {
      "cell_type": "markdown",
      "source": [
        "Bagging, or Bootstrap Aggregating, is a powerful technique that significantly reduces overfitting in machine learning models. Here's how it achieves this:\n",
        "\n",
        "**1. Bootstrap Sampling Creates Diverse Training Sets:**\n",
        "\n",
        "* **Random Subsets:** Bagging generates multiple training subsets by randomly sampling data points from the original dataset *with replacement*. This means some data points might appear multiple times in a subset, while others might be left out.\n",
        "* **Diversity:** Each bootstrap sample is slightly different, creating diverse training sets. This diversity is crucial for reducing overfitting.\n",
        "\n",
        "**2. Training Multiple Models Reduces Variance:**\n",
        "\n",
        "* **Independent Training:** Each bootstrap sample is used to train a separate instance of the base model (e.g., a decision tree). These models are trained independently of each other.\n",
        "* **Variance Reduction:** Individual models, especially complex ones like deep decision trees, tend to have high variance. This means they are very sensitive to small fluctuations in the training data and can overfit.\n",
        "* **Averaging Effect:** By training multiple models on different subsets and then aggregating their predictions (averaging for regression, voting for classification), Bagging reduces the overall variance of the ensemble. The errors made by individual models tend to cancel each other out, leading to a more stable and less variable prediction.\n",
        "\n",
        "**3. Smoothing Out Predictions:**\n",
        "\n",
        "* **Less Sensitivity to Noise:** The aggregation process smooths out the predictions, making the ensemble less sensitive to noise and outliers in the training data.\n",
        "* **Generalization:** This smoothing effect helps the model generalize better to unseen data, as it's less likely to be influenced by specific, noisy patterns in the training set.\n",
        "\n",
        "**In essence:**\n",
        "\n",
        "* Bagging creates multiple versions of the model, each trained on a slightly different view of the data.\n",
        "* By aggregating the predictions of these diverse models, it reduces the impact of any single model's tendency to overfit the training data.\n",
        "* This results in a more robust and generalized model that performs better on unseen data.\n"
      ],
      "metadata": {
        "id": "N6eQCeOKdU94"
      }
    },
    {
      "cell_type": "code",
      "source": [],
      "metadata": {
        "id": "CBnNDsjGZrzQ"
      },
      "execution_count": null,
      "outputs": []
    },
    {
      "cell_type": "markdown",
      "source": [
        "17. Why is Random Forest better than a single Decision Tree ?\n"
      ],
      "metadata": {
        "id": "OiDvG6geZsLd"
      }
    },
    {
      "cell_type": "markdown",
      "source": [
        "Random Forest generally outperforms a single Decision Tree due to several key advantages that stem from its ensemble nature and the introduction of randomness. Here's a breakdown:\n",
        "\n",
        "**1. Reduced Overfitting:**\n",
        "\n",
        "* **Decision Tree Vulnerability:** Single decision trees are highly prone to overfitting, especially when they grow deep. They can memorize the training data, including its noise, leading to poor performance on unseen data.\n",
        "* **Random Forest Mitigation:**\n",
        "    * **Bootstrap Sampling:** Creates diverse training sets, preventing individual trees from memorizing the entire training data.\n",
        "    * **Feature Randomness:** Limits the features considered at each split, further decorrelating the trees and reducing their tendency to overfit.\n",
        "    * By averaging the predictions of many decorrelated trees, Random Forest significantly reduces overfitting.\n",
        "\n",
        "**2. Improved Accuracy:**\n",
        "\n",
        "* **Ensemble Power:** Combining the predictions of multiple trees, each with slightly different perspectives on the data, leads to a more accurate and robust prediction.\n",
        "* **Reduced Variance:** The averaging effect of the ensemble reduces the variance of the predictions, resulting in a more stable and accurate model.\n",
        "\n",
        "**3. Increased Robustness:**\n",
        "\n",
        "* **Noise and Outliers:** Random Forest is more robust to noisy data and outliers. The averaging process minimizes the impact of individual noisy data points.\n",
        "* **Feature Importance:** Random Forest provides a reliable measure of feature importance, which can be useful for feature selection and understanding the data.\n",
        "\n",
        "**4. Better Generalization:**\n",
        "\n",
        "* **Unseen Data:** Random Forest typically generalizes better to unseen data compared to a single decision tree.\n",
        "* **Diverse Perspectives:** Because each tree is trained on a different subset of the data and considers a different subset of features, the ensemble captures a wider range of patterns in the data, leading to better generalization.\n",
        "\n",
        "**5. Handles High-Dimensional Data:**\n",
        "\n",
        "* Random forest is able to handle datasets with a large number of features reasonably well.\n",
        "\n",
        "**In summary:**\n",
        "\n",
        "* A single decision tree is like a single opinion, it can be very wrong.\n",
        "* Random forest is like many opinions, the average of those opinions is much more likely to be correct.\n",
        "\n",
        "While a single decision tree can be simple and interpretable, Random Forest's ensemble approach provides a substantial improvement in prediction performance and robustness.\n"
      ],
      "metadata": {
        "id": "SC6atLXpdcfj"
      }
    },
    {
      "cell_type": "code",
      "source": [],
      "metadata": {
        "id": "YNPl1udyZvCZ"
      },
      "execution_count": null,
      "outputs": []
    },
    {
      "cell_type": "markdown",
      "source": [
        "18. What is the role of bootstrap sampling in Bagging ?\n"
      ],
      "metadata": {
        "id": "NJUSKlvLZveP"
      }
    },
    {
      "cell_type": "markdown",
      "source": [
        "Bootstrap sampling plays a fundamental and crucial role in the Bagging (Bootstrap Aggregating) ensemble method. Here's a breakdown of its key functions:\n",
        "\n",
        "**1. Creating Diverse Training Sets:**\n",
        "\n",
        "* **Sampling with Replacement:**\n",
        "    * Bootstrap sampling involves randomly drawing data points from the original training dataset *with replacement*. This means that a data point can be selected multiple times in a single sample, while other data points might be left out.\n",
        "* **Generating Variability:**\n",
        "    * This process creates multiple training subsets that are slightly different from each other. Each subset will have a unique composition of data points.\n",
        "* **Introducing Diversity:**\n",
        "    * This inherent variability in the training sets is essential for creating diverse base models within the Bagging ensemble.\n",
        "\n",
        "**2. Reducing Variance:**\n",
        "\n",
        "* **Training Independent Models:**\n",
        "    * Each bootstrap sample is used to train an independent instance of the base model (e.g., decision tree).\n",
        "* **Averaging Effect:**\n",
        "    * When the predictions of these diverse models are aggregated (averaged for regression, voted for classification), the errors made by individual models tend to cancel each other out.\n",
        "* **Stabilizing Predictions:**\n",
        "    * This averaging effect reduces the overall variance of the ensemble, making the predictions more stable and less sensitive to fluctuations in the training data.\n",
        "\n",
        "**3. Enabling Out-of-Bag (OOB) Evaluation:**\n",
        "\n",
        "* **Unused Data Points:**\n",
        "    * Because bootstrap sampling is done with replacement, some data points are not included in each bootstrap sample. These left-out data points are called \"out-of-bag\" (OOB) samples.\n",
        "* **Internal Validation:**\n",
        "    * The OOB samples can be used to evaluate the performance of the Bagging ensemble without needing a separate validation set.\n",
        "    * This is done by using the models that were not trained on those OOB samples, to predict the results of the OOB samples.\n",
        "* **Efficient Evaluation:**\n",
        "    * This provides an efficient and unbiased estimate of the model's generalization performance.\n",
        "\n",
        "**In essence:**\n",
        "\n",
        "* Bootstrap sampling introduces controlled randomness into the training process, leading to the creation of diverse base models.\n",
        "* This diversity is crucial for reducing variance and improving the stability and accuracy of the Bagging ensemble.\n",
        "* It also allows for an internal validation of the model.\n"
      ],
      "metadata": {
        "id": "QICpbkMadk66"
      }
    },
    {
      "cell_type": "code",
      "source": [],
      "metadata": {
        "id": "eeXi7kzYZyJM"
      },
      "execution_count": null,
      "outputs": []
    },
    {
      "cell_type": "markdown",
      "source": [
        "19. What are some real-world applications of ensemble techniques ?\n"
      ],
      "metadata": {
        "id": "yiVCL3LkZyzd"
      }
    },
    {
      "cell_type": "markdown",
      "source": [
        "Ensemble techniques are widely used across various industries and domains due to their ability to improve prediction accuracy and robustness. Here are some real-world applications:\n",
        "\n",
        "**1. Finance:**\n",
        "\n",
        "* **Fraud Detection:** Ensemble models are used to identify fraudulent transactions by analyzing patterns in financial data. They can detect subtle anomalies that individual models might miss.\n",
        "* **Credit Risk Assessment:** Banks and financial institutions use ensemble methods to predict the likelihood of loan defaults.\n",
        "* **Algorithmic Trading:** Ensemble techniques can be used to develop trading strategies by combining predictions from multiple models that analyze market trends and historical data.\n",
        "\n",
        "**2. Healthcare:**\n",
        "\n",
        "* **Medical Diagnosis:** Ensemble models can improve the accuracy of medical diagnoses by combining predictions from multiple diagnostic tests and patient data.\n",
        "* **Drug Discovery:** Ensemble methods can be used to predict the efficacy of new drugs by analyzing molecular structures and biological data.\n",
        "* **Predicting Patient Outcomes:** Ensemble models can predict patient readmission rates, response to treatments, and other important clinical outcomes.\n",
        "\n",
        "**3. E-commerce:**\n",
        "\n",
        "* **Recommendation Systems:** Ensemble techniques enhance recommendation accuracy by combining predictions from various models that analyze user behavior, product features, and collaborative filtering.\n",
        "* **Customer Churn Prediction:** E-commerce companies use ensemble models to predict which customers are likely to stop using their services.\n",
        "* **Price Optimization:** Ensemble methods can be used to dynamically adjust prices based on market conditions, competitor pricing, and customer behavior.\n",
        "\n",
        "**4. Image Recognition and Computer Vision:**\n",
        "\n",
        "* **Object Detection:** Ensemble models are used in object detection systems to improve the accuracy of identifying objects in images and videos.\n",
        "* **Facial Recognition:** Ensemble techniques are used to improve the accuracy of facial recognition systems.\n",
        "* **Medical Image Analysis:** Ensemble models are used to analyze medical images, such as X-rays and MRI scans, to detect abnormalities.\n",
        "\n",
        "**5. Natural Language Processing (NLP):**\n",
        "\n",
        "* **Sentiment Analysis:** Ensemble models are used to improve the accuracy of sentiment analysis by combining predictions from multiple models that analyze text data.\n",
        "* **Spam Detection:** Ensemble techniques are used to filter spam emails by combining predictions from multiple models that analyze email content and metadata.\n",
        "* **Machine Translation:** Ensemble methods can improve the quality of machine translation by combining predictions from multiple translation models.\n",
        "\n",
        "**6. Environmental Science:**\n",
        "\n",
        "* **Weather Forecasting:** Ensemble models are used to improve the accuracy of weather forecasts by combining predictions from multiple weather models.\n",
        "* **Climate Change Prediction:** Ensemble techniques are used to improve the accuracy of climate change predictions by combining predictions from multiple climate models.\n",
        "* **Air Quality Prediction:** Ensemble models are used to predict air quality levels by combining data from multiple sensors and environmental models.\n",
        "\n",
        "**7. Industrial Applications:**\n",
        "\n",
        "* **Predictive Maintenance:** Ensemble models are used to predict when machines are likely to fail, allowing for proactive maintenance.\n",
        "* **Quality Control:** Ensemble techniques are used to improve the accuracy of quality control systems by analyzing sensor data and product images.\n",
        "* **Robotics:** Ensemble methods help robots make more accurate and robust decisions in complex environments.\n"
      ],
      "metadata": {
        "id": "y5TidGzbds7u"
      }
    },
    {
      "cell_type": "code",
      "source": [],
      "metadata": {
        "id": "1cPSu8nLZ1Mc"
      },
      "execution_count": null,
      "outputs": []
    },
    {
      "cell_type": "markdown",
      "source": [
        "20. What is the difference between Bagging and Boosting ?"
      ],
      "metadata": {
        "id": "-y8INYXLZ1lp"
      }
    },
    {
      "cell_type": "markdown",
      "source": [
        "Bagging and boosting are both ensemble learning techniques, but they differ significantly in their approach and goals. Here's a breakdown of the key distinctions:\n",
        "\n",
        "**1. Training Process:**\n",
        "\n",
        "* **Bagging (Bootstrap Aggregating):**\n",
        "    * Trains multiple independent models in parallel.\n",
        "    * Each model is trained on a different bootstrap sample (random sampling with replacement) of the training data.\n",
        "* **Boosting:**\n",
        "    * Trains models sequentially.\n",
        "    * Each subsequent model attempts to correct the errors made by the previous models.\n",
        "    * It gives more weight to misclassified instances, so subsequent models focus on them.\n",
        "\n",
        "**2. Goal:**\n",
        "\n",
        "* **Bagging:**\n",
        "    * Primarily aims to reduce variance, which helps to prevent overfitting.\n",
        "    * It's effective when dealing with high-variance, low-bias models.\n",
        "* **Boosting:**\n",
        "    * Primarily aims to reduce bias, which helps to improve the model's ability to capture complex patterns.\n",
        "    * It can also reduce variance.\n",
        "    * It is effective when dealing with high-bias, low-variance models.\n",
        "\n",
        "**3. Model Weighting:**\n",
        "\n",
        "* **Bagging:**\n",
        "    * Typically, all models have equal weight in the final prediction.\n",
        "* **Boosting:**\n",
        "    * Models are often weighted based on their performance, with more accurate models having a greater influence on the final prediction.\n",
        "\n",
        "**4. Data Sampling:**\n",
        "\n",
        "* **Bagging:**\n",
        "    * Uses bootstrap sampling to create random subsets of the training data.\n",
        "* **Boosting:**\n",
        "    * Adjusts the weights of training instances, giving more weight to misclassified instances.\n",
        "\n",
        "**5. Examples:**\n",
        "\n",
        "* **Bagging:**\n",
        "    * Random Forest.\n",
        "* **Boosting:**\n",
        "    * AdaBoost, Gradient Boosting, XGBoost, LightGBM.\n",
        "\n",
        "**In summary:**\n",
        "\n",
        "* Bagging focuses on reducing variance by training independent models on random subsets of the data.\n",
        "* Boosting focuses on reducing bias by training models sequentially, with each model correcting the errors of the previous ones.\n"
      ],
      "metadata": {
        "id": "N9SlQnjAd2Ba"
      }
    },
    {
      "cell_type": "code",
      "source": [],
      "metadata": {
        "id": "fLt409fKZ3DA"
      },
      "execution_count": null,
      "outputs": []
    },
    {
      "cell_type": "markdown",
      "source": [
        "# Practical"
      ],
      "metadata": {
        "id": "GIPjeeXRy53O"
      }
    },
    {
      "cell_type": "code",
      "source": [
        "import pandas as pd\n",
        "import numpy as np\n",
        "import seaborn as sns\n",
        "import matplotlib.pyplot as plt\n",
        "import warnings\n",
        "warnings.filterwarnings('ignore')"
      ],
      "metadata": {
        "id": "Mwx5Vw5212Dq"
      },
      "execution_count": 1,
      "outputs": []
    },
    {
      "cell_type": "markdown",
      "source": [
        "21. Train a Bagging Classifier using Decision Trees on a sample dataset and print model accuracy.\n"
      ],
      "metadata": {
        "id": "DOnhcfp4y9Lr"
      }
    },
    {
      "cell_type": "code",
      "source": [
        "from sklearn.ensemble import BaggingClassifier\n",
        "from sklearn.tree import DecisionTreeClassifier\n",
        "from sklearn.datasets import load_iris\n",
        "from sklearn.model_selection import train_test_split\n",
        "from sklearn.metrics import accuracy_score\n",
        "\n",
        "# Load dataset\n",
        "iris = load_iris()\n",
        "X, y = iris.data, iris.target\n",
        "\n",
        "# Split into training and test sets (80-20 split)\n",
        "X_train, X_test, y_train, y_test = train_test_split(X, y, test_size=0.2, random_state=42)\n",
        "\n",
        "dt=DecisionTreeClassifier()\n",
        "# Create a Bagging Classifier with Decision Tree as base model\n",
        "bagging_clf = BaggingClassifier(\n",
        "    estimator=dt,\n",
        "    n_estimators=50,  # Number of base models\n",
        "    random_state=42)\n",
        "\n",
        "# Train the model\n",
        "bagging_clf.fit(X_train, y_train)\n",
        "\n",
        "# Make predictions\n",
        "y_pred = bagging_clf.predict(X_test)\n",
        "\n",
        "# Calculate and print accuracy\n",
        "accuracy = accuracy_score(y_test, y_pred)\n",
        "print(f\"Model Accuracy: {accuracy:.4f}\")\n"
      ],
      "metadata": {
        "colab": {
          "base_uri": "https://localhost:8080/"
        },
        "id": "ZvOP74xyzY1N",
        "outputId": "f140d79f-1128-4649-c2d2-a841cfa5a2d3"
      },
      "execution_count": 5,
      "outputs": [
        {
          "output_type": "stream",
          "name": "stdout",
          "text": [
            "Model Accuracy: 1.0000\n"
          ]
        }
      ]
    },
    {
      "cell_type": "markdown",
      "source": [
        "22. Train a Bagging Regressor using Decision Trees and evaluate using Mean Squared Error (MSE).\n"
      ],
      "metadata": {
        "id": "_fLQWQW_zZS6"
      }
    },
    {
      "cell_type": "code",
      "source": [
        "from sklearn.ensemble import BaggingRegressor\n",
        "from sklearn.tree import DecisionTreeRegressor\n",
        "from sklearn.datasets import make_regression\n",
        "from sklearn.model_selection import train_test_split\n",
        "from sklearn.metrics import mean_squared_error\n",
        "\n",
        "# Generate synthetic regression data\n",
        "X, y = make_regression(n_samples=1000, n_features=10, noise=0.2, random_state=42)\n",
        "\n",
        "# Split into training and test sets (80-20 split)\n",
        "X_train, X_test, y_train, y_test = train_test_split(X, y, test_size=0.2, random_state=1)\n",
        "\n",
        "# Create a Bagging Regressor with Decision Tree as the base model\n",
        "bagging_regressor = BaggingRegressor(\n",
        "    estimator=DecisionTreeRegressor(),  # Use Decision Tree as base model\n",
        "    n_estimators=50,  # Number of base models\n",
        "    random_state=42\n",
        ")\n",
        "\n",
        "# Train the model\n",
        "bagging_regressor.fit(X_train, y_train)\n",
        "\n",
        "# Make predictions\n",
        "y_pred = bagging_regressor.predict(X_test)\n",
        "\n",
        "# Evaluate the model using Mean Squared Error (MSE)\n",
        "mse = mean_squared_error(y_test, y_pred)\n",
        "print(f\"Mean Squared Error: {mse:.4f}\")\n"
      ],
      "metadata": {
        "colab": {
          "base_uri": "https://localhost:8080/"
        },
        "id": "C2Y0swfIzbSL",
        "outputId": "cdba096b-339f-4aca-e1d5-d02b17c6fedd"
      },
      "execution_count": 6,
      "outputs": [
        {
          "output_type": "stream",
          "name": "stdout",
          "text": [
            "Mean Squared Error: 2632.0024\n"
          ]
        }
      ]
    },
    {
      "cell_type": "markdown",
      "source": [
        "23. Train a Random Forest Classifier on the Breast Cancer dataset and print feature importance scores.\n"
      ],
      "metadata": {
        "id": "bDT8K-ZXzbtI"
      }
    },
    {
      "cell_type": "code",
      "source": [
        "from sklearn.ensemble import RandomForestClassifier\n",
        "from sklearn.datasets import load_breast_cancer\n",
        "from sklearn.model_selection import train_test_split\n",
        "from sklearn.metrics import accuracy_score\n",
        "import pandas as pd\n",
        "\n",
        "# Load dataset\n",
        "cancer = load_breast_cancer()\n",
        "X, y = cancer.data, cancer.target\n",
        "\n",
        "# Split into training and test sets (80-20 split)\n",
        "X_train, X_test, y_train, y_test = train_test_split(X, y, test_size=0.2, random_state=42)\n",
        "\n",
        "# Create and train Random Forest Classifier\n",
        "rf_clf = RandomForestClassifier(n_estimators=100, random_state=42)\n",
        "rf_clf.fit(X_train, y_train)\n",
        "\n",
        "# Make predictions\n",
        "y_pred = rf_clf.predict(X_test)\n",
        "\n",
        "# Evaluate model accuracy\n",
        "accuracy = accuracy_score(y_test, y_pred)\n",
        "print(f\"Model Accuracy: {accuracy:.4f}\")\n",
        "\n",
        "# Print feature importance scores\n",
        "feature_importances = pd.DataFrame(\n",
        "    {'Feature': cancer.feature_names, 'Importance': rf_clf.feature_importances_}\n",
        ").sort_values(by='Importance', ascending=False)\n",
        "\n",
        "print(\"\\nFeature Importance Scores:\")\n",
        "print(feature_importances)\n"
      ],
      "metadata": {
        "colab": {
          "base_uri": "https://localhost:8080/"
        },
        "id": "cvXtjyJwzd0n",
        "outputId": "687ab085-d7ee-486f-f452-ea357b3f8cc2"
      },
      "execution_count": 7,
      "outputs": [
        {
          "output_type": "stream",
          "name": "stdout",
          "text": [
            "Model Accuracy: 0.9649\n",
            "\n",
            "Feature Importance Scores:\n",
            "                    Feature  Importance\n",
            "23               worst area    0.153892\n",
            "27     worst concave points    0.144663\n",
            "7       mean concave points    0.106210\n",
            "20             worst radius    0.077987\n",
            "6            mean concavity    0.068001\n",
            "22          worst perimeter    0.067115\n",
            "2            mean perimeter    0.053270\n",
            "0               mean radius    0.048703\n",
            "3                 mean area    0.047555\n",
            "26          worst concavity    0.031802\n",
            "13               area error    0.022407\n",
            "21            worst texture    0.021749\n",
            "25        worst compactness    0.020266\n",
            "10             radius error    0.020139\n",
            "5          mean compactness    0.013944\n",
            "1              mean texture    0.013591\n",
            "12          perimeter error    0.011303\n",
            "24         worst smoothness    0.010644\n",
            "28           worst symmetry    0.010120\n",
            "16          concavity error    0.009386\n",
            "4           mean smoothness    0.007285\n",
            "19  fractal dimension error    0.005321\n",
            "15        compactness error    0.005253\n",
            "29  worst fractal dimension    0.005210\n",
            "11            texture error    0.004724\n",
            "14         smoothness error    0.004271\n",
            "18           symmetry error    0.004018\n",
            "9    mean fractal dimension    0.003886\n",
            "8             mean symmetry    0.003770\n",
            "17     concave points error    0.003513\n"
          ]
        }
      ]
    },
    {
      "cell_type": "markdown",
      "source": [
        "24. Train a Random Forest Regressor and compare its performance with a single Decision Tree.\n"
      ],
      "metadata": {
        "id": "agzXYtLLzeQF"
      }
    },
    {
      "cell_type": "code",
      "source": [
        "from sklearn.ensemble import RandomForestRegressor\n",
        "from sklearn.tree import DecisionTreeRegressor\n",
        "from sklearn.datasets import make_regression\n",
        "from sklearn.model_selection import train_test_split\n",
        "from sklearn.metrics import mean_squared_error\n",
        "\n",
        "# Generate synthetic regression data\n",
        "X, y = make_regression(n_samples=1000, n_features=10, noise=0.2, random_state=42)\n",
        "\n",
        "# Split into training and test sets (80-20 split)\n",
        "X_train, X_test, y_train, y_test = train_test_split(X, y, test_size=0.2, random_state=42)\n",
        "\n",
        "# Train a single Decision Tree Regressor\n",
        "dt_regressor = DecisionTreeRegressor(random_state=42)\n",
        "dt_regressor.fit(X_train, y_train)\n",
        "y_pred_dt = dt_regressor.predict(X_test)\n",
        "\n",
        "# Train a Random Forest Regressor\n",
        "rf_regressor = RandomForestRegressor(n_estimators=100, random_state=42)\n",
        "rf_regressor.fit(X_train, y_train)\n",
        "y_pred_rf = rf_regressor.predict(X_test)\n",
        "\n",
        "# Evaluate using Mean Squared Error (MSE)\n",
        "mse_dt = mean_squared_error(y_test, y_pred_dt)\n",
        "mse_rf = mean_squared_error(y_test, y_pred_rf)\n",
        "\n",
        "# Print the results\n",
        "print(f\"Decision Tree MSE: {mse_dt:.4f}\")\n",
        "print(f\"Random Forest MSE: {mse_rf:.4f}\")\n",
        "\n",
        "# Compare results\n",
        "improvement = (mse_dt - mse_rf) / mse_dt * 100\n",
        "print(f\"Random Forest improves MSE by {improvement:.2f}% compared to Decision Tree.\")\n"
      ],
      "metadata": {
        "colab": {
          "base_uri": "https://localhost:8080/"
        },
        "id": "-7cixjFJzgQ3",
        "outputId": "5c37bf7a-8f62-4844-8623-f3b2a2262fce"
      },
      "execution_count": 8,
      "outputs": [
        {
          "output_type": "stream",
          "name": "stdout",
          "text": [
            "Decision Tree MSE: 6413.1496\n",
            "Random Forest MSE: 2609.0939\n",
            "Random Forest improves MSE by 59.32% compared to Decision Tree.\n"
          ]
        }
      ]
    },
    {
      "cell_type": "markdown",
      "source": [
        "25. Compute the Out-of-Bag (OOB) Score for a Random Forest Classifier.\n"
      ],
      "metadata": {
        "id": "B5oeXiuwzgrX"
      }
    },
    {
      "cell_type": "code",
      "source": [
        "from sklearn.ensemble import RandomForestClassifier\n",
        "from sklearn.datasets import load_breast_cancer\n",
        "from sklearn.model_selection import train_test_split\n",
        "from sklearn.metrics import accuracy_score\n",
        "\n",
        "# Load dataset\n",
        "cancer = load_breast_cancer()\n",
        "X, y = cancer.data, cancer.target\n",
        "\n",
        "# Split into training and test sets (80-20 split)\n",
        "X_train, X_test, y_train, y_test = train_test_split(X, y, test_size=0.2, random_state=42)\n",
        "\n",
        "# Train Random Forest Classifier with OOB score enabled\n",
        "rf_clf = RandomForestClassifier(n_estimators=100, oob_score=True, random_state=42)\n",
        "rf_clf.fit(X_train, y_train)\n",
        "\n",
        "# Compute OOB Score\n",
        "oob_score = rf_clf.oob_score_\n",
        "print(f\"Out-of-Bag (OOB) Score: {oob_score:.4f}\")\n",
        "\n",
        "# Evaluate on test data\n",
        "y_pred = rf_clf.predict(X_test)\n",
        "test_accuracy = accuracy_score(y_test, y_pred)\n",
        "print(f\"Test Accuracy: {test_accuracy:.4f}\")\n"
      ],
      "metadata": {
        "colab": {
          "base_uri": "https://localhost:8080/"
        },
        "id": "a43HG7Jtzi8_",
        "outputId": "96a83b2a-b720-4372-dc73-b627b76f26ef"
      },
      "execution_count": 9,
      "outputs": [
        {
          "output_type": "stream",
          "name": "stdout",
          "text": [
            "Out-of-Bag (OOB) Score: 0.9560\n",
            "Test Accuracy: 0.9649\n"
          ]
        }
      ]
    },
    {
      "cell_type": "markdown",
      "source": [
        "26. Train a Bagging Classifier using SVM as a base estimator and print accuracy.\n"
      ],
      "metadata": {
        "id": "hhNC1TL-zjbN"
      }
    },
    {
      "cell_type": "code",
      "source": [
        "from sklearn.ensemble import BaggingClassifier\n",
        "from sklearn.svm import SVC\n",
        "from sklearn.datasets import load_iris\n",
        "from sklearn.model_selection import train_test_split\n",
        "from sklearn.metrics import accuracy_score\n",
        "\n",
        "# Load dataset\n",
        "iris = load_iris()\n",
        "X, y = iris.data, iris.target\n",
        "\n",
        "# Split into training and test sets (80-20 split)\n",
        "X_train, X_test, y_train, y_test = train_test_split(X, y, test_size=0.2, random_state=42)\n",
        "\n",
        "# Create a Bagging Classifier with SVM as base model\n",
        "bagging_svm = BaggingClassifier(\n",
        "    estimator=SVC(),  # SVM as base estimator\n",
        "    n_estimators=50,  # Number of base models\n",
        "    random_state=42\n",
        ")\n",
        "\n",
        "# Train the model\n",
        "bagging_svm.fit(X_train, y_train)\n",
        "\n",
        "# Make predictions\n",
        "y_pred = bagging_svm.predict(X_test)\n",
        "\n",
        "# Calculate and print accuracy\n",
        "accuracy = accuracy_score(y_test, y_pred)\n",
        "print(f\"Model Accuracy: {accuracy:.4f}\")\n"
      ],
      "metadata": {
        "colab": {
          "base_uri": "https://localhost:8080/"
        },
        "id": "XGcgpT7fzlSf",
        "outputId": "59d56ec4-0ace-4141-b183-48150b42ec84"
      },
      "execution_count": 10,
      "outputs": [
        {
          "output_type": "stream",
          "name": "stdout",
          "text": [
            "Model Accuracy: 1.0000\n"
          ]
        }
      ]
    },
    {
      "cell_type": "markdown",
      "source": [
        "27. Train a Random Forest Classifier with different numbers of trees and compare accuracy.\n"
      ],
      "metadata": {
        "id": "qiepS3NFzlr4"
      }
    },
    {
      "cell_type": "code",
      "source": [
        "from sklearn.ensemble import RandomForestClassifier\n",
        "from sklearn.datasets import load_breast_cancer\n",
        "from sklearn.model_selection import train_test_split\n",
        "from sklearn.metrics import accuracy_score\n",
        "\n",
        "# Load dataset\n",
        "cancer = load_breast_cancer()\n",
        "X, y = cancer.data, cancer.target\n",
        "\n",
        "# Split into training and test sets (80-20 split)\n",
        "X_train, X_test, y_train, y_test = train_test_split(X, y, test_size=0.2, random_state=42)\n",
        "\n",
        "# Define different numbers of trees to test\n",
        "n_trees = [10, 50, 100, 200, 500]\n",
        "\n",
        "# Dictionary to store accuracy results\n",
        "accuracy_results = {}\n",
        "\n",
        "# Train and evaluate models with different numbers of trees\n",
        "for n in n_trees:\n",
        "    rf_clf = RandomForestClassifier(n_estimators=n, random_state=42)\n",
        "    rf_clf.fit(X_train, y_train)\n",
        "    y_pred = rf_clf.predict(X_test)\n",
        "    accuracy = accuracy_score(y_test, y_pred)\n",
        "    accuracy_results[n] = accuracy\n",
        "    print(f\"n_estimators = {n}, Accuracy = {accuracy:.4f}\")\n",
        "\n",
        "# Print summary of results\n",
        "print(\"\\nFinal Accuracy Comparison:\")\n",
        "for n, acc in accuracy_results.items():\n",
        "    print(f\"{n} trees: {acc:.4f}\")\n"
      ],
      "metadata": {
        "colab": {
          "base_uri": "https://localhost:8080/"
        },
        "id": "PhbAFpHjzoou",
        "outputId": "6e63be9e-1451-49ec-b7e0-dd930c27a67a"
      },
      "execution_count": 11,
      "outputs": [
        {
          "output_type": "stream",
          "name": "stdout",
          "text": [
            "n_estimators = 10, Accuracy = 0.9561\n",
            "n_estimators = 50, Accuracy = 0.9649\n",
            "n_estimators = 100, Accuracy = 0.9649\n",
            "n_estimators = 200, Accuracy = 0.9649\n",
            "n_estimators = 500, Accuracy = 0.9649\n",
            "\n",
            "Final Accuracy Comparison:\n",
            "10 trees: 0.9561\n",
            "50 trees: 0.9649\n",
            "100 trees: 0.9649\n",
            "200 trees: 0.9649\n",
            "500 trees: 0.9649\n"
          ]
        }
      ]
    },
    {
      "cell_type": "markdown",
      "source": [
        "28. Train a Bagging Classifier using Logistic Regression as a base estimator and print AUC score.\n"
      ],
      "metadata": {
        "id": "QSd0ZP6ZzpBu"
      }
    },
    {
      "cell_type": "code",
      "source": [
        "from sklearn.ensemble import BaggingClassifier\n",
        "from sklearn.linear_model import LogisticRegression\n",
        "from sklearn.datasets import load_breast_cancer\n",
        "from sklearn.model_selection import train_test_split\n",
        "from sklearn.metrics import roc_auc_score\n",
        "\n",
        "# Load dataset\n",
        "cancer = load_breast_cancer()\n",
        "X, y = cancer.data, cancer.target\n",
        "\n",
        "# Split into training and test sets (80-20 split)\n",
        "X_train, X_test, y_train, y_test = train_test_split(X, y, test_size=0.2, random_state=42)\n",
        "\n",
        "# Create Bagging Classifier with Logistic Regression as base model\n",
        "bagging_lr = BaggingClassifier(\n",
        "    estimator=LogisticRegression(max_iter=5000),  # Logistic Regression as base model\n",
        "    n_estimators=50,  # Number of base models\n",
        "    random_state=42\n",
        ")\n",
        "\n",
        "# Train the model\n",
        "bagging_lr.fit(X_train, y_train)\n",
        "\n",
        "# Predict probabilities for AUC calculation\n",
        "y_prob = bagging_lr.predict_proba(X_test)[:, 1]  # Get probability of class 1\n",
        "\n",
        "# Compute AUC Score\n",
        "auc_score = roc_auc_score(y_test, y_prob)\n",
        "print(f\"AUC Score: {auc_score:.4f}\")\n"
      ],
      "metadata": {
        "colab": {
          "base_uri": "https://localhost:8080/"
        },
        "id": "F9dSyPCBzq_g",
        "outputId": "30457a79-1396-448f-e0a6-0d1013b1b037"
      },
      "execution_count": 12,
      "outputs": [
        {
          "output_type": "stream",
          "name": "stdout",
          "text": [
            "AUC Score: 0.9974\n"
          ]
        }
      ]
    },
    {
      "cell_type": "markdown",
      "source": [
        "29. Train a Random Forest Regressor and analyze feature importance scores.\n"
      ],
      "metadata": {
        "id": "fYSTit69zrYP"
      }
    },
    {
      "cell_type": "code",
      "source": [
        "from sklearn.ensemble import RandomForestRegressor\n",
        "from sklearn.datasets import make_regression\n",
        "from sklearn.model_selection import train_test_split\n",
        "import pandas as pd\n",
        "\n",
        "# Generate synthetic regression dataset\n",
        "X, y = make_regression(n_samples=1000, n_features=10, noise=0.2, random_state=42)\n",
        "\n",
        "# Split into training and test sets (80-20 split)\n",
        "X_train, X_test, y_train, y_test = train_test_split(X, y, test_size=0.2, random_state=42)\n",
        "\n",
        "# Train Random Forest Regressor\n",
        "rf_regressor = RandomForestRegressor(n_estimators=100, random_state=42)\n",
        "rf_regressor.fit(X_train, y_train)\n",
        "\n",
        "# Extract feature importance scores\n",
        "feature_importances = pd.DataFrame(\n",
        "    {'Feature': [f'Feature {i}' for i in range(X.shape[1])],\n",
        "     'Importance': rf_regressor.feature_importances_}\n",
        ").sort_values(by='Importance', ascending=False)\n",
        "\n",
        "# Print feature importance scores\n",
        "print(\"Feature Importance Scores:\")\n",
        "print(feature_importances)\n"
      ],
      "metadata": {
        "colab": {
          "base_uri": "https://localhost:8080/"
        },
        "id": "bXzemvX6ztav",
        "outputId": "e92f533a-09b7-4a37-f5a9-0da909cdc041"
      },
      "execution_count": 13,
      "outputs": [
        {
          "output_type": "stream",
          "name": "stdout",
          "text": [
            "Feature Importance Scores:\n",
            "     Feature  Importance\n",
            "3  Feature 3    0.334148\n",
            "6  Feature 6    0.288473\n",
            "9  Feature 9    0.207439\n",
            "2  Feature 2    0.040139\n",
            "0  Feature 0    0.037408\n",
            "1  Feature 1    0.035463\n",
            "7  Feature 7    0.014657\n",
            "5  Feature 5    0.014583\n",
            "4  Feature 4    0.013957\n",
            "8  Feature 8    0.013732\n"
          ]
        }
      ]
    },
    {
      "cell_type": "markdown",
      "source": [
        "30. Train an ensemble model using both Bagging and Random Forest and compare accuracy."
      ],
      "metadata": {
        "id": "_HhU7v-bzt1g"
      }
    },
    {
      "cell_type": "code",
      "source": [
        "from sklearn.ensemble import BaggingClassifier, RandomForestClassifier\n",
        "from sklearn.tree import DecisionTreeClassifier\n",
        "from sklearn.datasets import load_breast_cancer\n",
        "from sklearn.model_selection import train_test_split\n",
        "from sklearn.metrics import accuracy_score\n",
        "\n",
        "# Load dataset\n",
        "cancer = load_breast_cancer()\n",
        "X, y = cancer.data, cancer.target\n",
        "\n",
        "# Split into training and test sets (80-20 split)\n",
        "X_train, X_test, y_train, y_test = train_test_split(X, y, test_size=0.2, random_state=42)\n",
        "\n",
        "# Train a Bagging Classifier with Decision Trees as base model\n",
        "bagging_clf = BaggingClassifier(\n",
        "    estimator=DecisionTreeClassifier(),\n",
        "    n_estimators=50,\n",
        "    random_state=42\n",
        ")\n",
        "bagging_clf.fit(X_train, y_train)\n",
        "y_pred_bagging = bagging_clf.predict(X_test)\n",
        "accuracy_bagging = accuracy_score(y_test, y_pred_bagging)\n",
        "\n",
        "# Train a Random Forest Classifier\n",
        "rf_clf = RandomForestClassifier(n_estimators=50, random_state=42)\n",
        "rf_clf.fit(X_train, y_train)\n",
        "y_pred_rf = rf_clf.predict(X_test)\n",
        "accuracy_rf = accuracy_score(y_test, y_pred_rf)\n",
        "\n",
        "# Print accuracy scores\n",
        "print(f\"Bagging Classifier Accuracy: {accuracy_bagging:.4f}\")\n",
        "print(f\"Random Forest Classifier Accuracy: {accuracy_rf:.4f}\")\n",
        "\n",
        "# Compare performance\n",
        "improvement = (accuracy_rf - accuracy_bagging) / accuracy_bagging * 100\n",
        "print(f\"Random Forest improves accuracy by {improvement:.2f}% compared to Bagging.\")\n"
      ],
      "metadata": {
        "colab": {
          "base_uri": "https://localhost:8080/"
        },
        "id": "ilGQUUMAzu4w",
        "outputId": "efd33d4f-1ddc-4a56-80c4-c41a04286351"
      },
      "execution_count": 15,
      "outputs": [
        {
          "output_type": "stream",
          "name": "stdout",
          "text": [
            "Bagging Classifier Accuracy: 0.9561\n",
            "Random Forest Classifier Accuracy: 0.9649\n",
            "Random Forest improves accuracy by 0.92% compared to Bagging.\n"
          ]
        }
      ]
    },
    {
      "cell_type": "code",
      "source": [],
      "metadata": {
        "id": "ZNQfBfiT-noA"
      },
      "execution_count": null,
      "outputs": []
    },
    {
      "cell_type": "markdown",
      "source": [
        "31. Train a Random Forest Classifier and tune hyperparameters using GridSearchCV.\n"
      ],
      "metadata": {
        "id": "7Bzxhdkv-yDh"
      }
    },
    {
      "cell_type": "code",
      "source": [
        "from sklearn.ensemble import RandomForestClassifier\n",
        "from sklearn.datasets import load_iris\n",
        "from sklearn.model_selection import train_test_split, GridSearchCV\n",
        "from sklearn.metrics import accuracy_score\n",
        "\n",
        "# Load dataset\n",
        "iris = load_iris()\n",
        "X, y = iris.data, iris.target\n",
        "\n",
        "# Split into training and test sets (80-20 split)\n",
        "X_train, X_test, y_train, y_test = train_test_split(X, y, test_size=0.2, random_state=42)\n",
        "\n",
        "# Define the Random Forest model\n",
        "rf_clf = RandomForestClassifier(random_state=42)\n",
        "\n",
        "# Define the hyperparameter grid\n",
        "param_grid = {\n",
        "    'n_estimators': [10, 50, 100],        # Number of trees\n",
        "    'max_depth': [None, 5, 10],           # Maximum depth\n",
        "    'min_samples_split': [2, 5, 10],      # Min samples to split\n",
        "    'min_samples_leaf': [1, 2, 4]         # Min samples in a leaf\n",
        "}\n",
        "\n",
        "# Perform Grid Search with cross-validation\n",
        "grid_search = GridSearchCV(estimator=rf_clf, param_grid=param_grid, cv=5, n_jobs=-1, scoring='accuracy')\n",
        "grid_search.fit(X_train, y_train)\n",
        "\n",
        "# Get the best model\n",
        "best_rf = grid_search.best_estimator_\n",
        "print(f\"Best Hyperparameters: {grid_search.best_params_}\")\n",
        "\n",
        "# Evaluate the best model on test data\n",
        "y_pred = best_rf.predict(X_test)\n",
        "accuracy = accuracy_score(y_test, y_pred)\n",
        "print(f\"Test Accuracy with Best Parameters: {accuracy:.4f}\")"
      ],
      "metadata": {
        "colab": {
          "base_uri": "https://localhost:8080/"
        },
        "id": "riDXUuB0_bdO",
        "outputId": "a66f7257-9a56-45a0-bb7f-73e642601189"
      },
      "execution_count": 17,
      "outputs": [
        {
          "output_type": "stream",
          "name": "stdout",
          "text": [
            "Best Hyperparameters: {'max_depth': None, 'min_samples_leaf': 1, 'min_samples_split': 2, 'n_estimators': 10}\n",
            "Test Accuracy with Best Parameters: 1.0000\n"
          ]
        }
      ]
    },
    {
      "cell_type": "markdown",
      "source": [
        "32. Train a Bagging Regressor with different numbers of base estimators and compare performance.\n"
      ],
      "metadata": {
        "id": "QrwPoeTA_b7p"
      }
    },
    {
      "cell_type": "code",
      "source": [
        "from sklearn.ensemble import BaggingRegressor\n",
        "from sklearn.tree import DecisionTreeRegressor\n",
        "from sklearn.datasets import make_regression\n",
        "from sklearn.model_selection import train_test_split\n",
        "from sklearn.metrics import mean_squared_error\n",
        "\n",
        "# Generate synthetic regression dataset\n",
        "X, y = make_regression(n_samples=1000, n_features=10, noise=0.2, random_state=42)\n",
        "\n",
        "# Split into training and test sets (80-20 split)\n",
        "X_train, X_test, y_train, y_test = train_test_split(X, y, test_size=0.2, random_state=42)\n",
        "\n",
        "# Define different numbers of base estimators to test\n",
        "n_estimators_list = [5, 10, 50, 100, 200]\n",
        "\n",
        "# Dictionary to store results\n",
        "mse_results = {}\n",
        "\n",
        "# Train and evaluate Bagging Regressors with different numbers of estimators\n",
        "for n in n_estimators_list:\n",
        "    bagging_regressor = BaggingRegressor(\n",
        "        estimator=DecisionTreeRegressor(),\n",
        "        n_estimators=n,\n",
        "        random_state=42\n",
        "    )\n",
        "    bagging_regressor.fit(X_train, y_train)\n",
        "    y_pred = bagging_regressor.predict(X_test)\n",
        "    mse = mean_squared_error(y_test, y_pred)\n",
        "    mse_results[n] = mse\n",
        "    print(f\"n_estimators = {n}, MSE = {mse:.4f}\")\n",
        "\n",
        "# Print summary of results\n",
        "print(\"\\nFinal MSE Comparison:\")\n",
        "for n, mse in mse_results.items():\n",
        "    print(f\"{n} base estimators: MSE = {mse:.4f}\")\n"
      ],
      "metadata": {
        "colab": {
          "base_uri": "https://localhost:8080/"
        },
        "id": "ylu9SKdp_eYL",
        "outputId": "68bb7905-8427-4076-b6e3-0f86d1ec7f9a"
      },
      "execution_count": 18,
      "outputs": [
        {
          "output_type": "stream",
          "name": "stdout",
          "text": [
            "n_estimators = 5, MSE = 4023.5639\n",
            "n_estimators = 10, MSE = 3181.6744\n",
            "n_estimators = 50, MSE = 2594.4270\n",
            "n_estimators = 100, MSE = 2607.2294\n",
            "n_estimators = 200, MSE = 2589.8333\n",
            "\n",
            "Final MSE Comparison:\n",
            "5 base estimators: MSE = 4023.5639\n",
            "10 base estimators: MSE = 3181.6744\n",
            "50 base estimators: MSE = 2594.4270\n",
            "100 base estimators: MSE = 2607.2294\n",
            "200 base estimators: MSE = 2589.8333\n"
          ]
        }
      ]
    },
    {
      "cell_type": "markdown",
      "source": [
        "33. Train a Random Forest Classifier and analyze misclassified samples.\n"
      ],
      "metadata": {
        "id": "phfMX4yT_e1Z"
      }
    },
    {
      "cell_type": "code",
      "source": [
        "import numpy as np\n",
        "import pandas as pd\n",
        "from sklearn.ensemble import RandomForestClassifier\n",
        "from sklearn.datasets import load_iris\n",
        "from sklearn.model_selection import train_test_split\n",
        "from sklearn.metrics import accuracy_score\n",
        "\n",
        "# Load dataset\n",
        "iris = load_iris()\n",
        "X, y = iris.data, iris.target\n",
        "\n",
        "# Split into training and test sets (80-20 split)\n",
        "X_train, X_test, y_train, y_test = train_test_split(X, y, test_size=0.2, random_state=42)\n",
        "\n",
        "# Train Random Forest Classifier\n",
        "rf_clf = RandomForestClassifier(n_estimators=100, random_state=42)\n",
        "rf_clf.fit(X_train, y_train)\n",
        "\n",
        "# Make predictions\n",
        "y_pred = rf_clf.predict(X_test)\n",
        "\n",
        "# Compute accuracy\n",
        "accuracy = accuracy_score(y_test, y_pred)\n",
        "print(f\"Test Accuracy: {accuracy:.4f}\")\n",
        "\n",
        "# Identify misclassified samples\n",
        "misclassified_indices = np.where(y_test != y_pred)[0]\n",
        "misclassified_samples = pd.DataFrame(X_test[misclassified_indices], columns=iris.feature_names)\n",
        "misclassified_samples['True Label'] = y_test[misclassified_indices]\n",
        "misclassified_samples['Predicted Label'] = y_pred[misclassified_indices]\n",
        "\n",
        "# Print misclassified samples\n",
        "print(\"\\nMisclassified Samples:\")\n",
        "print(misclassified_samples)\n"
      ],
      "metadata": {
        "colab": {
          "base_uri": "https://localhost:8080/"
        },
        "id": "mjbK81D8_hCE",
        "outputId": "86063003-32bc-4156-8a49-354961da1d3c"
      },
      "execution_count": 19,
      "outputs": [
        {
          "output_type": "stream",
          "name": "stdout",
          "text": [
            "Test Accuracy: 1.0000\n",
            "\n",
            "Misclassified Samples:\n",
            "Empty DataFrame\n",
            "Columns: [sepal length (cm), sepal width (cm), petal length (cm), petal width (cm), True Label, Predicted Label]\n",
            "Index: []\n"
          ]
        }
      ]
    },
    {
      "cell_type": "markdown",
      "source": [
        "34. Train a Bagging Classifier and compare its performance with a single Decision Tree Classifier\n"
      ],
      "metadata": {
        "id": "Mva70iCO_hXu"
      }
    },
    {
      "cell_type": "code",
      "source": [
        "from sklearn.ensemble import BaggingClassifier\n",
        "from sklearn.tree import DecisionTreeClassifier\n",
        "from sklearn.datasets import load_iris\n",
        "from sklearn.model_selection import train_test_split\n",
        "from sklearn.metrics import accuracy_score\n",
        "\n",
        "# Load dataset\n",
        "iris = load_iris()\n",
        "X, y = iris.data, iris.target\n",
        "\n",
        "# Split into training and test sets (80-20 split)\n",
        "X_train, X_test, y_train, y_test = train_test_split(X, y, test_size=0.2, random_state=42)\n",
        "\n",
        "# Train a single Decision Tree Classifier\n",
        "dt_clf = DecisionTreeClassifier(random_state=42)\n",
        "dt_clf.fit(X_train, y_train)\n",
        "y_pred_dt = dt_clf.predict(X_test)\n",
        "accuracy_dt = accuracy_score(y_test, y_pred_dt)\n",
        "\n",
        "# Train a Bagging Classifier with Decision Trees as base estimator\n",
        "bagging_clf = BaggingClassifier(\n",
        "    estimator=DecisionTreeClassifier(),\n",
        "    n_estimators=50,\n",
        "    random_state=42\n",
        ")\n",
        "bagging_clf.fit(X_train, y_train)\n",
        "y_pred_bagging = bagging_clf.predict(X_test)\n",
        "accuracy_bagging = accuracy_score(y_test, y_pred_bagging)\n",
        "\n",
        "# Print accuracy scores\n",
        "print(f\"Decision Tree Classifier Accuracy: {accuracy_dt:.4f}\")\n",
        "print(f\"Bagging Classifier Accuracy: {accuracy_bagging:.4f}\")\n",
        "\n",
        "# Compare performance\n",
        "improvement = (accuracy_bagging - accuracy_dt) / accuracy_dt * 100\n",
        "print(f\"Bagging improves accuracy by {improvement:.2f}% compared to a single Decision Tree.\")\n"
      ],
      "metadata": {
        "colab": {
          "base_uri": "https://localhost:8080/"
        },
        "id": "yWQCIpVx_jvd",
        "outputId": "3020c07a-21d3-4880-fb55-a7e67827da9d"
      },
      "execution_count": 20,
      "outputs": [
        {
          "output_type": "stream",
          "name": "stdout",
          "text": [
            "Decision Tree Classifier Accuracy: 1.0000\n",
            "Bagging Classifier Accuracy: 1.0000\n",
            "Bagging improves accuracy by 0.00% compared to a single Decision Tree.\n"
          ]
        }
      ]
    },
    {
      "cell_type": "markdown",
      "source": [
        "35. Train a Random Forest Classifier and visualize the confusion matrix.\n"
      ],
      "metadata": {
        "id": "xpZJL9zX_kIE"
      }
    },
    {
      "cell_type": "code",
      "source": [
        "import numpy as np\n",
        "import matplotlib.pyplot as plt\n",
        "import seaborn as sns\n",
        "from sklearn.ensemble import RandomForestClassifier\n",
        "from sklearn.datasets import make_classification\n",
        "from sklearn.model_selection import train_test_split\n",
        "from sklearn.metrics import accuracy_score, confusion_matrix\n",
        "\n",
        "# Generate synthetic classification dataset\n",
        "X, y = make_classification(n_samples=1000, n_features=10, n_classes=3, n_informative=8, random_state=42)\n",
        "\n",
        "# Split into training and test sets (80-20 split)\n",
        "X_train, X_test, y_train, y_test = train_test_split(X, y, test_size=0.2, random_state=42)\n",
        "\n",
        "# Train a Random Forest Classifier\n",
        "rf_clf = RandomForestClassifier(n_estimators=100, random_state=42)\n",
        "rf_clf.fit(X_train, y_train)\n",
        "\n",
        "# Make predictions\n",
        "y_pred = rf_clf.predict(X_test)\n",
        "\n",
        "# Compute accuracy\n",
        "accuracy = accuracy_score(y_test, y_pred)\n",
        "print(f\"Test Accuracy: {accuracy:.4f}\")\n",
        "\n",
        "# Compute confusion matrix\n",
        "cm = confusion_matrix(y_test, y_pred)\n",
        "\n",
        "# Visualize confusion matrix\n",
        "plt.figure(figsize=(6, 5))\n",
        "sns.heatmap(cm, annot=True, fmt=\"d\", cmap=\"Blues\", xticklabels=np.unique(y), yticklabels=np.unique(y))\n",
        "plt.xlabel(\"Predicted Label\")\n",
        "plt.ylabel(\"True Label\")\n",
        "plt.title(\"Confusion Matrix\")\n",
        "plt.show()\n"
      ],
      "metadata": {
        "colab": {
          "base_uri": "https://localhost:8080/",
          "height": 505
        },
        "id": "GJUfDaVT_mOR",
        "outputId": "80b2e1c2-f12e-4a4b-a1e3-497213eae8be"
      },
      "execution_count": 21,
      "outputs": [
        {
          "output_type": "stream",
          "name": "stdout",
          "text": [
            "Test Accuracy: 0.8900\n"
          ]
        },
        {
          "output_type": "display_data",
          "data": {
            "text/plain": [
              "<Figure size 600x500 with 2 Axes>"
            ],
            "image/png": "[encoded data removed]"
          },
          "metadata": {}
        }
      ]
    },
    {
      "cell_type": "markdown",
      "source": [
        "36. Train a Stacking Classifier using Decision Trees, SVM, and Logistic Regression, and compare accuracy.\n"
      ],
      "metadata": {
        "id": "bfAabCHr_mnj"
      }
    },
    {
      "cell_type": "code",
      "source": [
        "from sklearn.ensemble import StackingClassifier\n",
        "from sklearn.tree import DecisionTreeClassifier\n",
        "from sklearn.svm import SVC\n",
        "from sklearn.linear_model import LogisticRegression\n",
        "from sklearn.datasets import make_classification\n",
        "from sklearn.model_selection import train_test_split\n",
        "from sklearn.metrics import accuracy_score\n",
        "\n",
        "# Generate synthetic classification dataset\n",
        "X, y = make_classification(n_samples=1000, n_features=10, n_classes=3, n_informative=8, random_state=42)\n",
        "\n",
        "# Split into training and test sets (80-20 split)\n",
        "X_train, X_test, y_train, y_test = train_test_split(X, y, test_size=0.2, random_state=42)\n",
        "\n",
        "# Define base models\n",
        "dt_clf = DecisionTreeClassifier(random_state=42)\n",
        "svm_clf = SVC(probability=True, random_state=42)\n",
        "lr_clf = LogisticRegression(max_iter=1000, random_state=42)\n",
        "\n",
        "# Train individual models\n",
        "dt_clf.fit(X_train, y_train)\n",
        "svm_clf.fit(X_train, y_train)\n",
        "lr_clf.fit(X_train, y_train)\n",
        "\n",
        "# Evaluate individual models\n",
        "y_pred_dt = dt_clf.predict(X_test)\n",
        "y_pred_svm = svm_clf.predict(X_test)\n",
        "y_pred_lr = lr_clf.predict(X_test)\n",
        "\n",
        "accuracy_dt = accuracy_score(y_test, y_pred_dt)\n",
        "accuracy_svm = accuracy_score(y_test, y_pred_svm)\n",
        "accuracy_lr = accuracy_score(y_test, y_pred_lr)\n",
        "\n",
        "# Define Stacking Classifier\n",
        "stacking_clf = StackingClassifier(\n",
        "    estimators=[('dt', dt_clf), ('svm', svm_clf), ('lr', lr_clf)],\n",
        "    final_estimator=LogisticRegression()\n",
        ")\n",
        "\n",
        "# Train Stacking Classifier\n",
        "stacking_clf.fit(X_train, y_train)\n",
        "\n",
        "# Evaluate Stacking Classifier\n",
        "y_pred_stack = stacking_clf.predict(X_test)\n",
        "accuracy_stack = accuracy_score(y_test, y_pred_stack)\n",
        "\n",
        "# Print accuracy scores\n",
        "print(f\"Decision Tree Accuracy: {accuracy_dt:.4f}\")\n",
        "print(f\"SVM Accuracy: {accuracy_svm:.4f}\")\n",
        "print(f\"Logistic Regression Accuracy: {accuracy_lr:.4f}\")\n",
        "print(f\"Stacking Classifier Accuracy: {accuracy_stack:.4f}\")\n"
      ],
      "metadata": {
        "colab": {
          "base_uri": "https://localhost:8080/"
        },
        "id": "MytrPCeH_o5h",
        "outputId": "d8bda0c9-da9f-434f-8f16-a7ecbffc9add"
      },
      "execution_count": 22,
      "outputs": [
        {
          "output_type": "stream",
          "name": "stdout",
          "text": [
            "Decision Tree Accuracy: 0.7700\n",
            "SVM Accuracy: 0.9250\n",
            "Logistic Regression Accuracy: 0.7250\n",
            "Stacking Classifier Accuracy: 0.9100\n"
          ]
        }
      ]
    },
    {
      "cell_type": "markdown",
      "source": [
        "37. Train a Random Forest Classifier and print the top 5 most important features.\n"
      ],
      "metadata": {
        "id": "novXoX68_pWa"
      }
    },
    {
      "cell_type": "code",
      "source": [
        "import numpy as np\n",
        "import pandas as pd\n",
        "from sklearn.ensemble import RandomForestClassifier\n",
        "from sklearn.datasets import make_classification\n",
        "from sklearn.model_selection import train_test_split\n",
        "\n",
        "# Generate synthetic classification dataset\n",
        "X, y = make_classification(n_samples=1000, n_features=10, n_classes=3, n_informative=8, random_state=42)\n",
        "\n",
        "# Split into training and test sets (80-20 split)\n",
        "X_train, X_test, y_train, y_test = train_test_split(X, y, test_size=0.2, random_state=42)\n",
        "\n",
        "# Train a Random Forest Classifier\n",
        "rf_clf = RandomForestClassifier(n_estimators=100, random_state=42)\n",
        "rf_clf.fit(X_train, y_train)\n",
        "\n",
        "# Get feature importance scores\n",
        "feature_importances = rf_clf.feature_importances_\n",
        "\n",
        "# Create a DataFrame for better visualization\n",
        "feature_df = pd.DataFrame({\n",
        "    \"Feature\": [f\"Feature {i}\" for i in range(X.shape[1])],\n",
        "    \"Importance\": feature_importances\n",
        "})\n",
        "\n",
        "# Sort features by importance\n",
        "feature_df = feature_df.sort_values(by=\"Importance\", ascending=False)\n",
        "\n",
        "# Print top 5 most important features\n",
        "print(\"Top 5 Most Important Features:\")\n",
        "print(feature_df.head(5))\n",
        "\n"
      ],
      "metadata": {
        "colab": {
          "base_uri": "https://localhost:8080/"
        },
        "id": "zJ92VNzt_rQy",
        "outputId": "49aabcca-3777-4e5e-c667-f90a818ff1bb"
      },
      "execution_count": 23,
      "outputs": [
        {
          "output_type": "stream",
          "name": "stdout",
          "text": [
            "Top 5 Most Important Features:\n",
            "     Feature  Importance\n",
            "2  Feature 2    0.193299\n",
            "3  Feature 3    0.118216\n",
            "8  Feature 8    0.114674\n",
            "5  Feature 5    0.111444\n",
            "6  Feature 6    0.091751\n"
          ]
        }
      ]
    },
    {
      "cell_type": "markdown",
      "source": [
        "38. Train a Bagging Classifier and evaluate performance using Precision, Recall, and F1-score.\n"
      ],
      "metadata": {
        "id": "NKTGuRXt_rvz"
      }
    },
    {
      "cell_type": "code",
      "source": [
        "from sklearn.ensemble import BaggingClassifier\n",
        "from sklearn.tree import DecisionTreeClassifier\n",
        "from sklearn.datasets import make_classification\n",
        "from sklearn.model_selection import train_test_split\n",
        "from sklearn.metrics import classification_report\n",
        "\n",
        "# Generate synthetic classification dataset\n",
        "X, y = make_classification(n_samples=1000, n_features=10, n_classes=3, n_informative=8, random_state=42)\n",
        "\n",
        "# Split into training and test sets (80-20 split)\n",
        "X_train, X_test, y_train, y_test = train_test_split(X, y, test_size=0.2, random_state=42)\n",
        "\n",
        "# Train a Bagging Classifier with Decision Trees as base estimator\n",
        "bagging_clf = BaggingClassifier(\n",
        "    estimator=DecisionTreeClassifier(),\n",
        "    n_estimators=50,\n",
        "    random_state=42\n",
        ")\n",
        "bagging_clf.fit(X_train, y_train)\n",
        "\n",
        "# Make predictions\n",
        "y_pred = bagging_clf.predict(X_test)\n",
        "\n",
        "# Evaluate performance using Precision, Recall, and F1-score\n",
        "print(\"Classification Report:\")\n",
        "print(classification_report(y_test, y_pred))\n"
      ],
      "metadata": {
        "colab": {
          "base_uri": "https://localhost:8080/"
        },
        "id": "zqaaMcW5_t2H",
        "outputId": "d62e9c06-b26d-49fd-97f7-c170a4fa5ee1"
      },
      "execution_count": 24,
      "outputs": [
        {
          "output_type": "stream",
          "name": "stdout",
          "text": [
            "Classification Report:\n",
            "              precision    recall  f1-score   support\n",
            "\n",
            "           0       0.89      0.84      0.86        67\n",
            "           1       0.86      0.86      0.86        70\n",
            "           2       0.81      0.86      0.83        63\n",
            "\n",
            "    accuracy                           0.85       200\n",
            "   macro avg       0.85      0.85      0.85       200\n",
            "weighted avg       0.85      0.85      0.85       200\n",
            "\n"
          ]
        }
      ]
    },
    {
      "cell_type": "markdown",
      "source": [
        "39. Train a Random Forest Classifier and analyze the effect of max_depth on accuracy.\n"
      ],
      "metadata": {
        "id": "6y2zhkQV_uQa"
      }
    },
    {
      "cell_type": "code",
      "source": [
        "import numpy as np\n",
        "import matplotlib.pyplot as plt\n",
        "from sklearn.ensemble import RandomForestClassifier\n",
        "from sklearn.datasets import make_classification\n",
        "from sklearn.model_selection import train_test_split\n",
        "from sklearn.metrics import accuracy_score\n",
        "\n",
        "# Generate synthetic classification dataset\n",
        "X, y = make_classification(n_samples=1000, n_features=10, n_classes=3, n_informative=8, random_state=42)\n",
        "\n",
        "# Split into training and test sets (80-20 split)\n",
        "X_train, X_test, y_train, y_test = train_test_split(X, y, test_size=0.2, random_state=42)\n",
        "\n",
        "# List of max_depth values to test\n",
        "max_depth_values = range(1, 21)\n",
        "\n",
        "# Store accuracy results\n",
        "train_accuracies = []\n",
        "test_accuracies = []\n",
        "\n",
        "# Train Random Forest for different max_depth values\n",
        "for max_depth in max_depth_values:\n",
        "    rf_clf = RandomForestClassifier(n_estimators=100, max_depth=max_depth, random_state=42)\n",
        "    rf_clf.fit(X_train, y_train)\n",
        "\n",
        "    # Evaluate on training and test data\n",
        "    train_acc = accuracy_score(y_train, rf_clf.predict(X_train))\n",
        "    test_acc = accuracy_score(y_test, rf_clf.predict(X_test))\n",
        "\n",
        "    train_accuracies.append(train_acc)\n",
        "    test_accuracies.append(test_acc)\n",
        "\n",
        "# Plot accuracy vs. max_depth\n",
        "plt.figure(figsize=(8, 5))\n",
        "plt.plot(max_depth_values, train_accuracies, label=\"Training Accuracy\", marker=\"o\")\n",
        "plt.plot(max_depth_values, test_accuracies, label=\"Test Accuracy\", marker=\"s\")\n",
        "plt.xlabel(\"Max Depth\")\n",
        "plt.ylabel(\"Accuracy\")\n",
        "plt.title(\"Effect of max_depth on Random Forest Accuracy\")\n",
        "plt.legend()\n",
        "plt.grid()\n",
        "plt.show()\n"
      ],
      "metadata": {
        "colab": {
          "base_uri": "https://localhost:8080/",
          "height": 487
        },
        "id": "ld8mn-r3_wbP",
        "outputId": "5e8144ea-d953-465b-bd9e-0ecb82321859"
      },
      "execution_count": 25,
      "outputs": [
        {
          "output_type": "display_data",
          "data": {
            "text/plain": [
              "<Figure size 800x500 with 1 Axes>"
            ],
            "image/png": "[encoded data removed]"
          },
          "metadata": {}
        }
      ]
    },
    {
      "cell_type": "markdown",
      "source": [
        "40. Train a Bagging Regressor using different base estimators (DecisionTree and KNeighbors) and compare performance.\n"
      ],
      "metadata": {
        "id": "t0L8i4Q5_w2H"
      }
    },
    {
      "cell_type": "code",
      "source": [
        "import numpy as np\n",
        "import matplotlib.pyplot as plt\n",
        "from sklearn.ensemble import BaggingRegressor\n",
        "from sklearn.tree import DecisionTreeRegressor\n",
        "from sklearn.neighbors import KNeighborsRegressor\n",
        "from sklearn.datasets import make_regression\n",
        "from sklearn.model_selection import train_test_split\n",
        "from sklearn.metrics import mean_squared_error\n",
        "\n",
        "# Generate synthetic regression dataset\n",
        "X, y = make_regression(n_samples=1000, n_features=10, noise=0.2, random_state=42)\n",
        "\n",
        "# Split into training and test sets (80-20 split)\n",
        "X_train, X_test, y_train, y_test = train_test_split(X, y, test_size=0.2, random_state=42)\n",
        "\n",
        "# Define base estimators\n",
        "dt_regressor = DecisionTreeRegressor(random_state=42)\n",
        "knn_regressor = KNeighborsRegressor(n_neighbors=5)\n",
        "\n",
        "# Train Bagging Regressor with Decision Tree\n",
        "bagging_dt = BaggingRegressor(estimator=dt_regressor, n_estimators=50, random_state=42)\n",
        "bagging_dt.fit(X_train, y_train)\n",
        "y_pred_dt = bagging_dt.predict(X_test)\n",
        "mse_dt = mean_squared_error(y_test, y_pred_dt)\n",
        "\n",
        "# Train Bagging Regressor with KNN\n",
        "bagging_knn = BaggingRegressor(estimator=knn_regressor, n_estimators=50, random_state=42)\n",
        "bagging_knn.fit(X_train, y_train)\n",
        "y_pred_knn = bagging_knn.predict(X_test)\n",
        "mse_knn = mean_squared_error(y_test, y_pred_knn)\n",
        "\n",
        "# Print MSE results\n",
        "print(f\"Mean Squared Error (Decision Tree as base estimator): {mse_dt:.4f}\")\n",
        "print(f\"Mean Squared Error (KNN as base estimator): {mse_knn:.4f}\")\n",
        "\n",
        "# Compare performance visually\n",
        "plt.bar([\"Decision Tree\", \"KNN\"], [mse_dt, mse_knn], color=['blue', 'green'])\n",
        "plt.ylabel(\"Mean Squared Error (MSE)\")\n",
        "plt.title(\"Bagging Regressor Performance Comparison\")\n",
        "plt.show()\n"
      ],
      "metadata": {
        "colab": {
          "base_uri": "https://localhost:8080/",
          "height": 489
        },
        "id": "0ht_f_2T_yov",
        "outputId": "e7a36ba4-7cbc-4bae-a3d6-df9a172b1c76"
      },
      "execution_count": 26,
      "outputs": [
        {
          "output_type": "stream",
          "name": "stdout",
          "text": [
            "Mean Squared Error (Decision Tree as base estimator): 2594.4270\n",
            "Mean Squared Error (KNN as base estimator): 3524.3855\n"
          ]
        },
        {
          "output_type": "display_data",
          "data": {
            "text/plain": [
              "<Figure size 640x480 with 1 Axes>"
            ],
            "image/png": "[encoded data removed]"
          },
          "metadata": {}
        }
      ]
    },
    {
      "cell_type": "markdown",
      "source": [
        "41. Train a Random Forest Classifier and evaluate its performance using ROC-AUC Score.\n"
      ],
      "metadata": {
        "id": "s9wEikLd_zFj"
      }
    },
    {
      "cell_type": "code",
      "source": [
        "import numpy as np\n",
        "import matplotlib.pyplot as plt\n",
        "from sklearn.ensemble import RandomForestClassifier\n",
        "from sklearn.datasets import make_classification\n",
        "from sklearn.model_selection import train_test_split\n",
        "from sklearn.metrics import roc_auc_score, roc_curve\n",
        "\n",
        "# Generate synthetic classification dataset\n",
        "X, y = make_classification(n_samples=1000, n_features=10, n_classes=2, n_informative=8, random_state=42)\n",
        "\n",
        "# Split into training and test sets (80-20 split)\n",
        "X_train, X_test, y_train, y_test = train_test_split(X, y, test_size=0.2, random_state=42)\n",
        "\n",
        "# Train a Random Forest Classifier\n",
        "rf_clf = RandomForestClassifier(n_estimators=100, random_state=42)\n",
        "rf_clf.fit(X_train, y_train)\n",
        "\n",
        "# Get predicted probabilities\n",
        "y_probs = rf_clf.predict_proba(X_test)[:, 1]  # Get probability of the positive class\n",
        "\n",
        "# Compute ROC-AUC Score\n",
        "roc_auc = roc_auc_score(y_test, y_probs)\n",
        "print(f\"ROC-AUC Score: {roc_auc:.4f}\")\n",
        "\n",
        "# Compute ROC Curve\n",
        "fpr, tpr, _ = roc_curve(y_test, y_probs)\n",
        "\n",
        "# Plot ROC Curve\n",
        "plt.figure(figsize=(8, 5))\n",
        "plt.plot(fpr, tpr, label=f\"Random Forest (AUC = {roc_auc:.4f})\", color='blue')\n",
        "plt.plot([0, 1], [0, 1], linestyle='--', color='gray')  # Diagonal line\n",
        "plt.xlabel(\"False Positive Rate (FPR)\")\n",
        "plt.ylabel(\"True Positive Rate (TPR)\")\n",
        "plt.title(\"ROC Curve for Random Forest Classifier\")\n",
        "plt.legend()\n",
        "plt.grid()\n",
        "plt.show()\n"
      ],
      "metadata": {
        "colab": {
          "base_uri": "https://localhost:8080/",
          "height": 505
        },
        "id": "KddzJsAF_1WG",
        "outputId": "e686e643-0ffb-4145-a5fe-c8142d14421b"
      },
      "execution_count": 27,
      "outputs": [
        {
          "output_type": "stream",
          "name": "stdout",
          "text": [
            "ROC-AUC Score: 0.9428\n"
          ]
        },
        {
          "output_type": "display_data",
          "data": {
            "text/plain": [
              "<Figure size 800x500 with 1 Axes>"
            ],
            "image/png": "[encoded data removed]"
          },
          "metadata": {}
        }
      ]
    },
    {
      "cell_type": "markdown",
      "source": [
        "42. Train a Bagging Classifier and evaluate its performance using cross-validatio.\n"
      ],
      "metadata": {
        "id": "GAadXULz_1qC"
      }
    },
    {
      "cell_type": "code",
      "source": [
        "import numpy as np\n",
        "from sklearn.ensemble import BaggingClassifier\n",
        "from sklearn.tree import DecisionTreeClassifier\n",
        "from sklearn.datasets import make_classification\n",
        "from sklearn.model_selection import cross_val_score, StratifiedKFold\n",
        "\n",
        "# Generate synthetic classification dataset\n",
        "X, y = make_classification(n_samples=1000, n_features=10, n_classes=2, n_informative=8, random_state=42)\n",
        "\n",
        "# Define Bagging Classifier with Decision Tree as base estimator\n",
        "bagging_clf = BaggingClassifier(\n",
        "    estimator=DecisionTreeClassifier(),\n",
        "    n_estimators=50,\n",
        "    random_state=42\n",
        ")\n",
        "\n",
        "# Perform 5-fold cross-validation\n",
        "cv = StratifiedKFold(n_splits=5, shuffle=True, random_state=42)\n",
        "cv_scores = cross_val_score(bagging_clf, X, y, cv=cv, scoring='accuracy')\n",
        "\n",
        "# Print cross-validation results\n",
        "print(f\"Cross-validation scores: {cv_scores}\")\n",
        "print(f\"Mean Accuracy: {cv_scores.mean():.4f}\")\n",
        "print(f\"Standard Deviation: {cv_scores.std():.4f}\")\n"
      ],
      "metadata": {
        "colab": {
          "base_uri": "https://localhost:8080/"
        },
        "id": "N4UQbpHy_3hJ",
        "outputId": "62f6c157-8da6-4d49-9702-6d071f97e78a"
      },
      "execution_count": 28,
      "outputs": [
        {
          "output_type": "stream",
          "name": "stdout",
          "text": [
            "Cross-validation scores: [0.865 0.88  0.88  0.9   0.88 ]\n",
            "Mean Accuracy: 0.8810\n",
            "Standard Deviation: 0.0111\n"
          ]
        }
      ]
    },
    {
      "cell_type": "markdown",
      "source": [
        "43. Train a Random Forest Classifier and plot the Precision-Recall curv.\n"
      ],
      "metadata": {
        "id": "Jg77XVpb_35v"
      }
    },
    {
      "cell_type": "code",
      "source": [
        "import numpy as np\n",
        "import matplotlib.pyplot as plt\n",
        "from sklearn.ensemble import RandomForestClassifier\n",
        "from sklearn.datasets import make_classification\n",
        "from sklearn.model_selection import train_test_split\n",
        "from sklearn.metrics import precision_recall_curve, average_precision_score\n",
        "\n",
        "# Generate synthetic classification dataset\n",
        "X, y = make_classification(n_samples=1000, n_features=10, n_classes=2, n_informative=8, random_state=42)\n",
        "\n",
        "# Split into training and test sets (80-20 split)\n",
        "X_train, X_test, y_train, y_test = train_test_split(X, y, test_size=0.2, random_state=42)\n",
        "\n",
        "# Train a Random Forest Classifier\n",
        "rf_clf = RandomForestClassifier(n_estimators=100, random_state=42)\n",
        "rf_clf.fit(X_train, y_train)\n",
        "\n",
        "# Get predicted probabilities for positive class\n",
        "y_probs = rf_clf.predict_proba(X_test)[:, 1]\n",
        "\n",
        "# Compute precision-recall curve\n",
        "precision, recall, _ = precision_recall_curve(y_test, y_probs)\n",
        "\n",
        "# Compute average precision score\n",
        "avg_precision = average_precision_score(y_test, y_probs)\n",
        "print(f\"Average Precision Score: {avg_precision:.4f}\")\n",
        "\n",
        "# Plot Precision-Recall curve\n",
        "plt.figure(figsize=(8, 5))\n",
        "plt.plot(recall, precision, label=f\"Random Forest (AP = {avg_precision:.4f})\", color='blue')\n",
        "plt.xlabel(\"Recall\")\n",
        "plt.ylabel(\"Precision\")\n",
        "plt.title(\"Precision-Recall Curve for Random Forest Classifier\")\n",
        "plt.legend()\n",
        "plt.grid()\n",
        "plt.show()\n"
      ],
      "metadata": {
        "colab": {
          "base_uri": "https://localhost:8080/",
          "height": 505
        },
        "id": "oro28LHi_6Ao",
        "outputId": "da2e9367-ef08-4abf-df82-10adf84157cb"
      },
      "execution_count": 29,
      "outputs": [
        {
          "output_type": "stream",
          "name": "stdout",
          "text": [
            "Average Precision Score: 0.9234\n"
          ]
        },
        {
          "output_type": "display_data",
          "data": {
            "text/plain": [
              "<Figure size 800x500 with 1 Axes>"
            ],
            "image/png": "[encoded data removed]"
          },
          "metadata": {}
        }
      ]
    },
    {
      "cell_type": "markdown",
      "source": [
        "44. Train a Stacking Classifier with Random Forest and Logistic Regression and compare accuracy.\n"
      ],
      "metadata": {
        "id": "KPQpBIlZ_6Za"
      }
    },
    {
      "cell_type": "code",
      "source": [
        "import numpy as np\n",
        "from sklearn.ensemble import StackingClassifier, RandomForestClassifier\n",
        "from sklearn.linear_model import LogisticRegression\n",
        "from sklearn.datasets import make_classification\n",
        "from sklearn.model_selection import train_test_split\n",
        "from sklearn.metrics import accuracy_score\n",
        "\n",
        "# Generate synthetic classification dataset\n",
        "X, y = make_classification(n_samples=1000, n_features=10, n_classes=2, n_informative=8, random_state=42)\n",
        "\n",
        "# Split into training and test sets (80-20 split)\n",
        "X_train, X_test, y_train, y_test = train_test_split(X, y, test_size=0.2, random_state=42)\n",
        "\n",
        "# Define base estimators\n",
        "base_estimators = [\n",
        "    ('rf', RandomForestClassifier(n_estimators=100, random_state=42)),\n",
        "    ('lr', LogisticRegression(max_iter=1000, random_state=42))\n",
        "]\n",
        "\n",
        "# Define Stacking Classifier with Logistic Regression as final estimator\n",
        "stacking_clf = StackingClassifier(estimators=base_estimators, final_estimator=LogisticRegression(), cv=5)\n",
        "stacking_clf.fit(X_train, y_train)\n",
        "\n",
        "# Train individual models for comparison\n",
        "rf_clf = RandomForestClassifier(n_estimators=100, random_state=42)\n",
        "rf_clf.fit(X_train, y_train)\n",
        "\n",
        "lr_clf = LogisticRegression(max_iter=1000, random_state=42)\n",
        "lr_clf.fit(X_train, y_train)\n",
        "\n",
        "# Predict and evaluate accuracy\n",
        "y_pred_stack = stacking_clf.predict(X_test)\n",
        "y_pred_rf = rf_clf.predict(X_test)\n",
        "y_pred_lr = lr_clf.predict(X_test)\n",
        "\n",
        "acc_stack = accuracy_score(y_test, y_pred_stack)\n",
        "acc_rf = accuracy_score(y_test, y_pred_rf)\n",
        "acc_lr = accuracy_score(y_test, y_pred_lr)\n",
        "\n",
        "# Print Accuracy Scores\n",
        "print(f\"Accuracy (Stacking Classifier): {acc_stack:.4f}\")\n",
        "print(f\"Accuracy (Random Forest): {acc_rf:.4f}\")\n",
        "print(f\"Accuracy (Logistic Regression): {acc_lr:.4f}\")\n"
      ],
      "metadata": {
        "colab": {
          "base_uri": "https://localhost:8080/"
        },
        "id": "lQ_SAXbo_9Be",
        "outputId": "4f7895b0-0974-4e4b-e955-68c6abcade70"
      },
      "execution_count": 30,
      "outputs": [
        {
          "output_type": "stream",
          "name": "stdout",
          "text": [
            "Accuracy (Stacking Classifier): 0.8700\n",
            "Accuracy (Random Forest): 0.8700\n",
            "Accuracy (Logistic Regression): 0.6750\n"
          ]
        }
      ]
    },
    {
      "cell_type": "markdown",
      "source": [
        "45. Train a Bagging Regressor with different levels of bootstrap samples and compare performance."
      ],
      "metadata": {
        "id": "D68VzVAe_8jh"
      }
    },
    {
      "cell_type": "code",
      "source": [
        "import numpy as np\n",
        "import matplotlib.pyplot as plt\n",
        "from sklearn.ensemble import BaggingRegressor\n",
        "from sklearn.tree import DecisionTreeRegressor\n",
        "from sklearn.datasets import make_regression\n",
        "from sklearn.model_selection import train_test_split\n",
        "from sklearn.metrics import mean_squared_error\n",
        "\n",
        "# Generate synthetic regression dataset\n",
        "X, y = make_regression(n_samples=1000, n_features=10, noise=0.2, random_state=42)\n",
        "\n",
        "# Split into training and test sets (80-20 split)\n",
        "X_train, X_test, y_train, y_test = train_test_split(X, y, test_size=0.2, random_state=42)\n",
        "\n",
        "# Different bootstrap sample sizes\n",
        "bootstrap_sizes = [0.5, 0.7, 0.9, 1.0]\n",
        "mse_scores = []\n",
        "\n",
        "# Train Bagging Regressor with different bootstrap sample sizes\n",
        "for size in bootstrap_sizes:\n",
        "    bagging_reg = BaggingRegressor(\n",
        "        estimator=DecisionTreeRegressor(),\n",
        "        n_estimators=50,\n",
        "        max_samples=size,  # Varying bootstrap sample size\n",
        "        random_state=42\n",
        "    )\n",
        "    bagging_reg.fit(X_train, y_train)\n",
        "    y_pred = bagging_reg.predict(X_test)\n",
        "    mse = mean_squared_error(y_test, y_pred)\n",
        "    mse_scores.append(mse)\n",
        "    print(f\"Bootstrap Sample Size: {size}, MSE: {mse:.4f}\")\n",
        "\n",
        "# Plot MSE vs Bootstrap Sample Size\n",
        "plt.figure(figsize=(8, 5))\n",
        "plt.plot(bootstrap_sizes, mse_scores, marker='o', linestyle='-', color='b')\n",
        "plt.xlabel(\"Bootstrap Sample Size (max_samples)\")\n",
        "plt.ylabel(\"Mean Squared Error (MSE)\")\n",
        "plt.title(\"Effect of Bootstrap Sample Size on Bagging Regressor Performance\")\n",
        "plt.grid()\n",
        "plt.show()\n"
      ],
      "metadata": {
        "colab": {
          "base_uri": "https://localhost:8080/",
          "height": 560
        },
        "id": "sbtcvg7__-f5",
        "outputId": "4e701f4a-60ce-428b-a1e3-c91fd49b251f"
      },
      "execution_count": 31,
      "outputs": [
        {
          "output_type": "stream",
          "name": "stdout",
          "text": [
            "Bootstrap Sample Size: 0.5, MSE: 2637.7477\n",
            "Bootstrap Sample Size: 0.7, MSE: 2711.9293\n",
            "Bootstrap Sample Size: 0.9, MSE: 2725.8609\n",
            "Bootstrap Sample Size: 1.0, MSE: 2594.4270\n"
          ]
        },
        {
          "output_type": "display_data",
          "data": {
            "text/plain": [
              "<Figure size 800x500 with 1 Axes>"
            ],
            "image/png": "[encoded data removed]"
          },
          "metadata": {}
        }
      ]
    },
    {
      "cell_type": "code",
      "source": [],
      "metadata": {
        "id": "Vb4QseMQCyCI"
      },
      "execution_count": null,
      "outputs": []
    }
  ]
}