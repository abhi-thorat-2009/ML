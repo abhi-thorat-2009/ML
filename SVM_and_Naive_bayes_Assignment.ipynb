{
  "nbformat": 4,
  "nbformat_minor": 0,
  "metadata": {
    "colab": {
      "provenance": []
    },
    "kernelspec": {
      "name": "python3",
      "display_name": "Python 3"
    },
    "language_info": {
      "name": "python"
    }
  },
  "cells": [
    {
      "cell_type": "markdown",
      "source": [
        "# Theoretical"
      ],
      "metadata": {
        "id": "lhbAPw8i_MOB"
      }
    },
    {
      "cell_type": "markdown",
      "source": [
        "\n",
        "\n",
        "**Support Vector Machines (SVMs)**\n"
      ],
      "metadata": {
        "id": "7ZEs2Nhs_JCC"
      }
    },
    {
      "cell_type": "markdown",
      "source": [
        "### 1.  What is a Support Vector Machine (SVM)?\n",
        "\n",
        "A Support Vector Machine (SVM) is a powerful and versatile supervised machine learning algorithm used for both classification and regression tasks.  Its primary goal is to find the optimal hyperplane that maximally separates data points of different classes (in classification) or best fits the data (in regression).\n",
        "\n",
        "Here's a breakdown of the key concepts:\n",
        "\n",
        "* **Hyperplane:** In a two-dimensional space, a hyperplane is simply a line. In higher dimensions, it's a generalization of a line (e.g., a plane in 3D).  The hyperplane acts as the decision boundary.\n",
        "\n",
        "* **Margin:** The margin is the distance between the hyperplane and the closest data points from each class.  SVMs aim to maximize this margin.  A larger margin generally leads to better generalization performance on unseen data.\n",
        "\n",
        "* **Support Vectors:** These are the data points that lie closest to the hyperplane and are crucial for defining the margin and the hyperplane's orientation.  They \"support\" the hyperplane.  The decision boundary is entirely determined by the support vectors; other data points don't influence it.\n",
        "\n",
        "* **Kernel Trick:**  SVMs can handle non-linearly separable data by using the kernel trick.  This technique maps the data to a higher-dimensional feature space where it becomes linearly separable.  The \"trick\" is that the kernel functions perform this mapping implicitly, without explicitly transforming the data, which is computationally efficient.\n",
        "\n",
        "* **Regularization (C parameter):**  The C parameter controls the trade-off between maximizing the margin and minimizing the classification error.  A smaller C allows for a wider margin but might misclassify some points.  A larger C penalizes misclassifications more heavily, potentially leading to a narrower margin and overfitting.\n",
        "\n",
        "In essence, SVMs try to find the \"best\" line (or hyperplane) to separate the data, where \"best\" is defined by maximizing the margin and, in the case of soft margin SVMs, balancing this with the cost of misclassifications.\n",
        "\n",
        "\n"
      ],
      "metadata": {
        "id": "Cs8mZrPv_aqz"
      }
    },
    {
      "cell_type": "code",
      "execution_count": null,
      "metadata": {
        "id": "B09ABXyf-7A_"
      },
      "outputs": [],
      "source": []
    },
    {
      "cell_type": "markdown",
      "source": [
        "### 2.  What is the difference between Hard Margin and Soft Margin SVM?\n",
        "\n",
        "The key difference between Hard Margin and Soft Margin SVM lies in how they handle datasets that are *not* perfectly linearly separable.\n",
        "\n",
        "*   **Hard Margin SVM:**\n",
        "\n",
        "    *   **Assumption:** The data is perfectly linearly separable.  This means you can draw a straight line (or hyperplane in higher dimensions) that completely divides the classes with no overlap.\n",
        "    *   **Goal:** Find the hyperplane that maximizes the margin while *perfectly* separating the classes.\n",
        "    *   **Characteristics:**  Very sensitive to outliers.  If even one outlier is on the wrong side of the margin, the Hard Margin SVM might fail to find a solution or produce a very narrow margin.  It's not applicable to most real-world datasets, which almost always have some degree of overlap or noise.\n",
        "    *   **Use Case:** Primarily theoretical; rarely used in practice due to its sensitivity to outliers.\n",
        "\n",
        "*   **Soft Margin SVM:**\n",
        "\n",
        "    *   **Assumption:** The data may not be perfectly linearly separable.  There might be overlapping points or outliers within the margin.\n",
        "    *   **Goal:** Find the hyperplane that maximizes the margin while *allowing* for some misclassifications or points within the margin.  It balances maximizing the margin with minimizing the \"cost\" of these violations.\n",
        "    *   **Characteristics:** More robust to outliers and noise.  It uses a \"slack variable\" (often denoted as ξ - xi) to measure the degree to which a data point violates the margin.  The C parameter (regularization parameter) controls the trade-off:\n",
        "        *   **Small C:** Allows for more margin violations (wider margin, potentially more misclassifications).  Good for datasets with noise or overlapping classes where a perfect separation isn't possible or desirable.\n",
        "        *   **Large C:** Penalizes margin violations more heavily (narrower margin, fewer misclassifications).  Good if you want to classify as many training examples correctly as possible, even at the cost of a smaller margin (but be careful of overfitting).\n",
        "    *   **Use Case:**  Much more practical and widely used than Hard Margin SVM.  It's suitable for most real-world datasets where perfect linear separability is not achievable.\n",
        "\n",
        "In simpler terms: Imagine trying to divide red and blue balls with a line. Hard Margin SVM insists you draw the line so that *no* balls are on the wrong side. Soft Margin SVM allows a few balls to be on the wrong side or even within the \"no man's land\" around the line, making the line more adaptable to a messy arrangement of balls. The C parameter controls how much you tolerate balls being in the wrong place.\n",
        "\n"
      ],
      "metadata": {
        "id": "eyvDHNK1_rle"
      }
    },
    {
      "cell_type": "code",
      "source": [],
      "metadata": {
        "id": "N4LyUMTV_vLP"
      },
      "execution_count": null,
      "outputs": []
    },
    {
      "cell_type": "markdown",
      "source": [
        "### 3.  What is the mathematical intuition behind SVM?\n",
        "\n",
        "The mathematical intuition behind SVM revolves around finding the optimal hyperplane that maximizes the margin while (in the case of soft margin SVM) minimizing classification errors. Let's break down the key concepts and how they're mathematically expressed:\n",
        "\n",
        "**1. Defining the Hyperplane:**\n",
        "\n",
        "A hyperplane in an *n*-dimensional space can be defined by the following equation:\n",
        "\n",
        "```\n",
        "w ⋅ x + b = 0\n",
        "```\n",
        "\n",
        "Where:\n",
        "\n",
        "*   `w` is the weight vector (a vector perpendicular to the hyperplane).\n",
        "*   `x` is a data point (a vector in *n*-dimensional space).\n",
        "*   `b` is the bias (a scalar that shifts the hyperplane).\n",
        "\n",
        "For classification, we want to find `w` and `b` such that:\n",
        "\n",
        "*   `w ⋅ x + b >= +1` for positive class data points.\n",
        "*   `w ⋅ x + b <= -1` for negative class data points.\n",
        "\n",
        "**2. Defining the Margin:**\n",
        "\n",
        "The margin is the distance between the hyperplane and the closest data points (the support vectors).  The width of the margin is given by `2 / ||w||`, where `||w||` is the Euclidean norm (magnitude) of the weight vector `w`.  Maximizing the margin is equivalent to minimizing `||w||`.\n",
        "\n",
        "**3. The Optimization Problem (Hard Margin SVM):**\n",
        "\n",
        "The goal of a Hard Margin SVM is to find `w` and `b` that:\n",
        "\n",
        "*   Minimize: `(1/2) * ||w||^2`  (equivalent to minimizing `||w||`)\n",
        "*   Subject to: `y_i * (w ⋅ x_i + b) >= 1` for all data points `x_i`, where `y_i` is the class label (+1 or -1).\n",
        "\n",
        "This is a constrained optimization problem.\n",
        "\n",
        "**4. The Optimization Problem (Soft Margin SVM):**\n",
        "\n",
        "Soft Margin SVM introduces slack variables (`ξ_i`) to allow for misclassifications or points within the margin.  The goal is to find `w`, `b`, and `ξ_i` that:\n",
        "\n",
        "*   Minimize: `(1/2) * ||w||^2 + C * Σ ξ_i`\n",
        "*   Subject to: `y_i * (w ⋅ x_i + b) >= 1 - ξ_i` and `ξ_i >= 0` for all data points `x_i`.\n",
        "\n",
        "Where:\n",
        "\n",
        "*   `C` is the regularization parameter.  It controls the trade-off between maximizing the margin and minimizing the classification error (number of points violating the margin).\n",
        "\n",
        "**5. Lagrange Multipliers:**\n",
        "\n",
        "To solve these constrained optimization problems, the method of Lagrange multipliers is used.  This method converts the constrained problem into an unconstrained one by introducing Lagrange multipliers (α_i).  The optimization problem is then expressed in terms of `w`, `b`, and `α_i`.\n",
        "\n",
        "**6. Dual Formulation:**\n",
        "\n",
        "The optimization problem is often solved in its *dual* formulation.  The dual problem is easier to solve computationally and has the advantage that the data points appear only in the form of dot products (`x_i ⋅ x_j`). This is where the kernel trick comes in.\n",
        "\n",
        "**7. The Kernel Trick:**\n",
        "\n",
        "The kernel trick allows us to implicitly map the data to a higher-dimensional feature space using kernel functions `k(x_i, x_j) = φ(x_i) ⋅ φ(x_j)`, where `φ(x)` is the mapping function.  We don't need to explicitly calculate `φ(x)`; the kernel function does it for us.\n",
        "\n",
        "**In summary:** The mathematical intuition behind SVM is to formulate the problem of finding the optimal separating hyperplane as a constrained optimization problem. Lagrange multipliers are used to solve this problem, and the kernel trick enables SVMs to work with non-linearly separable data by implicitly mapping the data to a higher-dimensional space. The solution involves finding the weight vector `w` and bias `b` that define the hyperplane, as well as the Lagrange multipliers, which are related to the support vectors.\n",
        "\n"
      ],
      "metadata": {
        "id": "r2E-ym2y_vhw"
      }
    },
    {
      "cell_type": "code",
      "source": [],
      "metadata": {
        "id": "gzzp7Ee8_y7C"
      },
      "execution_count": null,
      "outputs": []
    },
    {
      "cell_type": "markdown",
      "source": [
        "### 4.  What is the role of Lagrange Multipliers in SVM?\n",
        "\n",
        "Lagrange multipliers play a crucial role in Support Vector Machines (SVMs) by enabling us to solve the constrained optimization problem of finding the optimal hyperplane.  Here's a breakdown of their role:\n",
        "\n",
        "1. **Constrained Optimization:** The core task in SVM is to find the hyperplane that maximizes the margin while (in soft margin SVM) minimizing classification errors. This is a *constrained optimization problem* because we have constraints on the values of the weight vector (`w`) and bias (`b`) based on the data points' class labels.  These constraints ensure that the data points are correctly classified (or, in soft margin SVM, that the margin violations are controlled).\n",
        "\n",
        "2. **Converting to Unconstrained Problem:** The method of Lagrange multipliers is a mathematical technique that transforms a constrained optimization problem into an *unconstrained* one.  It does this by introducing new variables, the Lagrange multipliers (often denoted as α_i), and incorporating the constraints into the objective function.\n",
        "\n",
        "3. **The Lagrangian:**  The Lagrangian is a function that combines the original objective function (e.g., minimizing `||w||^2`) and the constraints using the Lagrange multipliers.  The Lagrangian is constructed such that minimizing the Lagrangian with respect to `w` and `b` (and maximizing it with respect to the α_i) is equivalent to solving the original constrained optimization problem.\n",
        "\n",
        "4. **Solving the Unconstrained Problem:**  The unconstrained optimization problem (in terms of the Lagrangian) is typically easier to solve using standard optimization techniques (e.g., taking derivatives and setting them to zero).\n",
        "\n",
        "5. **Support Vectors:** The Lagrange multipliers (α_i) have a direct connection to the support vectors.  The α_i are non-zero *only* for the support vectors (the data points closest to the hyperplane).  This means that the optimal hyperplane is defined entirely by the support vectors.  The values of the α_i indicate the \"importance\" of each support vector in defining the hyperplane.\n",
        "\n",
        "6. **Dual Formulation:**  The optimization problem in SVM is often solved in its *dual* formulation.  The dual formulation is derived using the Lagrangian and has several advantages:\n",
        "    *   It's often computationally more efficient to solve.\n",
        "    *   The data points appear only in the form of dot products, which is crucial for the kernel trick.\n",
        "\n",
        "In summary, Lagrange multipliers are essential for:\n",
        "\n",
        "*   Converting the constrained optimization problem of finding the optimal hyperplane into an unconstrained one.\n",
        "*   Identifying the support vectors (data points with non-zero Lagrange multipliers).\n",
        "*   Formulating the dual optimization problem, which is often easier to solve and enables the use of the kernel trick.\n",
        "\n"
      ],
      "metadata": {
        "id": "kqP5fDs0_zRd"
      }
    },
    {
      "cell_type": "code",
      "source": [],
      "metadata": {
        "id": "6Y4WVYDj_23M"
      },
      "execution_count": null,
      "outputs": []
    },
    {
      "cell_type": "markdown",
      "source": [
        "### 5.  What are Support Vectors in SVM?\n",
        "\n",
        "Support Vectors are the most crucial data points in a Support Vector Machine (SVM). They are the data points that lie closest to the hyperplane and directly influence its position and orientation.  Here's a breakdown of their significance:\n",
        "\n",
        "1. **Defining the Margin:** The margin in an SVM is determined by the distance between the hyperplane and the *closest* data points from each class. These closest data points are the Support Vectors.  The margin's width is directly related to the distance between the Support Vectors of the two classes.\n",
        "\n",
        "2. **Hyperplane Determination:** The hyperplane's position and orientation are *entirely* determined by the Support Vectors.  If you were to remove all other data points (the non-support vectors), the hyperplane would remain the same.  The non-support vectors play no role in defining the decision boundary.\n",
        "\n",
        "3. **Critical Data Points:** Support Vectors are the most \"important\" data points in the dataset in the context of the SVM. They are the most difficult data points to classify and are the ones that the SVM focuses on.\n",
        "\n",
        "4. **Sparse Solution:**  SVMs produce a sparse solution, meaning that only a small subset of the data points (the Support Vectors) are used to define the decision boundary. This makes SVMs memory-efficient, especially for high-dimensional data.\n",
        "\n",
        "5. **Connection to Lagrange Multipliers:** In the mathematical formulation of SVM, each data point is associated with a Lagrange multiplier (α_i).  The Lagrange multipliers are non-zero *only* for the Support Vectors. The magnitude of the Lagrange multiplier indicates the influence of that particular support vector on the decision boundary.\n",
        "\n",
        "In simpler terms: Imagine you're trying to separate apples and oranges with a line. The Support Vectors are like the apples and oranges that are right on the border between the two groups.  They're the ones that are hardest to classify, and they're the ones that determine where you draw the line.  All the other apples and oranges further away from the border don't really matter for deciding where the line goes.\n",
        "\n"
      ],
      "metadata": {
        "id": "tdiXRaX9_3OK"
      }
    },
    {
      "cell_type": "code",
      "source": [],
      "metadata": {
        "id": "Taq7MEzt_6jl"
      },
      "execution_count": null,
      "outputs": []
    },
    {
      "cell_type": "markdown",
      "source": [
        "### 6.  What is a Support Vector Classifier (SVC)?\n",
        "\n",
        "A Support Vector Classifier (SVC) is simply the application of a Support Vector Machine (SVM) algorithm specifically for **classification** tasks.  It's the version of SVM that you use when your goal is to categorize data points into different classes.\n",
        "\n",
        "Think of it this way:  SVM is the general concept and the underlying algorithm. SVC is the specific tool you use when you want to build a classification model using the SVM principles.\n",
        "\n",
        "Here's how SVC works in a nutshell:\n",
        "\n",
        "1. **Input:** You provide the SVC with labeled training data, where each data point has a set of features and a corresponding class label.\n",
        "\n",
        "2. **Hyperplane Finding:** The SVC algorithm finds the optimal hyperplane that best separates the data points of different classes.  \"Optimal\" means maximizing the margin between the classes while (in the case of soft-margin SVC) minimizing misclassifications.\n",
        "\n",
        "3. **Kernel Trick (Optional):** If the data is not linearly separable, the SVC can use the kernel trick to map the data to a higher-dimensional space where it becomes linearly separable.\n",
        "\n",
        "4. **Classification:** Once the hyperplane is found, you can use the SVC to classify new, unseen data points.  The SVC determines which side of the hyperplane a new data point falls on, and assigns it the corresponding class label.\n",
        "\n",
        "So, in essence, SVC is the \"classification version\" of the SVM algorithm.  It's the tool you reach for when you want to use the power of SVMs to build a classifier.\n",
        "\n"
      ],
      "metadata": {
        "id": "YTAS18R0_65w"
      }
    },
    {
      "cell_type": "code",
      "source": [],
      "metadata": {
        "id": "BQQp1CfD_-RT"
      },
      "execution_count": null,
      "outputs": []
    },
    {
      "cell_type": "markdown",
      "source": [
        "### 7.  What is a Support Vector Regressor (SVR)?\n",
        "\n",
        "A Support Vector Regressor (SVR) is the application of the Support Vector Machine (SVM) algorithm for **regression** tasks.  While SVMs are more commonly known for classification, SVR allows you to use the same underlying principles to predict continuous values.\n",
        "\n",
        "Here's how SVR works:\n",
        "\n",
        "1. **Epsilon-tube:** Instead of trying to find a hyperplane that separates classes, SVR defines an \"epsilon-tube\" around a function that best fits the data. The goal is to find a function where as many data points as possible fall within this tube. Epsilon (ε) is a parameter that controls the width of the tube.\n",
        "\n",
        "2. **Finding the best fit:** SVR tries to find the function that best fits the data while keeping the number of data points outside the epsilon-tube as small as possible. This function can be linear or non-linear, depending on the kernel used.\n",
        "\n",
        "3. **Kernel Trick:** Just like in SVC, SVR can use the kernel trick to map the data to a higher-dimensional space where it might be easier to find a linear relationship for regression.\n",
        "\n",
        "4. **Support Vectors:** The data points that lie on or outside the epsilon-tube are the support vectors. They are the most important data points for determining the regression function.\n",
        "\n",
        "In essence, SVR aims to find the \"best\" function to fit the data, where \"best\" is defined by having as many data points as possible within the epsilon-tube while keeping the function as smooth as possible.\n",
        "\n"
      ],
      "metadata": {
        "id": "15vgPBAs_-nc"
      }
    },
    {
      "cell_type": "code",
      "source": [],
      "metadata": {
        "id": "0tjFLQLUABae"
      },
      "execution_count": null,
      "outputs": []
    },
    {
      "cell_type": "markdown",
      "source": [
        "### 8.  What is the Kernel Trick in SVM?\n",
        "\n",
        "The Kernel Trick is a clever technique used in Support Vector Machines (SVMs) to efficiently handle non-linearly separable data.  It allows SVMs to operate in a high-dimensional feature space without actually having to transform the data into that space.  This is crucial because explicitly transforming the data can be computationally very expensive, or even impossible if the feature space is infinite-dimensional.\n",
        "\n",
        "Here's a breakdown of the key concepts:\n",
        "\n",
        "1. **Non-linearly Separable Data:**  Many real-world datasets are not linearly separable.  This means you can't draw a straight line (or hyperplane) to perfectly divide the data points into their respective classes.\n",
        "\n",
        "2. **Mapping to Higher Dimensions:** The idea behind the kernel trick is that it's often easier to find a linear separation in a higher-dimensional space.  So, we want to map the data points from their original feature space to a higher-dimensional feature space where they become linearly separable.\n",
        "\n",
        "3. **The Problem:** Explicitly mapping the data to this higher-dimensional space can be computationally very expensive.  Imagine you have thousands of data points, and each point gets mapped to a feature vector with millions of components.  The calculations would be very slow.\n",
        "\n",
        "4. **The Solution: Kernel Functions:**  The kernel trick provides a way to achieve the same result *without* explicitly performing the mapping.  Instead of mapping the data points and then calculating the dot product between them in the higher-dimensional space, we use a *kernel function*.  The kernel function `k(x, x')` takes two data points `x` and `x'` as input and directly computes the dot product between their images in the higher-dimensional space, `φ(x) ⋅ φ(x')`, *without* actually calculating `φ(x)` and `φ(x')`.\n",
        "\n",
        "5. **How it Works:**  The kernel function acts as a shortcut.  It implicitly performs the mapping and the dot product in one step, making the computation much more efficient.  We just replace the dot products in the SVM optimization problem with the kernel function.\n",
        "\n",
        "6. **Examples of Kernel Functions:**  Common kernel functions include:\n",
        "    *   **Linear Kernel:** `k(x, x') = x ⋅ x'` (This is equivalent to no mapping at all.)\n",
        "    *   **Polynomial Kernel:** `k(x, x') = (x ⋅ x' + c)^d`\n",
        "    *   **Radial Basis Function (RBF) Kernel:** `k(x, x') = exp(-||x - x'||^2 / (2σ^2))`\n",
        "\n",
        "In essence, the kernel trick allows SVMs to work with complex, non-linearly separable data by using kernel functions to implicitly perform the mapping to a higher-dimensional space where linear separation is possible.  This avoids the computational burden of explicitly transforming the data.\n"
      ],
      "metadata": {
        "id": "TgoCY3hpABy8"
      }
    },
    {
      "cell_type": "code",
      "source": [],
      "metadata": {
        "id": "7fxLUxpqAFqI"
      },
      "execution_count": null,
      "outputs": []
    },
    {
      "cell_type": "markdown",
      "source": [
        "### 9.  Compare Linear Kernel, Polynomial Kernel, and RBF Kernel.\n",
        "\n",
        "Let's compare the Linear, Polynomial, and Radial Basis Function (RBF) kernels, commonly used in Support Vector Machines (SVMs):\n",
        "\n",
        "**1. Linear Kernel:**\n",
        "\n",
        "*   **Formula:** `k(x, x') = x ⋅ x'` (the dot product of x and x')\n",
        "*   **Intuition:** This is the simplest kernel. It's equivalent to performing no mapping at all; the SVM operates directly in the original feature space. It assumes the data is linearly separable.  Think of it as trying to draw a straight line (or hyperplane) to separate the classes.\n",
        "*   **Advantages:**\n",
        "    *   Simple and fast to compute.\n",
        "    *   Few parameters to tune (usually none).\n",
        "*   **Disadvantages:**\n",
        "    *   Only works for linearly separable data.\n",
        "    *   Cannot capture complex non-linear relationships.\n",
        "*   **Use Cases:** Suitable when the data is known to be linearly separable or when computational speed is a primary concern (e.g., very large datasets).\n",
        "\n",
        "**2. Polynomial Kernel:**\n",
        "\n",
        "*   **Formula:** `k(x, x') = (x ⋅ x' + c)^d` (where 'c' is a constant (often 0 or 1) and 'd' is the degree of the polynomial)\n",
        "*   **Intuition:** Maps the data to a higher-dimensional space using polynomial combinations of the original features.  For example, if your original features are x1 and x2, a polynomial kernel of degree 2 might implicitly create features like x1^2, x2^2, and x1*x2. This allows the SVM to find non-linear decision boundaries in the original space.\n",
        "*   **Advantages:**\n",
        "    *   Can capture non-linear relationships.\n",
        "    *   More flexible than the linear kernel.\n",
        "*   **Disadvantages:**\n",
        "    *   More computationally expensive than the linear kernel.\n",
        "    *   Can be prone to overfitting if the degree 'd' is too high.\n",
        "    *   Requires tuning of two parameters (c and d).\n",
        "*   **Use Cases:** Can be used when the data is not linearly separable and some degree of non-linearity is expected.  However, RBF is often a better choice for non-linear data.\n",
        "\n",
        "**3. Radial Basis Function (RBF) Kernel:**\n",
        "\n",
        "*   **Formula:** `k(x, x') = exp(-||x - x'||^2 / (2σ^2))` or equivalently, `exp(-γ||x - x'||^2)` where γ (gamma) = 1/(2σ^2).  `||x - x'||` is the Euclidean distance between x and x'.\n",
        "*   **Intuition:**  Maps the data to an *infinite*-dimensional feature space.  It's a very flexible kernel and can capture very complex non-linear relationships. It measures the similarity between two points; points close together have a kernel value close to 1, and points far apart have a kernel value close to 0.\n",
        "*   **Advantages:**\n",
        "    *   Very flexible and can capture highly complex non-linear relationships.\n",
        "    *   Widely used and often performs very well in practice.\n",
        "*   **Disadvantages:**\n",
        "    *   More computationally expensive than the linear and often the polynomial kernel.\n",
        "    *   Requires careful tuning of one parameter (σ or gamma).  Too small a gamma can lead to overfitting.\n",
        "*   **Use Cases:** A good default choice for many datasets, especially when non-linearity is suspected. It's often a good idea to try the RBF kernel first and then consider other kernels if needed.\n",
        "\n",
        "**Summary Table:**\n",
        "\n",
        "| Feature          | Linear Kernel              | Polynomial Kernel        | RBF Kernel                  |\n",
        "|-----------------|--------------------------|------------------------|---------------------------|\n",
        "| Separability     | Linearly separable         | Non-linearly separable    | Non-linearly separable       |\n",
        "| Complexity       | Simple                     | Medium                   | Complex                     |\n",
        "| Computation      | Fast                       | Medium                   | Slow                        |\n",
        "| Overfitting      | Low                        | Medium to High           | Medium to High              |\n",
        "| Parameters       | None                       | `c`, `d`                 | `σ` (or `γ`)                |\n",
        "| Use Cases        | Linearly separable data    | Some non-linearity        | General purpose, non-linear |\n",
        "\n",
        "**Which Kernel to Choose?**\n",
        "\n",
        "There's no single \"best\" kernel. The optimal choice depends on the specific dataset and the problem you're trying to solve.  It's often a matter of experimentation and cross-validation.  The RBF kernel is frequently a good starting point due to its flexibility.  If computational speed is paramount and you suspect linear separability, the linear kernel is a good choice.  Avoid polynomial kernels unless you have a strong reason to believe they are appropriate, as they can be prone to overfitting.  Always use cross-validation to select the best kernel and its parameters.\n",
        "\n"
      ],
      "metadata": {
        "id": "RnBN7qO6AGGq"
      }
    },
    {
      "cell_type": "code",
      "source": [],
      "metadata": {
        "id": "eUxMcQvnAJSb"
      },
      "execution_count": null,
      "outputs": []
    },
    {
      "cell_type": "markdown",
      "source": [
        "### 10. What is the effect of the C parameter in SVM?\n",
        "\n",
        "The C parameter in Support Vector Machines (SVMs) is a crucial regularization parameter that controls the trade-off between maximizing the margin and minimizing the classification error (or, in regression, the error tolerance).  It influences how much the SVM prioritizes a large margin versus correctly classifying all training examples.\n",
        "\n",
        "Here's a breakdown of its effects:\n",
        "\n",
        "* **Margin vs. Misclassifications:**  The SVM's primary goal is to find a hyperplane that maximizes the margin.  However, sometimes, perfectly separating all training examples with a large margin is impossible (or leads to a very complex and potentially overfit decision boundary). The C parameter allows the SVM to make a compromise.\n",
        "\n",
        "* **Small C (Weak Regularization):**\n",
        "    *   Prioritizes a *larger margin*, even if it means misclassifying some training examples.\n",
        "    *   Allows the SVM to be more tolerant to outliers and noise in the data.\n",
        "    *   Can lead to a simpler decision boundary.\n",
        "    *   May underfit the data if C is too small.\n",
        "\n",
        "* **Large C (Strong Regularization):**\n",
        "    *   Tries to classify *all* training examples correctly, even if it means having a *smaller margin*.\n",
        "    *   Penalizes misclassifications (or points within the margin) heavily.\n",
        "    *   Can lead to a more complex decision boundary that fits the training data very closely.\n",
        "    *   May overfit the data, performing poorly on unseen examples.\n",
        "\n",
        "* **Analogy:** Imagine you're trying to draw a line to separate two groups of students (e.g., those who like pizza and those who don't).\n",
        "\n",
        "    *   **Small C:** You're okay with a few pizza-lovers being on the \"don't like pizza\" side, as long as you can draw a nice, clear line that broadly separates the groups.\n",
        "    *   **Large C:** You're *very* strict. You want *no one* on the wrong side of the line, even if it means drawing a very wiggly, complicated line that might not work well for new students.\n",
        "\n",
        "* **Choosing the Right C:** The optimal value of C depends on the specific dataset and the problem. It's typically chosen using techniques like cross-validation. You try different values of C and see which one gives the best performance on a held-out validation set.\n",
        "\n",
        "* **Soft Margin SVM:** The C parameter is particularly important in *soft margin* SVMs, which are used when the data is not perfectly linearly separable. In this case, C directly controls the amount of \"slack\" allowed in the margin.\n",
        "\n",
        "In summary, the C parameter is a key control knob for balancing the margin size and the number of misclassifications.  A small C favors a larger margin and can be more robust to noise, while a large C tries to minimize misclassifications and can lead to overfitting.\n"
      ],
      "metadata": {
        "id": "8tvj4qeFAJmr"
      }
    },
    {
      "cell_type": "code",
      "source": [],
      "metadata": {
        "id": "bTcUZpdHAM1G"
      },
      "execution_count": null,
      "outputs": []
    },
    {
      "cell_type": "markdown",
      "source": [
        "### 11. What is the role of the Gamma parameter in RBF Kernel SVM?\n",
        "\n",
        "The gamma parameter (γ) in a Support Vector Machine (SVM) using the Radial Basis Function (RBF) kernel plays a crucial role in controlling the *width* of the radial basis function and, consequently, the influence of individual data points on the decision boundary.  It significantly affects the model's complexity and its tendency to overfit.\n",
        "\n",
        "Here's a breakdown of gamma's effects:\n",
        "\n",
        "* **RBF Width:** Gamma is inversely proportional to the square of the width (σ) of the RBF: γ = 1 / (2σ²).  So, a larger gamma means a narrower RBF, and a smaller gamma means a wider RBF.\n",
        "\n",
        "* **Influence of Data Points:**\n",
        "\n",
        "    * **Small Gamma (Wide RBF):** A small gamma makes the RBF wider. This means that each data point has a larger region of influence. The decision boundary tends to be smoother, as it's influenced by a broader range of data points.  The model is less sensitive to individual data points.\n",
        "\n",
        "    * **Large Gamma (Narrow RBF):** A large gamma makes the RBF narrower.  This means that each data point has a smaller region of influence. The decision boundary becomes more localized and can be highly sensitive to individual data points, potentially leading to a very complex and wiggly boundary.\n",
        "\n",
        "* **Model Complexity:**\n",
        "\n",
        "    * **Small Gamma:**  Leads to a simpler model with a smoother decision boundary.  The model is less likely to overfit.  It might underfit if gamma is too small.\n",
        "\n",
        "    * **Large Gamma:** Leads to a more complex model with a more intricate decision boundary. The model is more likely to overfit the training data.\n",
        "\n",
        "* **Overfitting:**  A very large gamma can cause the SVM to essentially memorize the training data, leading to overfitting.  The decision boundary becomes highly sensitive to the training data and might not generalize well to unseen data.\n",
        "\n",
        "* **Analogy:** Imagine you're trying to fit a curve to a set of data points.\n",
        "\n",
        "    * **Small Gamma:** You're using a wide, smooth brush. The curve you draw will be influenced by many nearby points, resulting in a smooth fit.\n",
        "    * **Large Gamma:** You're using a very fine-tipped pen. You can draw a very intricate curve that passes through every single point, but it might be very wiggly and not generalize well to new data.\n",
        "\n",
        "* **Choosing the Right Gamma:**  Like the C parameter, the optimal value of gamma is typically chosen using cross-validation.  You try different values of gamma and see which one gives the best performance on a held-out validation set.  It's often tuned in conjunction with the C parameter.\n",
        "\n",
        "In summary, gamma controls the \"reach\" of each data point's influence on the decision boundary.  A small gamma creates a smoother boundary, while a large gamma creates a more complex, potentially overfit boundary.  Careful tuning of gamma (often along with C) is essential for getting good performance with RBF kernel SVMs.\n",
        "\n"
      ],
      "metadata": {
        "id": "26iO22BHANJC"
      }
    },
    {
      "cell_type": "code",
      "source": [],
      "metadata": {
        "id": "v5VVcg6lAQ1v"
      },
      "execution_count": null,
      "outputs": []
    },
    {
      "cell_type": "markdown",
      "source": [
        "**Naïve Bayes Classifier**\n",
        "\n"
      ],
      "metadata": {
        "id": "0XDb74bYARPU"
      }
    },
    {
      "cell_type": "markdown",
      "source": [
        "### 12. What is the Naïve Bayes classifier, and why is it called \"Naïve\"?\n",
        "\n",
        "The Naïve Bayes classifier is a probabilistic machine learning algorithm used primarily for classification tasks. It's based on Bayes' theorem, a fundamental concept in probability theory, and is particularly well-suited for high-dimensional data like text classification.\n",
        "\n",
        "Here's a breakdown:\n",
        "\n",
        "* **Probabilistic Classifier:** Naïve Bayes calculates the probability of a data point belonging to a particular class, given its features.  It then assigns the data point to the class with the highest probability.\n",
        "\n",
        "* **Bayes' Theorem:** The classifier uses Bayes' theorem to calculate these conditional probabilities.  Bayes' theorem allows us to update our belief about the probability of an event (a class) based on new evidence (the features).\n",
        "\n",
        "* **\"Naïve\" Assumption:** The classifier is called \"naïve\" because it makes a simplifying assumption: it assumes that the features are *conditionally independent* of each other, given the class.  In other words, it assumes that the presence or absence of one feature does not affect the presence or absence of another feature, *given that we know the class*.\n",
        "\n",
        "    * **Example:** In text classification, a Naïve Bayes classifier might assume that the presence of the word \"movie\" is independent of the presence of the word \"exciting,\" given that we know the document is a review of a film.  This is clearly not true in reality (the words are likely correlated), but it simplifies the calculations significantly.\n",
        "\n",
        "* **Why the Naïve Assumption is Useful:**  While the feature independence assumption is often unrealistic, it makes the Naïve Bayes classifier computationally very efficient.  It drastically reduces the number of parameters that need to be estimated, making it practical to use with high-dimensional data, such as text data with thousands of words.\n",
        "\n",
        "* **Types of Naïve Bayes:** There are different types of Naïve Bayes classifiers, each suited for different types of data:\n",
        "    * **Gaussian Naïve Bayes:** Used for continuous features that are assumed to be normally distributed (Gaussian).\n",
        "    * **Multinomial Naïve Bayes:** Used for discrete features, such as word counts in text classification.\n",
        "    * **Bernoulli Naïve Bayes:** Used for binary or boolean features (e.g., presence/absence of a word).\n",
        "\n",
        "In summary, the Naïve Bayes classifier is a probabilistic classifier based on Bayes' theorem and a \"naïve\" assumption of feature independence.  This assumption simplifies the calculations, making it efficient for high-dimensional data, and often leads to surprisingly good performance in practice, especially in text classification.\n"
      ],
      "metadata": {
        "id": "lCHkqwVRAUEc"
      }
    },
    {
      "cell_type": "code",
      "source": [],
      "metadata": {
        "id": "qZJ-UwBMAXwX"
      },
      "execution_count": null,
      "outputs": []
    },
    {
      "cell_type": "markdown",
      "source": [
        "### 13. What is Bayes’ Theorem?\n",
        "\n",
        "Bayes' Theorem is a fundamental concept in probability theory that describes how to update the probability of a hypothesis (or belief) as new evidence becomes available. It provides a way to calculate conditional probabilities, specifically how the probability of an event A changes given that event B has occurred, and vice-versa.\n",
        "\n",
        "The theorem is expressed mathematically as:\n",
        "\n",
        "```\n",
        "P(A|B) = [P(B|A) * P(A)] / P(B)\n",
        "```\n",
        "\n",
        "Where:\n",
        "\n",
        "*   **P(A|B):**  This is the *posterior probability* of event A occurring given that event B has occurred.  It's what we want to calculate – how our belief in A is updated after observing B.\n",
        "*   **P(B|A):** This is the *likelihood* of event B occurring given that event A has occurred. It measures how likely we are to observe B if A is true.\n",
        "*   **P(A):** This is the *prior probability* of event A occurring. It's our initial belief about the probability of A *before* we consider the evidence B.\n",
        "*   **P(B):** This is the *prior probability* of event B occurring.  It's often called the *evidence* or *normalizing constant*.  It ensures that the posterior probability is a valid probability (i.e., between 0 and 1).\n",
        "\n",
        "**In simpler terms:** Bayes' Theorem helps us answer questions like: \"If I observe B, how much should I change my belief about A?\"\n",
        "\n",
        "**Example:**\n",
        "\n",
        "Let's say we're dealing with a medical test for a rare disease.\n",
        "\n",
        "*   A = You have the disease.\n",
        "*   B = The test comes back positive.\n",
        "\n",
        "Bayes' Theorem can help us calculate P(A|B), the probability that you *actually have the disease* given that the test came back positive.  This is different from P(B|A), the probability that the test comes back positive *if you have the disease*, which is what the test's sensitivity tells us.  Because the disease is rare, the prior probability P(A) (the probability of having the disease before the test) is low.  Even if the test is quite accurate (P(B|A) is high), the posterior probability P(A|B) might still be relatively low because of the low prior probability.\n",
        "\n",
        "**Key Applications:**\n",
        "\n",
        "Bayes' Theorem is used in various fields, including:\n",
        "\n",
        "*   **Machine Learning:**  Naïve Bayes classifiers, spam filtering, medical diagnosis.\n",
        "*   **Statistics:** Bayesian inference, updating beliefs based on data.\n",
        "*   **Artificial Intelligence:**  Reasoning under uncertainty.\n",
        "*   **Finance:** Risk assessment.\n",
        "\n",
        "In essence, Bayes' Theorem provides a formal way to update our beliefs in the face of new evidence. It's a powerful tool for reasoning under uncertainty.\n"
      ],
      "metadata": {
        "id": "3j-gtSdMAYMG"
      }
    },
    {
      "cell_type": "code",
      "source": [],
      "metadata": {
        "id": "Pb4iPXTWAcBx"
      },
      "execution_count": null,
      "outputs": []
    },
    {
      "cell_type": "markdown",
      "source": [
        "### 14. Explain the differences between Gaussian Naïve Bayes, Multinomial Naïve Bayes, and Bernoulli Naïve Bayes.\n",
        "\n",
        "Gaussian Naïve Bayes, Multinomial Naïve Bayes, and Bernoulli Naïve Bayes are all variants of the Naïve Bayes classifier, each designed to handle different types of data and feature distributions. The key difference between them lies in the *assumed distribution* of the features.\n",
        "\n",
        "Here's a breakdown:\n",
        "\n",
        "**1. Gaussian Naïve Bayes:**\n",
        "\n",
        "*   **Assumption:** The features are continuous and follow a Gaussian (normal) distribution.  This means that the probability of a feature value given a class is modeled using the Gaussian probability density function.\n",
        "*   **Use Case:** Best suited for continuous data where you expect the features to be approximately normally distributed.  Examples include:\n",
        "    *   Image data (pixel intensities)\n",
        "    *   Financial data (stock prices, etc.)\n",
        "    *   Other continuous measurements\n",
        "\n",
        "*   **Probability Calculation:**  The probability of a feature `x_i` given class `c` is calculated using the Gaussian probability density function:\n",
        "\n",
        "    ```\n",
        "    P(x_i | c) = (1 / sqrt(2 * pi * σ_c^2)) * exp(-(x_i - μ_c)^2 / (2 * σ_c^2))\n",
        "    ```\n",
        "\n",
        "    Where:\n",
        "    *   `μ_c` is the mean of feature `x_i` for class `c`.\n",
        "    *   `σ_c^2` is the variance of feature `x_i` for class `c`.\n",
        "\n",
        "**2. Multinomial Naïve Bayes:**\n",
        "\n",
        "*   **Assumption:** The features are discrete (represent counts).  This is typical for text data where features represent the frequency or count of words in a document. It assumes that the features follow a multinomial distribution.\n",
        "*   **Use Case:** Primarily used for text classification and other problems where features represent counts.  Examples include:\n",
        "    *   Document classification (spam/not spam, topic classification)\n",
        "    *   Word frequency analysis\n",
        "\n",
        "*   **Probability Calculation:** The probability of a feature `x_i` (word count) given class `c` is calculated using the multinomial distribution:\n",
        "\n",
        "    ```\n",
        "    P(x_i | c) = (N_ic + α) / (N_c + α * V)\n",
        "    ```\n",
        "\n",
        "    Where:\n",
        "    *   `N_ic` is the count of feature `x_i` in class `c` in the training data.\n",
        "    *   `N_c` is the total count of all features in class `c` in the training data.\n",
        "    *   `V` is the number of unique features (vocabulary size).\n",
        "    *   `α` is a smoothing parameter (Laplace smoothing) to prevent zero probabilities.\n",
        "\n",
        "**3. Bernoulli Naïve Bayes:**\n",
        "\n",
        "*   **Assumption:** The features are binary or boolean (represent presence/absence).  This is also common in text classification, where features might indicate whether a word is present in a document or not (regardless of its count). Assumes that the features follow a Bernoulli distribution.\n",
        "*   **Use Case:**  Used for binary/boolean data. Examples:\n",
        "    *   Document classification (word presence/absence)\n",
        "    *   Other presence/absence indicators\n",
        "\n",
        "*   **Probability Calculation:** The probability of a feature `x_i` (present or absent) given class `c` is calculated as:\n",
        "\n",
        "    ```\n",
        "    P(x_i | c) = p_ic  (if x_i is present)\n",
        "    P(x_i | c) = 1 - p_ic (if x_i is absent)\n",
        "    ```\n",
        "\n",
        "    Where `p_ic` is the probability of feature `x_i` being present in class `c`.  This is estimated from the training data.\n",
        "\n",
        "**Summary Table:**\n",
        "\n",
        "| Variant             | Feature Type        | Distribution           | Use Case                                  |\n",
        "| ------------------- | ------------------ | --------------------- | ----------------------------------------- |\n",
        "| Gaussian Naïve Bayes | Continuous          | Gaussian (Normal)      | Continuous data, approximately normal     |\n",
        "| Multinomial NB      | Discrete (Counts)  | Multinomial           | Text classification (word counts)           |\n",
        "| Bernoulli NB        | Binary (Presence/Absence) | Bernoulli           | Text classification (word presence/absence) |\n",
        "\n",
        "Choosing the right variant depends on the nature of your data.  If you have continuous data, Gaussian NB is a good choice.  For text data, Multinomial NB (for word counts) or Bernoulli NB (for word presence/absence) are commonly used.\n"
      ],
      "metadata": {
        "id": "UPflt2iYAcXO"
      }
    },
    {
      "cell_type": "code",
      "source": [],
      "metadata": {
        "id": "NhQNTa5FAhhK"
      },
      "execution_count": null,
      "outputs": []
    },
    {
      "cell_type": "markdown",
      "source": [
        "### 15. When should you use Gaussian Naïve Bayes over other variants?\n",
        "\n",
        "You should use Gaussian Naïve Bayes over other variants of Naïve Bayes (Multinomial or Bernoulli) when your features are **continuous** and you have reason to believe they approximately follow a **normal (Gaussian) distribution**.\n",
        "\n",
        "Here's a more detailed breakdown:\n",
        "\n",
        "1. **Continuous Data:** Gaussian Naïve Bayes is specifically designed for continuous features.  If your features represent measurements, quantities, or values that can take on a range of values (e.g., height, weight, temperature, pixel intensity), then Gaussian NB is a potential candidate.\n",
        "\n",
        "2. **Normal Distribution (Approximation):** The key assumption of Gaussian NB is that the features, *within each class*, are normally distributed.  This means that the distribution of each feature, when you look at data points belonging to the same class, should resemble a bell curve.\n",
        "\n",
        "    * **Important Note:** It's often okay if the data is *approximately* normally distributed.  Naïve Bayes is surprisingly robust to deviations from this assumption. However, if the data is heavily skewed or has a very different distribution, Gaussian NB might not be the best choice.\n",
        "\n",
        "3. **When Not to Use Gaussian NB:**\n",
        "\n",
        "    * **Discrete Features:** If your features are discrete (e.g., counts, categories, or binary values), Gaussian NB is not appropriate.  Use Multinomial NB for counts (like word frequencies) and Bernoulli NB for binary (presence/absence) features.\n",
        "    * **Non-Normal Distributions:** If your continuous features are clearly not normally distributed (e.g., heavily skewed, multimodal), Gaussian NB might not be the best choice.  Consider transformations (like a logarithmic transformation) to make the data more normally distributed, or explore other classifiers that don't make this distributional assumption.\n",
        "\n",
        "**In Summary:**\n",
        "\n",
        "Use Gaussian Naïve Bayes when:\n",
        "\n",
        "* Your features are continuous.\n",
        "* You have some evidence (or a reasonable assumption) that the features, within each class, are approximately normally distributed.\n",
        "\n",
        "If these conditions are not met, consider Multinomial NB (for counts), Bernoulli NB (for binary features), or other classification algorithms altogether.  It's always a good idea to visualize your data (histograms, density plots) to get a sense of the feature distributions before choosing a classifier.\n"
      ],
      "metadata": {
        "id": "djuRRY9QAg-i"
      }
    },
    {
      "cell_type": "code",
      "source": [],
      "metadata": {
        "id": "lVYaqw0nAk0j"
      },
      "execution_count": null,
      "outputs": []
    },
    {
      "cell_type": "markdown",
      "source": [
        "### 16. What are the key assumptions made by Naïve Bayes?\n",
        "\n",
        "The Naïve Bayes classifier rests on two key assumptions:\n",
        "\n",
        "1. **Conditional Independence:** This is the \"naïve\" part.  It assumes that the features are *conditionally independent* of each other, *given the class*.  In simpler terms, it assumes that the presence or absence (or value) of one feature does not influence the presence or absence (or value) of any other feature, *given that you already know the class*.\n",
        "\n",
        "   * **Example:** In a spam email classifier, the Naïve Bayes assumption would be that the presence of the word \"free\" is independent of the presence of the word \"discount,\" *given that you already know the email is spam*.  This is clearly not true in reality (these words are likely correlated), but it's the simplifying assumption that makes Naïve Bayes computationally tractable.\n",
        "\n",
        "2. **Equal Prior Probabilities (often):**  While not strictly required, many implementations of Naïve Bayes assume that the prior probabilities of each class are equal.  The prior probability of a class is the probability of that class occurring *before* you consider any features. If you don't have equal prior probabilities, you need to provide the prior probabilities for each class.\n",
        "\n",
        "   * **Example:** If you're classifying images of cats and dogs, and you know beforehand that there are twice as many cat images as dog images in your dataset, you would specify these unequal prior probabilities. If you have no prior knowledge, you might assume equal prior probabilities.\n",
        "\n",
        "**Why are these assumptions important?**\n",
        "\n",
        "* **Computational Efficiency:** The conditional independence assumption dramatically simplifies the calculations required by Bayes' theorem. Without this assumption, you would need to estimate the joint probability distribution of all the features, which would be computationally very expensive, especially with many features.\n",
        "\n",
        "* **Data Sparsity:**  In many real-world problems, especially with high-dimensional data (like text), you might not have enough training data to reliably estimate the joint probability distribution of the features.  The Naïve Bayes assumption helps to overcome this data sparsity problem.\n",
        "\n",
        "**Are these assumptions realistic?**\n",
        "\n",
        "Often, no. The features in real-world datasets are rarely truly independent. However, even when the independence assumption is violated, Naïve Bayes can still perform surprisingly well in practice. It often provides a good baseline for classification tasks, especially in text and other high-dimensional data.\n",
        "\n",
        "**In summary:** Naïve Bayes assumes feature independence (given the class) and often assumes equal prior probabilities. These assumptions are simplifications that make the algorithm computationally efficient and help with data sparsity, but they are often not entirely true in real-world scenarios.  Despite this, Naïve Bayes is a useful and frequently effective classification algorithm.\n"
      ],
      "metadata": {
        "id": "d26KC-EpAlTf"
      }
    },
    {
      "cell_type": "code",
      "source": [],
      "metadata": {
        "id": "gyycoOGjAoQ8"
      },
      "execution_count": null,
      "outputs": []
    },
    {
      "cell_type": "markdown",
      "source": [
        "### 17. What are the advantages and disadvantages of Naïve Bayes?\n",
        "\n",
        "Let's break down the advantages and disadvantages of the Naïve Bayes classifier:\n",
        "\n",
        "**Advantages:**\n",
        "\n",
        "* **Simplicity and Ease of Implementation:** Naïve Bayes is conceptually simple and relatively easy to implement. The calculations involved are straightforward, making it a good starting point for classification tasks.\n",
        "\n",
        "* **Computational Efficiency:** Due to the \"naïve\" assumption of feature independence, Naïve Bayes is computationally very efficient, especially compared to more complex algorithms.  This makes it suitable for large datasets and real-time applications.\n",
        "\n",
        "* **Handles High-Dimensional Data Well:** Naïve Bayes performs well with high-dimensional data, such as text data with thousands of words. The simplifying assumptions help to mitigate the curse of dimensionality.\n",
        "\n",
        "* **Good Performance in Many Real-World Scenarios:** Despite the unrealistic feature independence assumption, Naïve Bayes often achieves surprisingly good performance in practice, especially in text classification and other domains where the number of features is large.\n",
        "\n",
        "* **Requires Relatively Little Training Data:**  Compared to some other algorithms, Naïve Bayes can often achieve decent performance with a relatively small amount of training data.\n",
        "\n",
        "* **Easy to Interpret:** The probabilities calculated by Naïve Bayes can be relatively easy to interpret, providing insights into which features are most influential for each class.\n",
        "\n",
        "**Disadvantages:**\n",
        "\n",
        "* **The Naïve Assumption:** The biggest disadvantage is the \"naïve\" assumption that features are conditionally independent of each other, given the class.  This assumption is rarely true in real-world data.  Features are often correlated, and this can affect the accuracy of the probability estimates.\n",
        "\n",
        "* **Zero Frequency Problem:** If a feature value is not observed in the training data for a particular class, the probability estimate for that feature-value pair will be zero. This can cause problems when the classifier encounters unseen feature values in the test data. Laplace smoothing (adding a small constant to all counts) is often used to mitigate this issue.\n",
        "\n",
        "* **Sensitivity to Feature Representation:** Naïve Bayes can be sensitive to how the features are represented. For example, in text classification, using word counts (Multinomial NB) often performs better than using binary presence/absence indicators (Bernoulli NB), depending on the task.\n",
        "\n",
        "* **Not Suitable for Complex Relationships:** Because it assumes feature independence, Naïve Bayes cannot capture complex relationships between features.  If the relationships between features are crucial for classification, other algorithms (like SVMs or decision trees) might be more appropriate.\n",
        "\n",
        "* **Equal Prior Probabilities Assumption (often):**  If the prior probabilities of the classes are not equal, and you don't provide these prior probabilities, the classifier's performance can be affected.\n",
        "\n",
        "**In summary:** Naïve Bayes is a simple, efficient, and often effective classification algorithm, particularly well-suited for high-dimensional data like text. However, its \"naïve\" assumption of feature independence can be a limitation, and it might not be the best choice for problems where complex relationships between features are important.  It's often a good baseline to try first, and then compare its performance to other algorithms if needed.\n"
      ],
      "metadata": {
        "id": "bjkDrJwnAokn"
      }
    },
    {
      "cell_type": "code",
      "source": [],
      "metadata": {
        "id": "L2BmUE5BArnP"
      },
      "execution_count": null,
      "outputs": []
    },
    {
      "cell_type": "markdown",
      "source": [
        "### 18. Why is Naïve Bayes a good choice for text classification?\n",
        "\n",
        "Despite its \"naïve\" assumption, Naïve Bayes is often a surprisingly good choice for text classification due to a combination of factors:\n",
        "\n",
        "1. **High Dimensionality:** Text data is inherently high-dimensional.  Each word in the vocabulary can be considered a feature, and the number of unique words in a corpus can be very large. Naïve Bayes handles high-dimensional data well.  The simplifying assumption of feature independence helps to mitigate the curse of dimensionality, allowing the model to learn effectively even with many features.\n",
        "\n",
        "2. **Computational Efficiency:** Text datasets can be massive, containing millions of documents. Naïve Bayes is computationally very efficient, making it practical to train on large text corpora. The calculations involved are relatively simple, and the training process is fast.\n",
        "\n",
        "3. **Robustness to Irrelevant Features:**  While the feature independence assumption is often violated in text data (words are clearly correlated), Naïve Bayes is surprisingly robust to the presence of irrelevant features.  Even if some words are not strongly related to the class being predicted, they usually don't significantly degrade the classifier's performance.\n",
        "\n",
        "4. **Effective for Many Text Classification Tasks:**  Despite its simplicity, Naïve Bayes often achieves competitive performance in many real-world text classification tasks, such as:\n",
        "    * Spam filtering\n",
        "    * Sentiment analysis\n",
        "    * Topic classification\n",
        "    * Document categorization\n",
        "\n",
        "5. **Handles Sparse Data Well:** Text data is often sparse.  Most documents contain only a small fraction of the total vocabulary. Naïve Bayes handles sparse data relatively well, as it doesn't require estimating the joint probability distribution of all the words.\n",
        "\n",
        "6. **Easy to Implement and Interpret:** Naïve Bayes is straightforward to implement and the resulting model is relatively easy to interpret. The probabilities assigned to each word for each class can give insights into which words are most indicative of a particular category.\n",
        "\n",
        "7. **Good Baseline:** Naïve Bayes is often used as a baseline model for text classification.  Its simplicity and efficiency make it a good starting point to compare against more complex models. If Naïve Bayes performs reasonably well, it might be sufficient for the task.  If it doesn't, it provides a benchmark against which to measure the improvements of other algorithms.\n",
        "\n",
        "**In summary:** While the \"naïve\" assumption of feature independence is often not entirely true for text data, Naïve Bayes's computational efficiency, ability to handle high-dimensional and sparse data, and surprisingly good performance in many text classification tasks make it a popular and often effective choice.\n"
      ],
      "metadata": {
        "id": "Qfu3iagJAsAG"
      }
    },
    {
      "cell_type": "code",
      "source": [],
      "metadata": {
        "id": "sl_lkWPsAvke"
      },
      "execution_count": null,
      "outputs": []
    },
    {
      "cell_type": "markdown",
      "source": [
        "### 19. Compare SVM and Naïve Bayes for classification tasks.\n",
        "\n",
        "SVMs (Support Vector Machines) and Naïve Bayes are both popular classification algorithms, but they have different strengths and weaknesses. Here's a comparison to help you choose the right one for your task:\n",
        "\n",
        "**SVMs (Support Vector Machines)**\n",
        "\n",
        "* **Strengths:**\n",
        "    * **Effective in high-dimensional spaces:** SVMs excel in situations where you have many features (e.g., text classification with a large vocabulary).\n",
        "    * **Versatile due to Kernel Trick:** The kernel trick allows SVMs to model complex non-linear relationships between features, making them suitable for a wide range of datasets.\n",
        "    * **Robust to Outliers:** Soft margin SVMs are less sensitive to outliers than some other algorithms.\n",
        "    * **Good generalization performance:** SVMs often generalize well to unseen data, especially when the margin is maximized.\n",
        "\n",
        "* **Weaknesses:**\n",
        "    * **Computationally intensive:** Training SVMs can be computationally expensive, especially for large datasets.\n",
        "    * **Parameter tuning:** SVMs have parameters (C, gamma for RBF kernel) that need to be tuned carefully, which can be time-consuming.\n",
        "    * **Less interpretable:** SVMs can be less interpretable than Naïve Bayes, as it's harder to see which features are most important for the classification decision.\n",
        "\n",
        "**Naïve Bayes**\n",
        "\n",
        "* **Strengths:**\n",
        "    * **Simple and fast:** Naïve Bayes is conceptually simple and computationally very efficient, making it suitable for large datasets and real-time applications.\n",
        "    * **Handles high-dimensional data well:** Naïve Bayes performs well with high-dimensional data, such as text data.\n",
        "    * **Requires less training data:** Naïve Bayes can often achieve good performance with a relatively small amount of training data.\n",
        "    * **Easy to implement and interpret:** Naïve Bayes is straightforward to implement and the resulting model is relatively easy to interpret.\n",
        "\n",
        "* **Weaknesses:**\n",
        "    * **The \"naïve\" assumption:** The key weakness is the assumption that features are conditionally independent, which is often not true in real-world data.\n",
        "    * **Zero frequency problem:** If a feature value is not observed in the training data for a particular class, the probability estimate for that feature-value pair will be zero. Laplace smoothing is used to mitigate this.\n",
        "    * **Less accurate for complex relationships:** Naïve Bayes may not be the best choice when the relationships between features are complex and crucial for classification.\n",
        "\n",
        "**When to use which?**\n",
        "\n",
        "* **Use SVM when:**\n",
        "    * You have high-dimensional data.\n",
        "    * You suspect complex non-linear relationships between features.\n",
        "    * You have enough computational resources.\n",
        "    * Interpretability is not a primary concern.\n",
        "\n",
        "* **Use Naïve Bayes when:**\n",
        "    * You have a very large dataset.\n",
        "    * Computational speed is critical.\n",
        "    * You have limited training data.\n",
        "    * You need a simple and interpretable model.\n",
        "    * You have a good reason to believe that the feature independence assumption is reasonable (or that violating it won't be a major issue).\n",
        "\n",
        "**In general:**\n",
        "\n",
        "* Naïve Bayes is often a good starting point, especially for text classification.\n",
        "* If Naïve Bayes doesn't perform well enough, or if you have reason to believe that feature dependencies are important, consider SVMs.\n",
        "* Cross-validation is crucial for evaluating both models and tuning their parameters.\n",
        "\n",
        "Ultimately, the best choice depends on your specific dataset, the problem you're trying to solve, and your priorities (e.g., speed, accuracy, interpretability).\n",
        "\n"
      ],
      "metadata": {
        "id": "8BZV0bEOAv8T"
      }
    },
    {
      "cell_type": "code",
      "source": [],
      "metadata": {
        "id": "JyZzlOFSA0RY"
      },
      "execution_count": null,
      "outputs": []
    },
    {
      "cell_type": "markdown",
      "source": [
        "### 20. How does Laplace Smoothing help in Naïve Bayes?\n",
        "\n",
        "Laplace smoothing (also called add-one smoothing) is a technique used in Naïve Bayes classifiers to address the \"zero frequency problem.\" This problem occurs when a particular feature value is not observed in the training data for a specific class.  Let's break down the issue and how Laplace smoothing helps:\n",
        "\n",
        "**The Zero Frequency Problem:**\n",
        "\n",
        "In Naïve Bayes, we calculate the probability of a feature given a class using the training data.  For example, in text classification, we might calculate the probability of a word appearing in a spam email.  If a particular word (e.g., \"discount\") never appears in any of the spam emails in our training data, its probability estimate for the \"spam\" class will be zero.\n",
        "\n",
        "The problem arises when we encounter this word (\"discount\") in a *test* email.  Because the probability is zero, it can wipe out the entire probability calculation for that email, leading to incorrect classification.  Even if all other words strongly suggest that the email is spam, the zero probability can override everything.\n",
        "\n",
        "**How Laplace Smoothing Helps:**\n",
        "\n",
        "Laplace smoothing addresses this by adding a small constant (usually 1) to the count of every feature-value pair in the training data.  This ensures that no probability estimate ever becomes zero.\n",
        "\n",
        "Here's how it works in the context of Multinomial Naïve Bayes (used for word counts):\n",
        "\n",
        "Without smoothing:\n",
        "\n",
        "```\n",
        "P(word | class) = (Count of word in class) / (Total words in class)\n",
        "```\n",
        "\n",
        "With Laplace smoothing:\n",
        "\n",
        "```\n",
        "P(word | class) = (Count of word in class + 1) / (Total words in class + Vocabulary size)\n",
        "```\n",
        "\n",
        "By adding 1 to the word count and the vocabulary size to the denominator, we guarantee that even unseen words will have a non-zero probability.\n",
        "\n",
        "**Benefits of Laplace Smoothing:**\n",
        "\n",
        "* **Prevents Zero Probabilities:**  The primary benefit is that it prevents zero probabilities, avoiding the issue where a single unseen word can ruin the classification.\n",
        "* **Improves Generalization:**  Smoothing can also slightly improve generalization performance by reducing the model's sensitivity to the specific words present in the training data.\n",
        "\n",
        "**Why Add 1?**\n",
        "\n",
        "Adding 1 is a common practice, but it's not strictly required.  You could add other small constants (e.g., 0.1, 0.5), and this is sometimes referred to as \"add-k smoothing.\" However, add-one smoothing is often effective and widely used.\n",
        "\n",
        "**In summary:** Laplace smoothing is a simple but effective technique to prevent zero probabilities in Naïve Bayes, improving the classifier's robustness and generalization performance, especially when dealing with sparse data like text.\n"
      ],
      "metadata": {
        "id": "wLmEW1tGA0oO"
      }
    },
    {
      "cell_type": "code",
      "source": [],
      "metadata": {
        "id": "NmOGCYAPA28s"
      },
      "execution_count": null,
      "outputs": []
    },
    {
      "cell_type": "markdown",
      "source": [
        "# Practical"
      ],
      "metadata": {
        "id": "Sa1EUVcuFNsV"
      }
    },
    {
      "cell_type": "markdown",
      "source": [
        "\n",
        "21. Write a Python program to train an SVM Classifier on the Iris dataset and evaluate accuracy.\n",
        "\n"
      ],
      "metadata": {
        "id": "L85s7zFCFSDT"
      }
    },
    {
      "cell_type": "code",
      "source": [
        "from sklearn.datasets import load_iris\n",
        "from sklearn.model_selection import train_test_split\n",
        "from sklearn.svm import SVC\n",
        "from sklearn.metrics import accuracy_score\n",
        "\n",
        "iris = load_iris()\n",
        "X = iris.data\n",
        "y = iris.target\n",
        "\n",
        "X_train, X_test, y_train, y_test = train_test_split(X, y, test_size=0.3, random_state=42)\n",
        "\n",
        "clf = SVC(kernel='rbf')\n",
        "clf.fit(X_train, y_train)\n",
        "\n",
        "y_pred = clf.predict(X_test)\n",
        "accuracy = accuracy_score(y_test, y_pred)\n",
        "print(f\"Accuracy: {accuracy}\")"
      ],
      "metadata": {
        "colab": {
          "base_uri": "https://localhost:8080/"
        },
        "id": "JqgEiB-aGvaK",
        "outputId": "5f67afa6-ca55-443b-9684-55a159422ee4"
      },
      "execution_count": null,
      "outputs": [
        {
          "output_type": "stream",
          "name": "stdout",
          "text": [
            "Accuracy: 1.0\n"
          ]
        }
      ]
    },
    {
      "cell_type": "markdown",
      "source": [
        "22. Write a Python program to train two SVM classifiers with Linear and RBF kernels on the Wine dataset, then compare their accuracies.\n"
      ],
      "metadata": {
        "id": "d2DlA2H7Gv2t"
      }
    },
    {
      "cell_type": "code",
      "source": [
        "from sklearn.datasets import load_wine\n",
        "from sklearn.model_selection import train_test_split\n",
        "from sklearn.svm import SVC\n",
        "from sklearn.metrics import accuracy_score\n",
        "\n",
        "wine = load_wine()\n",
        "X = wine.data\n",
        "y = wine.target\n",
        "\n",
        "X_train, X_test, y_train, y_test = train_test_split(X, y, test_size=0.3, random_state=42)\n",
        "\n",
        "clf_linear = SVC(kernel='linear')\n",
        "clf_rbf = SVC(kernel='rbf')\n",
        "\n",
        "clf_linear.fit(X_train, y_train)\n",
        "clf_rbf.fit(X_train, y_train)\n",
        "\n",
        "y_pred_linear = clf_linear.predict(X_test)\n",
        "y_pred_rbf = clf_rbf.predict(X_test)\n",
        "\n",
        "accuracy_linear = accuracy_score(y_test, y_pred_linear)\n",
        "accuracy_rbf = accuracy_score(y_test, y_pred_rbf)\n",
        "\n",
        "print(f\"Linear Kernel Accuracy: {accuracy_linear}\")\n",
        "print(f\"RBF Kernel Accuracy: {accuracy_rbf}\")"
      ],
      "metadata": {
        "colab": {
          "base_uri": "https://localhost:8080/"
        },
        "id": "s1nevmHKGy4Q",
        "outputId": "e9f63760-05a7-465a-fcab-5817fa11e043"
      },
      "execution_count": null,
      "outputs": [
        {
          "output_type": "stream",
          "name": "stdout",
          "text": [
            "Linear Kernel Accuracy: 0.9814814814814815\n",
            "RBF Kernel Accuracy: 0.7592592592592593\n"
          ]
        }
      ]
    },
    {
      "cell_type": "markdown",
      "source": [
        "23. Write a Python program to train an SVM Regressor (SVR) on a housing dataset and evaluate it using Mean Squared Error (MSE).\n"
      ],
      "metadata": {
        "id": "-UdKGKYZGzfZ"
      }
    },
    {
      "cell_type": "code",
      "source": [
        "from sklearn.datasets import fetch_california_housing\n",
        "from sklearn.model_selection import train_test_split\n",
        "from sklearn.svm import SVR\n",
        "from sklearn.metrics import mean_squared_error\n",
        "\n",
        "housing = fetch_california_housing()\n",
        "X = housing.data\n",
        "y = housing.target\n",
        "\n",
        "X_train, X_test, y_train, y_test = train_test_split(X, y, test_size=0.3, random_state=42)\n",
        "\n",
        "svr = SVR(kernel='rbf')\n",
        "svr.fit(X_train, y_train)\n",
        "\n",
        "y_pred = svr.predict(X_test)\n",
        "mse = mean_squared_error(y_test, y_pred)\n",
        "print(f\"Mean Squared Error: {mse}\")"
      ],
      "metadata": {
        "colab": {
          "base_uri": "https://localhost:8080/"
        },
        "id": "HXzDD5tRG2XX",
        "outputId": "a52a1c1e-87e1-4ad0-a8e0-739bc7152b8c"
      },
      "execution_count": null,
      "outputs": [
        {
          "output_type": "stream",
          "name": "stdout",
          "text": [
            "Mean Squared Error: 1.3489971413208723\n"
          ]
        }
      ]
    },
    {
      "cell_type": "markdown",
      "source": [
        "24. Write a Python program to train an SVM Classifier with a Polynomial Kernel and visualize the decision boundary.\n"
      ],
      "metadata": {
        "id": "2s9KEjt4G2x6"
      }
    },
    {
      "cell_type": "code",
      "source": [
        "import numpy as np\n",
        "import matplotlib.pyplot as plt\n",
        "from sklearn.datasets import make_classification\n",
        "from sklearn.model_selection import train_test_split\n",
        "from sklearn.svm import SVC\n",
        "\n",
        "# Create a synthetic dataset\n",
        "X, y = make_classification(n_samples=100, n_features=2, n_informative=2, n_redundant=0,\n",
        "                           n_classes=2, random_state=42)\n",
        "\n",
        "# Split the data\n",
        "X_train, X_test, y_train, y_test = train_test_split(X, y, test_size=0.3, random_state=42)\n",
        "\n",
        "# Train the SVM classifier with a polynomial kernel\n",
        "clf = SVC(kernel='poly', degree=3, C=1.0)\n",
        "clf.fit(X_train, y_train)\n",
        "\n",
        "# Create a meshgrid for plotting the decision boundary\n",
        "h = 0.02\n",
        "x_min, x_max = X[:, 0].min() - 1, X[:, 0].max() + 1\n",
        "y_min, y_max = X[:, 1].min() - 1, X[:, 1].max() + 1\n",
        "xx, yy = np.meshgrid(np.arange(x_min, x_max, h),\n",
        "                     np.arange(y_min, y_max, h))\n",
        "\n",
        "# Predict the class labels for each point in the meshgrid\n",
        "Z = clf.predict(np.c_[xx.ravel(), yy.ravel()])\n",
        "Z = Z.reshape(xx.shape)\n",
        "\n",
        "# Plot the decision boundary and the data points\n",
        "plt.contourf(xx, yy, Z, alpha=0.8)\n",
        "plt.scatter(X[:, 0], X[:, 1], c=y, edgecolors='k')\n",
        "plt.xlabel('Feature 1')\n",
        "plt.ylabel('Feature 2')\n",
        "plt.title('SVM Classifier with Polynomial Kernel Decision Boundary')\n",
        "plt.show()\n",
        "\n",
        "\n"
      ],
      "metadata": {
        "colab": {
          "base_uri": "https://localhost:8080/",
          "height": 472
        },
        "id": "VdAAndo4G5TM",
        "outputId": "10f78858-a23e-43da-ae28-180ec40b9007"
      },
      "execution_count": null,
      "outputs": [
        {
          "output_type": "display_data",
          "data": {
            "text/plain": [
              "<Figure size 640x480 with 1 Axes>"
            ],
            "image/png": "[encoded data removed]"
          },
          "metadata": {}
        }
      ]
    },
    {
      "cell_type": "markdown",
      "source": [
        "25. Write a Python program to train a Gaussian Naïve Bayes classifier on the Breast Cancer dataset and evaluate accuracy.\n"
      ],
      "metadata": {
        "id": "mzDmVgHCG5sg"
      }
    },
    {
      "cell_type": "code",
      "source": [
        "from sklearn.datasets import load_breast_cancer\n",
        "from sklearn.model_selection import train_test_split\n",
        "from sklearn.naive_bayes import GaussianNB\n",
        "from sklearn.metrics import accuracy_score\n",
        "\n",
        "# Load the Breast Cancer dataset\n",
        "cancer = load_breast_cancer()\n",
        "X = cancer.data\n",
        "y = cancer.target\n",
        "\n",
        "# Split the data into training and testing sets\n",
        "X_train, X_test, y_train, y_test = train_test_split(X, y, test_size=0.3, random_state=42)\n",
        "\n",
        "# Create a Gaussian Naïve Bayes classifier\n",
        "gnb = GaussianNB()\n",
        "\n",
        "# Train the classifier\n",
        "gnb.fit(X_train, y_train)\n",
        "\n",
        "# Make predictions on the test set\n",
        "y_pred = gnb.predict(X_test)\n",
        "\n",
        "# Evaluate the accuracy\n",
        "accuracy = accuracy_score(y_test, y_pred)\n",
        "print(f\"Accuracy: {accuracy}\")\n",
        "\n",
        "\n"
      ],
      "metadata": {
        "colab": {
          "base_uri": "https://localhost:8080/"
        },
        "id": "oMdYvmV_G8yJ",
        "outputId": "540cf2ad-fd7a-45c7-eafa-f54663171708"
      },
      "execution_count": null,
      "outputs": [
        {
          "output_type": "stream",
          "name": "stdout",
          "text": [
            "Accuracy: 0.9415204678362573\n"
          ]
        }
      ]
    },
    {
      "cell_type": "markdown",
      "source": [
        "26. Write a Python program to train a Multinomial Naïve Bayes classifier for text classification using the 20 Newsgroups dataset."
      ],
      "metadata": {
        "id": "bq6tcXYvG9Tp"
      }
    },
    {
      "cell_type": "code",
      "source": [
        "from sklearn.datasets import fetch_20newsgroups\n",
        "from sklearn.model_selection import train_test_split\n",
        "from sklearn.feature_extraction.text import TfidfVectorizer\n",
        "from sklearn.naive_bayes import MultinomialNB\n",
        "from sklearn.metrics import accuracy_score\n",
        "\n",
        "# Fetch the 20 Newsgroups dataset\n",
        "categories = ['alt.atheism', 'soc.religion.christian']\n",
        "newsgroups_train = fetch_20newsgroups(subset='train', categories=categories)\n",
        "newsgroups_test = fetch_20newsgroups(subset='test', categories=categories)\n",
        "\n",
        "# Convert text to numerical features using TF-IDF\n",
        "vectorizer = TfidfVectorizer()\n",
        "X_train = vectorizer.fit_transform(newsgroups_train.data)  # Fit and transform training data\n",
        "X_test = vectorizer.transform(newsgroups_test.data)  # Transform test data\n",
        "\n",
        "# Create a Multinomial Naïve Bayes classifier\n",
        "mnb = MultinomialNB()\n",
        "\n",
        "# Train the classifier\n",
        "mnb.fit(X_train, newsgroups_train.target)\n",
        "\n",
        "# Make predictions on the test set\n",
        "y_pred = mnb.predict(X_test)\n",
        "\n",
        "# Evaluate the accuracy\n",
        "accuracy = accuracy_score(newsgroups_test.target, y_pred)\n",
        "print(f\"Accuracy: {accuracy}\")\n",
        "\n"
      ],
      "metadata": {
        "colab": {
          "base_uri": "https://localhost:8080/"
        },
        "id": "mermT50UHAzY",
        "outputId": "fd23c964-6f8f-4659-eb3c-2cfbef2f0e6f"
      },
      "execution_count": null,
      "outputs": [
        {
          "output_type": "stream",
          "name": "stdout",
          "text": [
            "Accuracy: 0.8521617852161785\n"
          ]
        }
      ]
    },
    {
      "cell_type": "markdown",
      "source": [
        "\n",
        "27. Write a Python program to train an SVM Classifier with different C values and compare the decision boundaries visually.\n"
      ],
      "metadata": {
        "id": "mqqmOrL-HBNY"
      }
    },
    {
      "cell_type": "code",
      "source": [
        "import numpy as np\n",
        "import matplotlib.pyplot as plt\n",
        "from sklearn.datasets import make_classification\n",
        "from sklearn.model_selection import train_test_split\n",
        "from sklearn.svm import SVC\n",
        "\n",
        "# Create a synthetic dataset\n",
        "X, y = make_classification(n_samples=100, n_features=2, n_informative=2, n_redundant=0,\n",
        "                           n_classes=2, random_state=42)\n",
        "\n",
        "X_train, X_test, y_train, y_test = train_test_split(X, y, test_size=0.3, random_state=42)\n",
        "\n",
        "C_values = [0.1, 1, 10, 100]\n",
        "\n",
        "for C in C_values:\n",
        "    clf = SVC(kernel='rbf', C=C)\n",
        "    clf.fit(X_train, y_train)\n",
        "\n",
        "    # Create meshgrid for plotting\n",
        "    h = 0.02\n",
        "    x_min, x_max = X[:, 0].min() - 1, X[:, 0].max() + 1\n",
        "    y_min, y_max = X[:, 1].min() - 1, X[:, 1].max() + 1\n",
        "    xx, yy = np.meshgrid(np.arange(x_min, x_max, h),\n",
        "                         np.arange(y_min, y_max, h))\n",
        "\n",
        "    Z = clf.predict(np.c_[xx.ravel(), yy.ravel()])\n",
        "    Z = Z.reshape(xx.shape)\n",
        "\n",
        "    # Plot decision boundary and data points\n",
        "    plt.figure()\n",
        "    plt.contourf(xx, yy, Z, alpha=0.8)\n",
        "    plt.scatter(X[:, 0], X[:, 1], c=y, edgecolors='k')\n",
        "    plt.xlabel('Feature 1')\n",
        "    plt.ylabel('Feature 2')\n",
        "    plt.title(f'SVM Decision Boundary (C = {C})')\n",
        "    plt.show()\n",
        "\n"
      ],
      "metadata": {
        "colab": {
          "base_uri": "https://localhost:8080/",
          "height": 1000
        },
        "id": "iUUjMAe9HY3g",
        "outputId": "c6c5077e-4a16-4911-8a56-090358aafae7"
      },
      "execution_count": null,
      "outputs": [
        {
          "output_type": "display_data",
          "data": {
            "text/plain": [
              "<Figure size 640x480 with 1 Axes>"
            ],
            "image/png": "[encoded data removed]"
          },
          "metadata": {}
        },
        {
          "output_type": "display_data",
          "data": {
            "text/plain": [
              "<Figure size 640x480 with 1 Axes>"
            ],
            "image/png": "[encoded data removed]"
          },
          "metadata": {}
        },
        {
          "output_type": "display_data",
          "data": {
            "text/plain": [
              "<Figure size 640x480 with 1 Axes>"
            ],
            "image/png": "[encoded data removed]"
          },
          "metadata": {}
        },
        {
          "output_type": "display_data",
          "data": {
            "text/plain": [
              "<Figure size 640x480 with 1 Axes>"
            ],
            "image/png": "[encoded data removed]"
          },
          "metadata": {}
        }
      ]
    },
    {
      "cell_type": "markdown",
      "source": [
        "28. Write a Python program to train a Bernoulli Naïve Bayes classifier for binary classification on a dataset with binary features.\n",
        "\n"
      ],
      "metadata": {
        "id": "iR2iDA_YHZS5"
      }
    },
    {
      "cell_type": "code",
      "source": [
        "from sklearn.datasets import make_classification\n",
        "from sklearn.model_selection import train_test_split\n",
        "from sklearn.naive_bayes import BernoulliNB\n",
        "from sklearn.metrics import accuracy_score\n",
        "\n",
        "# 1. Load your data\n",
        "# Example using make_classification to generate synthetic binary data:\n",
        "X, y = make_classification(n_samples=100, n_features=10, n_informative=8, n_redundant=0,\n",
        "                           n_classes=2, random_state=42)\n",
        "\n",
        "\n",
        "\n",
        "\n",
        "# 2. Split the data\n",
        "X_train, X_test, y_train, y_test = train_test_split(X, y, test_size=0.3, random_state=42)\n",
        "\n",
        "# 3. Create and train the Bernoulli Naïve Bayes classifier\n",
        "bnb = BernoulliNB()\n",
        "bnb.fit(X_train, y_train)\n",
        "\n",
        "# 4. Make predictions\n",
        "y_pred = bnb.predict(X_test)\n",
        "\n",
        "# 5. Evaluate the model\n",
        "accuracy = accuracy_score(y_test, y_pred)\n",
        "print(f\"Accuracy: {accuracy}\")\n",
        "\n",
        "\n"
      ],
      "metadata": {
        "colab": {
          "base_uri": "https://localhost:8080/"
        },
        "id": "gux5_T82Hckq",
        "outputId": "5246c14a-67bc-4013-c3ef-6b79ebdf910f"
      },
      "execution_count": null,
      "outputs": [
        {
          "output_type": "stream",
          "name": "stdout",
          "text": [
            "Accuracy: 0.5333333333333333\n"
          ]
        }
      ]
    },
    {
      "cell_type": "markdown",
      "source": [
        "29. Write a Python program to apply feature scaling before training an SVM model and compare results with unscaled data.\n"
      ],
      "metadata": {
        "id": "yvhgwIcBHdCc"
      }
    },
    {
      "cell_type": "code",
      "source": [
        "from sklearn.datasets import load_iris\n",
        "from sklearn.model_selection import train_test_split\n",
        "from sklearn.svm import SVC\n",
        "from sklearn.preprocessing import StandardScaler\n",
        "from sklearn.metrics import accuracy_score\n",
        "\n",
        "# 1. Load the data\n",
        "iris = load_iris()\n",
        "X = iris.data\n",
        "y = iris.target\n",
        "\n",
        "# 2. Split the data\n",
        "X_train, X_test, y_train, y_test = train_test_split(X, y, test_size=0.3, random_state=42)\n",
        "\n",
        "# 3. Scale the data (important for SVMs)\n",
        "scaler = StandardScaler()\n",
        "X_train_scaled = scaler.fit_transform(X_train)\n",
        "X_test_scaled = scaler.transform(X_test)\n",
        "\n",
        "# 4. Train SVM models (one with scaled data, one without)\n",
        "svm_unscaled = SVC(kernel='rbf')\n",
        "svm_scaled = SVC(kernel='rbf')\n",
        "\n",
        "svm_unscaled.fit(X_train, y_train)\n",
        "svm_scaled.fit(X_train_scaled, y_train)\n",
        "\n",
        "# 5. Make predictions\n",
        "y_pred_unscaled = svm_unscaled.predict(X_test)\n",
        "y_pred_scaled = svm_scaled.predict(X_test_scaled)\n",
        "\n",
        "# 6. Evaluate the models\n",
        "accuracy_unscaled = accuracy_score(y_test, y_pred_unscaled)\n",
        "accuracy_scaled = accuracy_score(y_test, y_pred_scaled)\n",
        "\n",
        "print(f\"Accuracy (Unscaled): {accuracy_unscaled}\")\n",
        "print(f\"Accuracy (Scaled): {accuracy_scaled}\")\n"
      ],
      "metadata": {
        "colab": {
          "base_uri": "https://localhost:8080/"
        },
        "id": "0kvVP8uDHgaP",
        "outputId": "0e8585a4-2f09-4e14-8af5-ddc66b6a1f62"
      },
      "execution_count": null,
      "outputs": [
        {
          "output_type": "stream",
          "name": "stdout",
          "text": [
            "Accuracy (Unscaled): 1.0\n",
            "Accuracy (Scaled): 1.0\n"
          ]
        }
      ]
    },
    {
      "cell_type": "markdown",
      "source": [
        "30. Write a Python program to train a Gaussian Naïve Bayes model and compare the predictions before and after Laplace Smoothing.\n"
      ],
      "metadata": {
        "id": "2R3a1Ts2Hg6t"
      }
    },
    {
      "cell_type": "code",
      "source": [
        "from sklearn.datasets import load_breast_cancer\n",
        "from sklearn.model_selection import train_test_split\n",
        "from sklearn.naive_bayes import GaussianNB\n",
        "\n",
        "# 1. Load the data\n",
        "cancer = load_breast_cancer()\n",
        "X = cancer.data\n",
        "y = cancer.target\n",
        "\n",
        "# 2. Split the data\n",
        "X_train, X_test, y_train, y_test = train_test_split(X, y, test_size=0.3, random_state=42)\n",
        "\n",
        "# 3. Train the Gaussian Naïve Bayes model (without smoothing)\n",
        "gnb_no_smoothing = GaussianNB()\n",
        "gnb_no_smoothing.fit(X_train, y_train)\n",
        "\n",
        "# 4. Train the Gaussian Naïve Bayes model (with smoothing)\n",
        "gnb_smoothing = GaussianNB(var_smoothing=1e-9) # set smoothing, try different values\n",
        "gnb_smoothing.fit(X_train, y_train)\n",
        "\n",
        "\n",
        "# 5. Make predictions\n",
        "y_pred_no_smoothing = gnb_no_smoothing.predict(X_test)\n",
        "y_pred_smoothing = gnb_smoothing.predict(X_test)\n",
        "\n",
        "# 6. Compare Predictions (Qualitative)\n",
        "print(\"Predictions without smoothing:\", y_pred_no_smoothing[:10])  # Print first 10\n",
        "print(\"Predictions with smoothing:\", y_pred_smoothing[:10])\n",
        "\n",
        "# 7. Evaluate (Quantitative - Accuracy)\n",
        "from sklearn.metrics import accuracy_score\n",
        "accuracy_no_smoothing = accuracy_score(y_test, y_pred_no_smoothing)\n",
        "accuracy_smoothing = accuracy_score(y_test, y_pred_smoothing)\n",
        "\n",
        "print(f\"Accuracy without smoothing: {accuracy_no_smoothing}\")\n",
        "print(f\"Accuracy with smoothing: {accuracy_smoothing}\")\n"
      ],
      "metadata": {
        "colab": {
          "base_uri": "https://localhost:8080/"
        },
        "id": "ltGFzvjWHjwK",
        "outputId": "0991f1c3-4547-4219-e37d-acdd20add10d"
      },
      "execution_count": null,
      "outputs": [
        {
          "output_type": "stream",
          "name": "stdout",
          "text": [
            "Predictions without smoothing: [1 0 0 1 1 0 0 0 1 1]\n",
            "Predictions with smoothing: [1 0 0 1 1 0 0 0 1 1]\n",
            "Accuracy without smoothing: 0.9415204678362573\n",
            "Accuracy with smoothing: 0.9415204678362573\n"
          ]
        }
      ]
    },
    {
      "cell_type": "markdown",
      "source": [
        "31. Write a Python program to train an SVM Classifier and use GridSearchCV to tune the hyperparameters (C, gamma, kernel).\n"
      ],
      "metadata": {
        "id": "dJd67oVYHkHT"
      }
    },
    {
      "cell_type": "code",
      "source": [
        "from sklearn.datasets import load_iris\n",
        "from sklearn.model_selection import train_test_split, GridSearchCV\n",
        "from sklearn.svm import SVC\n",
        "\n",
        "# 1. Load the data\n",
        "iris = load_iris()\n",
        "X = iris.data\n",
        "y = iris.target\n",
        "\n",
        "# 2. Split the data\n",
        "X_train, X_test, y_train, y_test = train_test_split(X, y, test_size=0.3, random_state=42)\n",
        "\n",
        "# 3. Define the parameter grid\n",
        "param_grid = {\n",
        "    'C': [0.1, 1, 10, 100],  # Different C values to try\n",
        "    'gamma': [1, 0.1, 0.01, 0.001],  # Different gamma values to try (for RBF kernel)\n",
        "    'kernel': ['rbf', 'linear', 'poly']  # Different kernels to try\n",
        "}\n",
        "\n",
        "# 4. Create a GridSearchCV object\n",
        "grid = GridSearchCV(SVC(), param_grid, refit=True, verbose=2, cv=5)  # cv=5 for 5-fold cross-validation\n",
        "\n",
        "# 5. Fit the GridSearchCV object\n",
        "grid.fit(X_train, y_train)\n",
        "\n",
        "# 6. Print the best parameters\n",
        "print(f\"Best parameters: {grid.best_params_}\")\n",
        "\n",
        "# 7. Use the best model to make predictions on the test set\n",
        "best_clf = grid.best_estimator_\n",
        "y_pred = best_clf.predict(X_test)\n",
        "\n",
        "# 8. Evaluate the model\n",
        "from sklearn.metrics import accuracy_score\n",
        "accuracy = accuracy_score(y_test, y_pred)\n",
        "print(f\"Accuracy: {accuracy}\")\n"
      ],
      "metadata": {
        "colab": {
          "base_uri": "https://localhost:8080/"
        },
        "id": "IGvlPwcHHmjO",
        "outputId": "9ca4bc22-ece1-4ff1-83ed-a03190866aee"
      },
      "execution_count": null,
      "outputs": [
        {
          "output_type": "stream",
          "name": "stdout",
          "text": [
            "Fitting 5 folds for each of 48 candidates, totalling 240 fits\n",
            "[CV] END .........................C=0.1, gamma=1, kernel=rbf; total time=   0.0s\n",
            "[CV] END .........................C=0.1, gamma=1, kernel=rbf; total time=   0.0s\n",
            "[CV] END .........................C=0.1, gamma=1, kernel=rbf; total time=   0.0s\n",
            "[CV] END .........................C=0.1, gamma=1, kernel=rbf; total time=   0.0s\n",
            "[CV] END .........................C=0.1, gamma=1, kernel=rbf; total time=   0.0s\n",
            "[CV] END ......................C=0.1, gamma=1, kernel=linear; total time=   0.0s\n",
            "[CV] END ......................C=0.1, gamma=1, kernel=linear; total time=   0.0s\n",
            "[CV] END ......................C=0.1, gamma=1, kernel=linear; total time=   0.0s\n",
            "[CV] END ......................C=0.1, gamma=1, kernel=linear; total time=   0.0s\n",
            "[CV] END ......................C=0.1, gamma=1, kernel=linear; total time=   0.0s\n",
            "[CV] END ........................C=0.1, gamma=1, kernel=poly; total time=   0.0s\n",
            "[CV] END ........................C=0.1, gamma=1, kernel=poly; total time=   0.0s\n",
            "[CV] END ........................C=0.1, gamma=1, kernel=poly; total time=   0.0s\n",
            "[CV] END ........................C=0.1, gamma=1, kernel=poly; total time=   0.0s\n",
            "[CV] END ........................C=0.1, gamma=1, kernel=poly; total time=   0.0s\n",
            "[CV] END .......................C=0.1, gamma=0.1, kernel=rbf; total time=   0.0s\n",
            "[CV] END .......................C=0.1, gamma=0.1, kernel=rbf; total time=   0.0s\n",
            "[CV] END .......................C=0.1, gamma=0.1, kernel=rbf; total time=   0.0s\n",
            "[CV] END .......................C=0.1, gamma=0.1, kernel=rbf; total time=   0.0s\n",
            "[CV] END .......................C=0.1, gamma=0.1, kernel=rbf; total time=   0.0s\n",
            "[CV] END ....................C=0.1, gamma=0.1, kernel=linear; total time=   0.0s\n",
            "[CV] END ....................C=0.1, gamma=0.1, kernel=linear; total time=   0.0s\n",
            "[CV] END ....................C=0.1, gamma=0.1, kernel=linear; total time=   0.0s\n",
            "[CV] END ....................C=0.1, gamma=0.1, kernel=linear; total time=   0.0s\n",
            "[CV] END ....................C=0.1, gamma=0.1, kernel=linear; total time=   0.0s\n",
            "[CV] END ......................C=0.1, gamma=0.1, kernel=poly; total time=   0.0s\n",
            "[CV] END ......................C=0.1, gamma=0.1, kernel=poly; total time=   0.0s\n",
            "[CV] END ......................C=0.1, gamma=0.1, kernel=poly; total time=   0.0s\n",
            "[CV] END ......................C=0.1, gamma=0.1, kernel=poly; total time=   0.0s\n",
            "[CV] END ......................C=0.1, gamma=0.1, kernel=poly; total time=   0.0s\n",
            "[CV] END ......................C=0.1, gamma=0.01, kernel=rbf; total time=   0.0s\n",
            "[CV] END ......................C=0.1, gamma=0.01, kernel=rbf; total time=   0.0s\n",
            "[CV] END ......................C=0.1, gamma=0.01, kernel=rbf; total time=   0.0s\n",
            "[CV] END ......................C=0.1, gamma=0.01, kernel=rbf; total time=   0.0s\n",
            "[CV] END ......................C=0.1, gamma=0.01, kernel=rbf; total time=   0.0s\n",
            "[CV] END ...................C=0.1, gamma=0.01, kernel=linear; total time=   0.0s\n",
            "[CV] END ...................C=0.1, gamma=0.01, kernel=linear; total time=   0.0s\n",
            "[CV] END ...................C=0.1, gamma=0.01, kernel=linear; total time=   0.0s\n",
            "[CV] END ...................C=0.1, gamma=0.01, kernel=linear; total time=   0.0s\n",
            "[CV] END ...................C=0.1, gamma=0.01, kernel=linear; total time=   0.0s\n",
            "[CV] END .....................C=0.1, gamma=0.01, kernel=poly; total time=   0.0s\n",
            "[CV] END .....................C=0.1, gamma=0.01, kernel=poly; total time=   0.0s\n",
            "[CV] END .....................C=0.1, gamma=0.01, kernel=poly; total time=   0.0s\n",
            "[CV] END .....................C=0.1, gamma=0.01, kernel=poly; total time=   0.0s\n",
            "[CV] END .....................C=0.1, gamma=0.01, kernel=poly; total time=   0.0s\n",
            "[CV] END .....................C=0.1, gamma=0.001, kernel=rbf; total time=   0.0s\n",
            "[CV] END .....................C=0.1, gamma=0.001, kernel=rbf; total time=   0.0s\n",
            "[CV] END .....................C=0.1, gamma=0.001, kernel=rbf; total time=   0.0s\n",
            "[CV] END .....................C=0.1, gamma=0.001, kernel=rbf; total time=   0.0s\n",
            "[CV] END .....................C=0.1, gamma=0.001, kernel=rbf; total time=   0.0s\n",
            "[CV] END ..................C=0.1, gamma=0.001, kernel=linear; total time=   0.0s\n",
            "[CV] END ..................C=0.1, gamma=0.001, kernel=linear; total time=   0.0s\n",
            "[CV] END ..................C=0.1, gamma=0.001, kernel=linear; total time=   0.0s\n",
            "[CV] END ..................C=0.1, gamma=0.001, kernel=linear; total time=   0.0s\n",
            "[CV] END ..................C=0.1, gamma=0.001, kernel=linear; total time=   0.0s\n",
            "[CV] END ....................C=0.1, gamma=0.001, kernel=poly; total time=   0.0s\n",
            "[CV] END ....................C=0.1, gamma=0.001, kernel=poly; total time=   0.0s\n",
            "[CV] END ....................C=0.1, gamma=0.001, kernel=poly; total time=   0.0s\n",
            "[CV] END ....................C=0.1, gamma=0.001, kernel=poly; total time=   0.0s\n",
            "[CV] END ....................C=0.1, gamma=0.001, kernel=poly; total time=   0.0s\n",
            "[CV] END ...........................C=1, gamma=1, kernel=rbf; total time=   0.0s\n",
            "[CV] END ...........................C=1, gamma=1, kernel=rbf; total time=   0.0s\n",
            "[CV] END ...........................C=1, gamma=1, kernel=rbf; total time=   0.0s\n",
            "[CV] END ...........................C=1, gamma=1, kernel=rbf; total time=   0.0s\n",
            "[CV] END ...........................C=1, gamma=1, kernel=rbf; total time=   0.0s\n",
            "[CV] END ........................C=1, gamma=1, kernel=linear; total time=   0.0s\n",
            "[CV] END ........................C=1, gamma=1, kernel=linear; total time=   0.0s\n",
            "[CV] END ........................C=1, gamma=1, kernel=linear; total time=   0.0s\n",
            "[CV] END ........................C=1, gamma=1, kernel=linear; total time=   0.0s\n",
            "[CV] END ........................C=1, gamma=1, kernel=linear; total time=   0.0s\n",
            "[CV] END ..........................C=1, gamma=1, kernel=poly; total time=   0.0s\n",
            "[CV] END ..........................C=1, gamma=1, kernel=poly; total time=   0.0s\n",
            "[CV] END ..........................C=1, gamma=1, kernel=poly; total time=   0.0s\n",
            "[CV] END ..........................C=1, gamma=1, kernel=poly; total time=   0.0s\n",
            "[CV] END ..........................C=1, gamma=1, kernel=poly; total time=   0.0s\n",
            "[CV] END .........................C=1, gamma=0.1, kernel=rbf; total time=   0.0s\n",
            "[CV] END .........................C=1, gamma=0.1, kernel=rbf; total time=   0.0s\n",
            "[CV] END .........................C=1, gamma=0.1, kernel=rbf; total time=   0.0s\n",
            "[CV] END .........................C=1, gamma=0.1, kernel=rbf; total time=   0.0s\n",
            "[CV] END .........................C=1, gamma=0.1, kernel=rbf; total time=   0.0s\n",
            "[CV] END ......................C=1, gamma=0.1, kernel=linear; total time=   0.0s\n",
            "[CV] END ......................C=1, gamma=0.1, kernel=linear; total time=   0.0s\n",
            "[CV] END ......................C=1, gamma=0.1, kernel=linear; total time=   0.0s\n",
            "[CV] END ......................C=1, gamma=0.1, kernel=linear; total time=   0.0s\n",
            "[CV] END ......................C=1, gamma=0.1, kernel=linear; total time=   0.0s\n",
            "[CV] END ........................C=1, gamma=0.1, kernel=poly; total time=   0.0s\n",
            "[CV] END ........................C=1, gamma=0.1, kernel=poly; total time=   0.0s\n",
            "[CV] END ........................C=1, gamma=0.1, kernel=poly; total time=   0.0s\n",
            "[CV] END ........................C=1, gamma=0.1, kernel=poly; total time=   0.0s\n",
            "[CV] END ........................C=1, gamma=0.1, kernel=poly; total time=   0.0s\n",
            "[CV] END ........................C=1, gamma=0.01, kernel=rbf; total time=   0.0s\n",
            "[CV] END ........................C=1, gamma=0.01, kernel=rbf; total time=   0.0s\n",
            "[CV] END ........................C=1, gamma=0.01, kernel=rbf; total time=   0.0s\n",
            "[CV] END ........................C=1, gamma=0.01, kernel=rbf; total time=   0.0s\n",
            "[CV] END ........................C=1, gamma=0.01, kernel=rbf; total time=   0.0s\n",
            "[CV] END .....................C=1, gamma=0.01, kernel=linear; total time=   0.0s\n",
            "[CV] END .....................C=1, gamma=0.01, kernel=linear; total time=   0.0s\n",
            "[CV] END .....................C=1, gamma=0.01, kernel=linear; total time=   0.0s\n",
            "[CV] END .....................C=1, gamma=0.01, kernel=linear; total time=   0.0s\n",
            "[CV] END .....................C=1, gamma=0.01, kernel=linear; total time=   0.0s\n",
            "[CV] END .......................C=1, gamma=0.01, kernel=poly; total time=   0.0s\n",
            "[CV] END .......................C=1, gamma=0.01, kernel=poly; total time=   0.0s\n",
            "[CV] END .......................C=1, gamma=0.01, kernel=poly; total time=   0.0s\n",
            "[CV] END .......................C=1, gamma=0.01, kernel=poly; total time=   0.0s\n",
            "[CV] END .......................C=1, gamma=0.01, kernel=poly; total time=   0.0s\n",
            "[CV] END .......................C=1, gamma=0.001, kernel=rbf; total time=   0.0s\n",
            "[CV] END .......................C=1, gamma=0.001, kernel=rbf; total time=   0.0s\n",
            "[CV] END .......................C=1, gamma=0.001, kernel=rbf; total time=   0.0s\n",
            "[CV] END .......................C=1, gamma=0.001, kernel=rbf; total time=   0.0s\n",
            "[CV] END .......................C=1, gamma=0.001, kernel=rbf; total time=   0.0s\n",
            "[CV] END ....................C=1, gamma=0.001, kernel=linear; total time=   0.0s\n",
            "[CV] END ....................C=1, gamma=0.001, kernel=linear; total time=   0.0s\n",
            "[CV] END ....................C=1, gamma=0.001, kernel=linear; total time=   0.0s\n",
            "[CV] END ....................C=1, gamma=0.001, kernel=linear; total time=   0.0s\n",
            "[CV] END ....................C=1, gamma=0.001, kernel=linear; total time=   0.0s\n",
            "[CV] END ......................C=1, gamma=0.001, kernel=poly; total time=   0.0s\n",
            "[CV] END ......................C=1, gamma=0.001, kernel=poly; total time=   0.0s\n",
            "[CV] END ......................C=1, gamma=0.001, kernel=poly; total time=   0.0s\n",
            "[CV] END ......................C=1, gamma=0.001, kernel=poly; total time=   0.0s\n",
            "[CV] END ......................C=1, gamma=0.001, kernel=poly; total time=   0.0s\n",
            "[CV] END ..........................C=10, gamma=1, kernel=rbf; total time=   0.0s\n",
            "[CV] END ..........................C=10, gamma=1, kernel=rbf; total time=   0.0s\n",
            "[CV] END ..........................C=10, gamma=1, kernel=rbf; total time=   0.0s\n",
            "[CV] END ..........................C=10, gamma=1, kernel=rbf; total time=   0.0s\n",
            "[CV] END ..........................C=10, gamma=1, kernel=rbf; total time=   0.0s\n",
            "[CV] END .......................C=10, gamma=1, kernel=linear; total time=   0.0s\n",
            "[CV] END .......................C=10, gamma=1, kernel=linear; total time=   0.0s\n",
            "[CV] END .......................C=10, gamma=1, kernel=linear; total time=   0.0s\n",
            "[CV] END .......................C=10, gamma=1, kernel=linear; total time=   0.0s\n",
            "[CV] END .......................C=10, gamma=1, kernel=linear; total time=   0.0s\n",
            "[CV] END .........................C=10, gamma=1, kernel=poly; total time=   0.0s\n",
            "[CV] END .........................C=10, gamma=1, kernel=poly; total time=   0.1s\n",
            "[CV] END .........................C=10, gamma=1, kernel=poly; total time=   0.0s\n",
            "[CV] END .........................C=10, gamma=1, kernel=poly; total time=   0.1s\n",
            "[CV] END .........................C=10, gamma=1, kernel=poly; total time=   0.0s\n",
            "[CV] END ........................C=10, gamma=0.1, kernel=rbf; total time=   0.0s\n",
            "[CV] END ........................C=10, gamma=0.1, kernel=rbf; total time=   0.0s\n",
            "[CV] END ........................C=10, gamma=0.1, kernel=rbf; total time=   0.0s\n",
            "[CV] END ........................C=10, gamma=0.1, kernel=rbf; total time=   0.0s\n",
            "[CV] END ........................C=10, gamma=0.1, kernel=rbf; total time=   0.0s\n",
            "[CV] END .....................C=10, gamma=0.1, kernel=linear; total time=   0.0s\n",
            "[CV] END .....................C=10, gamma=0.1, kernel=linear; total time=   0.0s\n",
            "[CV] END .....................C=10, gamma=0.1, kernel=linear; total time=   0.0s\n",
            "[CV] END .....................C=10, gamma=0.1, kernel=linear; total time=   0.0s\n",
            "[CV] END .....................C=10, gamma=0.1, kernel=linear; total time=   0.0s\n",
            "[CV] END .......................C=10, gamma=0.1, kernel=poly; total time=   0.0s\n",
            "[CV] END .......................C=10, gamma=0.1, kernel=poly; total time=   0.0s\n",
            "[CV] END .......................C=10, gamma=0.1, kernel=poly; total time=   0.0s\n",
            "[CV] END .......................C=10, gamma=0.1, kernel=poly; total time=   0.0s\n",
            "[CV] END .......................C=10, gamma=0.1, kernel=poly; total time=   0.0s\n",
            "[CV] END .......................C=10, gamma=0.01, kernel=rbf; total time=   0.0s\n",
            "[CV] END .......................C=10, gamma=0.01, kernel=rbf; total time=   0.0s\n",
            "[CV] END .......................C=10, gamma=0.01, kernel=rbf; total time=   0.0s\n",
            "[CV] END .......................C=10, gamma=0.01, kernel=rbf; total time=   0.0s\n",
            "[CV] END .......................C=10, gamma=0.01, kernel=rbf; total time=   0.0s\n",
            "[CV] END ....................C=10, gamma=0.01, kernel=linear; total time=   0.0s\n",
            "[CV] END ....................C=10, gamma=0.01, kernel=linear; total time=   0.0s\n",
            "[CV] END ....................C=10, gamma=0.01, kernel=linear; total time=   0.0s\n",
            "[CV] END ....................C=10, gamma=0.01, kernel=linear; total time=   0.0s\n",
            "[CV] END ....................C=10, gamma=0.01, kernel=linear; total time=   0.0s\n",
            "[CV] END ......................C=10, gamma=0.01, kernel=poly; total time=   0.0s\n",
            "[CV] END ......................C=10, gamma=0.01, kernel=poly; total time=   0.0s\n",
            "[CV] END ......................C=10, gamma=0.01, kernel=poly; total time=   0.0s\n",
            "[CV] END ......................C=10, gamma=0.01, kernel=poly; total time=   0.0s\n",
            "[CV] END ......................C=10, gamma=0.01, kernel=poly; total time=   0.0s\n",
            "[CV] END ......................C=10, gamma=0.001, kernel=rbf; total time=   0.0s\n",
            "[CV] END ......................C=10, gamma=0.001, kernel=rbf; total time=   0.0s\n",
            "[CV] END ......................C=10, gamma=0.001, kernel=rbf; total time=   0.0s\n",
            "[CV] END ......................C=10, gamma=0.001, kernel=rbf; total time=   0.0s\n",
            "[CV] END ......................C=10, gamma=0.001, kernel=rbf; total time=   0.0s\n",
            "[CV] END ...................C=10, gamma=0.001, kernel=linear; total time=   0.0s\n",
            "[CV] END ...................C=10, gamma=0.001, kernel=linear; total time=   0.0s\n",
            "[CV] END ...................C=10, gamma=0.001, kernel=linear; total time=   0.0s\n",
            "[CV] END ...................C=10, gamma=0.001, kernel=linear; total time=   0.0s\n",
            "[CV] END ...................C=10, gamma=0.001, kernel=linear; total time=   0.0s\n",
            "[CV] END .....................C=10, gamma=0.001, kernel=poly; total time=   0.0s\n",
            "[CV] END .....................C=10, gamma=0.001, kernel=poly; total time=   0.0s\n",
            "[CV] END .....................C=10, gamma=0.001, kernel=poly; total time=   0.0s\n",
            "[CV] END .....................C=10, gamma=0.001, kernel=poly; total time=   0.0s\n",
            "[CV] END .....................C=10, gamma=0.001, kernel=poly; total time=   0.0s\n",
            "[CV] END .........................C=100, gamma=1, kernel=rbf; total time=   0.0s\n",
            "[CV] END .........................C=100, gamma=1, kernel=rbf; total time=   0.0s\n",
            "[CV] END .........................C=100, gamma=1, kernel=rbf; total time=   0.0s\n",
            "[CV] END .........................C=100, gamma=1, kernel=rbf; total time=   0.0s\n",
            "[CV] END .........................C=100, gamma=1, kernel=rbf; total time=   0.0s\n",
            "[CV] END ......................C=100, gamma=1, kernel=linear; total time=   0.0s\n",
            "[CV] END ......................C=100, gamma=1, kernel=linear; total time=   0.0s\n",
            "[CV] END ......................C=100, gamma=1, kernel=linear; total time=   0.0s\n",
            "[CV] END ......................C=100, gamma=1, kernel=linear; total time=   0.0s\n",
            "[CV] END ......................C=100, gamma=1, kernel=linear; total time=   0.0s\n",
            "[CV] END ........................C=100, gamma=1, kernel=poly; total time=   0.0s\n",
            "[CV] END ........................C=100, gamma=1, kernel=poly; total time=   0.1s\n",
            "[CV] END ........................C=100, gamma=1, kernel=poly; total time=   0.0s\n",
            "[CV] END ........................C=100, gamma=1, kernel=poly; total time=   0.9s\n",
            "[CV] END ........................C=100, gamma=1, kernel=poly; total time=   0.0s\n",
            "[CV] END .......................C=100, gamma=0.1, kernel=rbf; total time=   0.0s\n",
            "[CV] END .......................C=100, gamma=0.1, kernel=rbf; total time=   0.0s\n",
            "[CV] END .......................C=100, gamma=0.1, kernel=rbf; total time=   0.0s\n",
            "[CV] END .......................C=100, gamma=0.1, kernel=rbf; total time=   0.0s\n",
            "[CV] END .......................C=100, gamma=0.1, kernel=rbf; total time=   0.0s\n",
            "[CV] END ....................C=100, gamma=0.1, kernel=linear; total time=   0.0s\n",
            "[CV] END ....................C=100, gamma=0.1, kernel=linear; total time=   0.0s\n",
            "[CV] END ....................C=100, gamma=0.1, kernel=linear; total time=   0.0s\n",
            "[CV] END ....................C=100, gamma=0.1, kernel=linear; total time=   0.0s\n",
            "[CV] END ....................C=100, gamma=0.1, kernel=linear; total time=   0.0s\n",
            "[CV] END ......................C=100, gamma=0.1, kernel=poly; total time=   0.0s\n",
            "[CV] END ......................C=100, gamma=0.1, kernel=poly; total time=   0.0s\n",
            "[CV] END ......................C=100, gamma=0.1, kernel=poly; total time=   0.0s\n",
            "[CV] END ......................C=100, gamma=0.1, kernel=poly; total time=   0.0s\n",
            "[CV] END ......................C=100, gamma=0.1, kernel=poly; total time=   0.0s\n",
            "[CV] END ......................C=100, gamma=0.01, kernel=rbf; total time=   0.0s\n",
            "[CV] END ......................C=100, gamma=0.01, kernel=rbf; total time=   0.0s\n",
            "[CV] END ......................C=100, gamma=0.01, kernel=rbf; total time=   0.0s\n",
            "[CV] END ......................C=100, gamma=0.01, kernel=rbf; total time=   0.0s\n",
            "[CV] END ......................C=100, gamma=0.01, kernel=rbf; total time=   0.0s\n",
            "[CV] END ...................C=100, gamma=0.01, kernel=linear; total time=   0.0s\n",
            "[CV] END ...................C=100, gamma=0.01, kernel=linear; total time=   0.0s\n",
            "[CV] END ...................C=100, gamma=0.01, kernel=linear; total time=   0.0s\n",
            "[CV] END ...................C=100, gamma=0.01, kernel=linear; total time=   0.0s\n",
            "[CV] END ...................C=100, gamma=0.01, kernel=linear; total time=   0.0s\n",
            "[CV] END .....................C=100, gamma=0.01, kernel=poly; total time=   0.0s\n",
            "[CV] END .....................C=100, gamma=0.01, kernel=poly; total time=   0.0s\n",
            "[CV] END .....................C=100, gamma=0.01, kernel=poly; total time=   0.0s\n",
            "[CV] END .....................C=100, gamma=0.01, kernel=poly; total time=   0.0s\n",
            "[CV] END .....................C=100, gamma=0.01, kernel=poly; total time=   0.0s\n",
            "[CV] END .....................C=100, gamma=0.001, kernel=rbf; total time=   0.0s\n",
            "[CV] END .....................C=100, gamma=0.001, kernel=rbf; total time=   0.0s\n",
            "[CV] END .....................C=100, gamma=0.001, kernel=rbf; total time=   0.0s\n",
            "[CV] END .....................C=100, gamma=0.001, kernel=rbf; total time=   0.0s\n",
            "[CV] END .....................C=100, gamma=0.001, kernel=rbf; total time=   0.0s\n",
            "[CV] END ..................C=100, gamma=0.001, kernel=linear; total time=   0.0s\n",
            "[CV] END ..................C=100, gamma=0.001, kernel=linear; total time=   0.0s\n",
            "[CV] END ..................C=100, gamma=0.001, kernel=linear; total time=   0.0s\n",
            "[CV] END ..................C=100, gamma=0.001, kernel=linear; total time=   0.0s\n",
            "[CV] END ..................C=100, gamma=0.001, kernel=linear; total time=   0.0s\n",
            "[CV] END ....................C=100, gamma=0.001, kernel=poly; total time=   0.0s\n",
            "[CV] END ....................C=100, gamma=0.001, kernel=poly; total time=   0.0s\n",
            "[CV] END ....................C=100, gamma=0.001, kernel=poly; total time=   0.0s\n",
            "[CV] END ....................C=100, gamma=0.001, kernel=poly; total time=   0.0s\n",
            "[CV] END ....................C=100, gamma=0.001, kernel=poly; total time=   0.0s\n",
            "Best parameters: {'C': 100, 'gamma': 0.01, 'kernel': 'rbf'}\n",
            "Accuracy: 1.0\n"
          ]
        }
      ]
    },
    {
      "cell_type": "markdown",
      "source": [
        "32. Write a Python program to train an SVM Classifier on an imbalanced dataset and apply class weighting and check if it improves accuracy.\n"
      ],
      "metadata": {
        "id": "ggbtFoO4Hm_L"
      }
    },
    {
      "cell_type": "code",
      "source": [
        "import numpy as np\n",
        "from sklearn.datasets import make_classification\n",
        "from sklearn.model_selection import train_test_split\n",
        "from sklearn.svm import SVC\n",
        "from sklearn.metrics import accuracy_score\n",
        "from sklearn.utils import class_weight\n",
        "\n",
        "# 1. Generate an imbalanced dataset\n",
        "X, y = make_classification(n_samples=100, n_features=10, n_informative=8, n_redundant=0,\n",
        "                           n_classes=2, weights=[0.9, 0.1], random_state=42) # 90% class 0, 10% class 1\n",
        "\n",
        "\n",
        "\n",
        "# 2. Split the data\n",
        "X_train, X_test, y_train, y_test = train_test_split(X, y, test_size=0.3, random_state=42, stratify=y)\n",
        "\n",
        "# 3. Calculate class weights\n",
        "class_weights = class_weight.compute_class_weight('balanced', classes=np.unique(y_train), y=y_train)\n",
        "class_weight_dict = dict(zip(np.unique(y_train), class_weights)) # Convert to dictionary\n",
        "\n",
        "# 4. Train SVM models (one with class weights, one without)\n",
        "svm_unweighted = SVC(kernel='rbf')  # or your chosen kernel\n",
        "svm_weighted = SVC(kernel='rbf', class_weight=class_weight_dict)\n",
        "\n",
        "svm_unweighted.fit(X_train, y_train)\n",
        "svm_weighted.fit(X_train, y_train)\n",
        "\n",
        "# 5. Make predictions\n",
        "y_pred_unweighted = svm_unweighted.predict(X_test)\n",
        "y_pred_weighted = svm_weighted.predict(X_test)\n",
        "\n",
        "# 6. Evaluate the models\n",
        "accuracy_unweighted = accuracy_score(y_test, y_pred_unweighted)\n",
        "accuracy_weighted = accuracy_score(y_test, y_pred_weighted)\n",
        "\n",
        "print(f\"Accuracy (Unweighted): {accuracy_unweighted}\")\n",
        "print(f\"Accuracy (Weighted): {accuracy_weighted}\")\n",
        "\n"
      ],
      "metadata": {
        "colab": {
          "base_uri": "https://localhost:8080/"
        },
        "id": "GJg2BIseHqeo",
        "outputId": "88092e65-6e8d-4496-f034-3ead18aabab7"
      },
      "execution_count": null,
      "outputs": [
        {
          "output_type": "stream",
          "name": "stdout",
          "text": [
            "Accuracy (Unweighted): 0.9\n",
            "Accuracy (Weighted): 0.9\n"
          ]
        }
      ]
    },
    {
      "cell_type": "markdown",
      "source": [
        "33. Write a Python program to implement a Naïve Bayes classifier for spam detection using email data.\n"
      ],
      "metadata": {
        "id": "fAeUg-BLHq1x"
      }
    },
    {
      "cell_type": "code",
      "source": [
        "import pandas as pd\n",
        "from sklearn.model_selection import train_test_split\n",
        "from sklearn.naive_bayes import MultinomialNB\n",
        "from sklearn.feature_extraction.text import TfidfVectorizer\n",
        "from sklearn.metrics import accuracy_score, classification_report\n",
        "\n",
        "# 1. Sample Email Data\n",
        "sample_data = {\n",
        "    'text': [\n",
        "        \"Free offer! Click here now!\",\n",
        "        \"Meeting agenda for tomorrow\",\n",
        "        \"Congratulations, you've won a prize!\",\n",
        "        \"Project update discussion\",\n",
        "        \"Limited time discount on software\",\n",
        "        \"Re: Your application for the job\",\n",
        "        \"Get rich quick scheme\",\n",
        "        \"Team lunch arrangements\",\n",
        "        \"Urgent: Action required\",\n",
        "        \"Feedback on the presentation\"\n",
        "    ],\n",
        "    'label': [1, 0, 1, 0, 1, 0, 1, 0, 1, 0]  # 1 for spam, 0 for not spam\n",
        "}\n",
        "email_data = pd.DataFrame(sample_data)\n",
        "X = email_data['text']\n",
        "y = email_data['label']\n",
        "\n",
        "# 2. Split the data (stratify is *very* important)\n",
        "X_train, X_test, y_train, y_test = train_test_split(X, y, test_size=0.3, random_state=42, stratify=y)\n",
        "\n",
        "# 3. Text Vectorization (TF-IDF)\n",
        "vectorizer = TfidfVectorizer(stop_words='english')\n",
        "X_train_vec = vectorizer.fit_transform(X_train)\n",
        "X_test_vec = vectorizer.transform(X_test)\n",
        "\n",
        "# 4. Train the Multinomial Naïve Bayes classifier\n",
        "nb_classifier = MultinomialNB()\n",
        "nb_classifier.fit(X_train_vec, y_train)\n",
        "\n",
        "# 5. Make predictions\n",
        "y_pred = nb_classifier.predict(X_test_vec)\n",
        "\n",
        "# 6. Evaluate\n",
        "accuracy = accuracy_score(y_test, y_pred)\n",
        "print(f\"Accuracy: {accuracy}\")\n",
        "print(classification_report(y_test, y_pred))\n"
      ],
      "metadata": {
        "colab": {
          "base_uri": "https://localhost:8080/"
        },
        "id": "zbMmdFxjHtqR",
        "outputId": "cb318230-dc18-4ada-c653-26163b836cda"
      },
      "execution_count": null,
      "outputs": [
        {
          "output_type": "stream",
          "name": "stdout",
          "text": [
            "Accuracy: 0.3333333333333333\n",
            "              precision    recall  f1-score   support\n",
            "\n",
            "           0       0.00      0.00      0.00         2\n",
            "           1       0.33      1.00      0.50         1\n",
            "\n",
            "    accuracy                           0.33         3\n",
            "   macro avg       0.17      0.50      0.25         3\n",
            "weighted avg       0.11      0.33      0.17         3\n",
            "\n"
          ]
        },
        {
          "output_type": "stream",
          "name": "stderr",
          "text": [
            "/usr/local/lib/python3.11/dist-packages/sklearn/metrics/_classification.py:1565: UndefinedMetricWarning: Precision is ill-defined and being set to 0.0 in labels with no predicted samples. Use `zero_division` parameter to control this behavior.\n",
            "  _warn_prf(average, modifier, f\"{metric.capitalize()} is\", len(result))\n",
            "/usr/local/lib/python3.11/dist-packages/sklearn/metrics/_classification.py:1565: UndefinedMetricWarning: Precision is ill-defined and being set to 0.0 in labels with no predicted samples. Use `zero_division` parameter to control this behavior.\n",
            "  _warn_prf(average, modifier, f\"{metric.capitalize()} is\", len(result))\n",
            "/usr/local/lib/python3.11/dist-packages/sklearn/metrics/_classification.py:1565: UndefinedMetricWarning: Precision is ill-defined and being set to 0.0 in labels with no predicted samples. Use `zero_division` parameter to control this behavior.\n",
            "  _warn_prf(average, modifier, f\"{metric.capitalize()} is\", len(result))\n"
          ]
        }
      ]
    },
    {
      "cell_type": "markdown",
      "source": [
        "34. Write a Python program to train an SVM Classifier and a Naïve Bayes Classifier on the same dataset and compare their accuracy.\n"
      ],
      "metadata": {
        "id": "R8PfKs7VHuIV"
      }
    },
    {
      "cell_type": "code",
      "source": [
        "from sklearn.datasets import load_breast_cancer\n",
        "from sklearn.model_selection import train_test_split\n",
        "from sklearn.svm import SVC\n",
        "from sklearn.naive_bayes import GaussianNB\n",
        "from sklearn.metrics import accuracy_score\n",
        "from sklearn.preprocessing import StandardScaler\n",
        "\n",
        "# 1. Load the data\n",
        "cancer = load_breast_cancer()\n",
        "X = cancer.data\n",
        "y = cancer.target\n",
        "\n",
        "# 2. Split the data\n",
        "X_train, X_test, y_train, y_test = train_test_split(X, y, test_size=0.3, random_state=42)\n",
        "\n",
        "# 3. Scale the data (important for SVMs)\n",
        "scaler = StandardScaler()\n",
        "X_train_scaled = scaler.fit_transform(X_train)\n",
        "X_test_scaled = scaler.transform(X_test)\n",
        "\n",
        "# 4. Train the SVM classifier\n",
        "svm_clf = SVC(kernel='rbf')\n",
        "svm_clf.fit(X_train_scaled, y_train)\n",
        "\n",
        "# 5. Train the Naïve Bayes classifier\n",
        "nb_clf = GaussianNB()  # Or another suitable Naïve Bayes variant\n",
        "nb_clf.fit(X_train, y_train)  # Naïve Bayes usually doesn't need scaling\n",
        "\n",
        "# 6. Make predictions\n",
        "y_pred_svm = svm_clf.predict(X_test_scaled)\n",
        "y_pred_nb = nb_clf.predict(X_test)\n",
        "\n",
        "# 7. Evaluate the models\n",
        "accuracy_svm = accuracy_score(y_test, y_pred_svm)\n",
        "accuracy_nb = accuracy_score(y_test, y_pred_nb)\n",
        "\n",
        "print(f\"SVM Accuracy: {accuracy_svm}\")\n",
        "print(f\"Naïve Bayes Accuracy: {accuracy_nb}\")\n",
        "\n",
        "\n"
      ],
      "metadata": {
        "id": "D4nyLjBmHy3u",
        "colab": {
          "base_uri": "https://localhost:8080/"
        },
        "outputId": "42532980-716f-4289-89fc-2b2caf2d0099"
      },
      "execution_count": 1,
      "outputs": [
        {
          "output_type": "stream",
          "name": "stdout",
          "text": [
            "SVM Accuracy: 0.9766081871345029\n",
            "Naïve Bayes Accuracy: 0.9415204678362573\n"
          ]
        }
      ]
    },
    {
      "cell_type": "markdown",
      "source": [
        "35. Write a Python program to perform feature selection before training a Naïve Bayes classifier and compare results.\n"
      ],
      "metadata": {
        "id": "bzcRSRIXHzZo"
      }
    },
    {
      "cell_type": "code",
      "source": [
        "from sklearn.datasets import load_breast_cancer\n",
        "from sklearn.model_selection import train_test_split\n",
        "from sklearn.naive_bayes import GaussianNB\n",
        "from sklearn.feature_selection import SelectKBest, f_classif\n",
        "from sklearn.metrics import accuracy_score\n",
        "\n",
        "# 1. Load the data\n",
        "cancer = load_breast_cancer()\n",
        "X = cancer.data\n",
        "y = cancer.target\n",
        "\n",
        "# 2. Split the data\n",
        "X_train, X_test, y_train, y_test = train_test_split(X, y, test_size=0.3, random_state=42)\n",
        "\n",
        "# 3. Feature Selection (SelectKBest with f_classif is a common choice)\n",
        "k = 10  # Number of best features to select (experiment with different values)\n",
        "selector = SelectKBest(f_classif, k=k)\n",
        "X_train_selected = selector.fit_transform(X_train, y_train)  # Fit and transform training data\n",
        "X_test_selected = selector.transform(X_test)  # Transform test data\n",
        "\n",
        "# 4. Train Naïve Bayes models (one with all features, one with selected features)\n",
        "nb_all_features = GaussianNB()\n",
        "nb_selected_features = GaussianNB()\n",
        "\n",
        "nb_all_features.fit(X_train, y_train)\n",
        "nb_selected_features.fit(X_train_selected, y_train)\n",
        "\n",
        "# 5. Make predictions\n",
        "y_pred_all = nb_all_features.predict(X_test)\n",
        "y_pred_selected = nb_selected_features.predict(X_test_selected)\n",
        "\n",
        "# 6. Evaluate the models\n",
        "accuracy_all = accuracy_score(y_test, y_pred_all)\n",
        "accuracy_selected = accuracy_score(y_test, y_pred_selected)\n",
        "\n",
        "print(f\"Accuracy (All Features): {accuracy_all}\")\n",
        "print(f\"Accuracy (Selected Features): {accuracy_selected}\")\n",
        "\n"
      ],
      "metadata": {
        "id": "Dvuv60cfH2PD",
        "colab": {
          "base_uri": "https://localhost:8080/"
        },
        "outputId": "b92b2237-6458-4eb7-9704-88d323506c1d"
      },
      "execution_count": 2,
      "outputs": [
        {
          "output_type": "stream",
          "name": "stdout",
          "text": [
            "Accuracy (All Features): 0.9415204678362573\n",
            "Accuracy (Selected Features): 0.9590643274853801\n"
          ]
        }
      ]
    },
    {
      "cell_type": "markdown",
      "source": [
        "36. Write a Python program to train an SVM Classifier using One-vs-Rest (OvR) and One-vs-One (OvO) strategies on the Wine dataset and compare their accuracy.\n"
      ],
      "metadata": {
        "id": "dzKh9n77H2ml"
      }
    },
    {
      "cell_type": "code",
      "source": [
        "from sklearn.datasets import load_wine\n",
        "from sklearn.model_selection import train_test_split\n",
        "from sklearn.svm import SVC\n",
        "from sklearn.metrics import accuracy_score\n",
        "from sklearn.multiclass import OneVsRestClassifier, OneVsOneClassifier\n",
        "from sklearn.preprocessing import StandardScaler\n",
        "\n",
        "# 1. Load the data\n",
        "wine = load_wine()\n",
        "X = wine.data\n",
        "y = wine.target\n",
        "\n",
        "# 2. Split the data\n",
        "X_train, X_test, y_train, y_test = train_test_split(X, y, test_size=0.3, random_state=42)\n",
        "\n",
        "# 3. Scale the data (important for SVMs)\n",
        "scaler = StandardScaler()\n",
        "X_train_scaled = scaler.fit_transform(X_train)\n",
        "X_test_scaled = scaler.transform(X_test)\n",
        "\n",
        "# 4. Train the OvR classifier\n",
        "ovr_clf = OneVsRestClassifier(SVC(kernel='rbf')) # Scaling is implicit here\n",
        "ovr_clf.fit(X_train_scaled, y_train)\n",
        "\n",
        "# 5. Train the OvO classifier\n",
        "ovo_clf = OneVsOneClassifier(SVC(kernel='rbf')) # Scaling is implicit here\n",
        "ovo_clf.fit(X_train_scaled, y_train)\n",
        "\n",
        "# 6. Make predictions\n",
        "y_pred_ovr = ovr_clf.predict(X_test_scaled)\n",
        "y_pred_ovo = ovo_clf.predict(X_test_scaled)\n",
        "\n",
        "# 7. Evaluate\n",
        "accuracy_ovr = accuracy_score(y_test, y_pred_ovr)\n",
        "accuracy_ovo = accuracy_score(y_test, y_pred_ovo)\n",
        "\n",
        "print(f\"One-vs-Rest Accuracy: {accuracy_ovr}\")\n",
        "print(f\"One-vs-One Accuracy: {accuracy_ovo}\")\n",
        "\n"
      ],
      "metadata": {
        "id": "9AKKYJEjH5XX",
        "colab": {
          "base_uri": "https://localhost:8080/"
        },
        "outputId": "56b5bd4f-ba12-431d-cb1b-001152fb2246"
      },
      "execution_count": 3,
      "outputs": [
        {
          "output_type": "stream",
          "name": "stdout",
          "text": [
            "One-vs-Rest Accuracy: 0.9814814814814815\n",
            "One-vs-One Accuracy: 0.9814814814814815\n"
          ]
        }
      ]
    },
    {
      "cell_type": "markdown",
      "source": [
        "37. Write a Python program to train an SVM Classifier using Linear, Polynomial, and RBF kernels on the Breast Cancer dataset and compare their accuracy.\n"
      ],
      "metadata": {
        "id": "TrwIOrJIH5w-"
      }
    },
    {
      "cell_type": "code",
      "source": [
        "from sklearn.datasets import load_breast_cancer\n",
        "from sklearn.model_selection import train_test_split\n",
        "from sklearn.svm import SVC\n",
        "from sklearn.metrics import accuracy_score\n",
        "from sklearn.preprocessing import StandardScaler\n",
        "\n",
        "# 1. Load the data\n",
        "cancer = load_breast_cancer()\n",
        "X = cancer.data\n",
        "y = cancer.target\n",
        "\n",
        "# 2. Split the data\n",
        "X_train, X_test, y_train, y_test = train_test_split(X, y, test_size=0.3, random_state=42)\n",
        "\n",
        "# 3. Scale the data (important for SVMs)\n",
        "scaler = StandardScaler()\n",
        "X_train_scaled = scaler.fit_transform(X_train)\n",
        "X_test_scaled = scaler.transform(X_test)\n",
        "\n",
        "# 4. Train and evaluate SVMs with different kernels\n",
        "kernels = ['linear', 'poly', 'rbf']\n",
        "for kernel in kernels:\n",
        "    clf = SVC(kernel=kernel)  # Use scaled data\n",
        "    clf.fit(X_train_scaled, y_train)\n",
        "    y_pred = clf.predict(X_test_scaled)\n",
        "    accuracy = accuracy_score(y_test, y_pred)\n",
        "    print(f\"{kernel.capitalize()} Kernel Accuracy: {accuracy}\")\n",
        "\n"
      ],
      "metadata": {
        "id": "oidYnL6_H8qR",
        "colab": {
          "base_uri": "https://localhost:8080/"
        },
        "outputId": "e6c76710-b84b-4ebf-f40b-ffa7cc0c481d"
      },
      "execution_count": 4,
      "outputs": [
        {
          "output_type": "stream",
          "name": "stdout",
          "text": [
            "Linear Kernel Accuracy: 0.9766081871345029\n",
            "Poly Kernel Accuracy: 0.8947368421052632\n",
            "Rbf Kernel Accuracy: 0.9766081871345029\n"
          ]
        }
      ]
    },
    {
      "cell_type": "markdown",
      "source": [
        "38. Write a Python program to train an SVM Classifier using Stratified K-Fold Cross-Validation and compute the average accuracy.\n"
      ],
      "metadata": {
        "id": "qHDAXJVbH9Bt"
      }
    },
    {
      "cell_type": "code",
      "source": [
        "from sklearn.datasets import load_breast_cancer\n",
        "from sklearn.model_selection import StratifiedKFold\n",
        "from sklearn.svm import SVC\n",
        "from sklearn.metrics import accuracy_score\n",
        "from sklearn.preprocessing import StandardScaler\n",
        "import numpy as np\n",
        "\n",
        "# 1. Load the data\n",
        "cancer = load_breast_cancer()\n",
        "X = cancer.data\n",
        "y = cancer.target\n",
        "\n",
        "# 2. Scale the data (important for SVMs) - Scale before splitting for CV\n",
        "scaler = StandardScaler()\n",
        "X_scaled = scaler.fit_transform(X)  # Scale the entire dataset\n",
        "\n",
        "# 3. Set up Stratified K-Fold Cross-Validation\n",
        "k = 5  # Number of folds (experiment with different values)\n",
        "skf = StratifiedKFold(n_splits=k, shuffle=True, random_state=42)  # shuffle is very important\n",
        "\n",
        "accuracies = []  # List to store accuracies for each fold\n",
        "\n",
        "for train_index, test_index in skf.split(X_scaled, y):\n",
        "    X_train, X_test = X_scaled[train_index], X_scaled[test_index]\n",
        "    y_train, y_test = y[train_index], y[test_index]\n",
        "\n",
        "    # 4. Train the SVM classifier\n",
        "    clf = SVC(kernel='rbf')  # Or your chosen kernel\n",
        "    clf.fit(X_train, y_train)\n",
        "\n",
        "    # 5. Make predictions\n",
        "    y_pred = clf.predict(X_test)\n",
        "\n",
        "    # 6. Evaluate and store accuracy\n",
        "    accuracy = accuracy_score(y_test, y_pred)\n",
        "    accuracies.append(accuracy)\n",
        "\n",
        "# 7. Calculate and print the average accuracy\n",
        "average_accuracy = np.mean(accuracies)\n",
        "print(f\"Average Accuracy (Stratified K-Fold): {average_accuracy}\")\n",
        "\n"
      ],
      "metadata": {
        "id": "bPQulI4zH_LH",
        "colab": {
          "base_uri": "https://localhost:8080/"
        },
        "outputId": "ab35f6d8-f95a-43ea-d30f-a1d1e2402f28"
      },
      "execution_count": 5,
      "outputs": [
        {
          "output_type": "stream",
          "name": "stdout",
          "text": [
            "Average Accuracy (Stratified K-Fold): 0.9754075454122031\n"
          ]
        }
      ]
    },
    {
      "cell_type": "markdown",
      "source": [
        "39. Write a Python program to train a Naïve Bayes classifier using different prior probabilities and compare performance.\n"
      ],
      "metadata": {
        "id": "Dnae0ahYH_mY"
      }
    },
    {
      "cell_type": "code",
      "source": [
        "from sklearn.datasets import load_breast_cancer\n",
        "from sklearn.model_selection import train_test_split\n",
        "from sklearn.naive_bayes import GaussianNB\n",
        "from sklearn.metrics import accuracy_score\n",
        "import numpy as np\n",
        "\n",
        "# 1. Load the data\n",
        "cancer = load_breast_cancer()\n",
        "X = cancer.data\n",
        "y = cancer.target\n",
        "\n",
        "# 2. Split the data\n",
        "X_train, X_test, y_train, y_test = train_test_split(X, y, test_size=0.3, random_state=42)\n",
        "\n",
        "# 3. Define different prior probabilities\n",
        "prior_probabilities = [\n",
        "    None,  # Use default prior probabilities (often equal priors)\n",
        "    [0.9, 0.1],  # Example: 90% class 0, 10% class 1\n",
        "    [0.1, 0.9],  # Example: 10% class 0, 90% class 1\n",
        "    # Add more prior probabilities as needed\n",
        "]\n",
        "\n",
        "for priors in prior_probabilities:\n",
        "    # 4. Train the Naïve Bayes classifier with specified priors\n",
        "    nb_clf = GaussianNB(var_smoothing=1e-9) # add smoothing for better performance\n",
        "    if priors is not None:\n",
        "        nb_clf.priors = priors  # Set the priors if they are not None\n",
        "    nb_clf.fit(X_train, y_train)\n",
        "\n",
        "    # 5. Make predictions\n",
        "    y_pred = nb_clf.predict(X_test)\n",
        "\n",
        "    # 6. Evaluate\n",
        "    accuracy = accuracy_score(y_test, y_pred)\n",
        "    print(f\"Priors: {priors}, Accuracy: {accuracy}\")\n",
        "\n"
      ],
      "metadata": {
        "id": "iLrChzH0ICKC",
        "colab": {
          "base_uri": "https://localhost:8080/"
        },
        "outputId": "8876b997-2377-430d-9ce8-7207d6fd4c34"
      },
      "execution_count": 6,
      "outputs": [
        {
          "output_type": "stream",
          "name": "stdout",
          "text": [
            "Priors: None, Accuracy: 0.9415204678362573\n",
            "Priors: [0.9, 0.1], Accuracy: 0.935672514619883\n",
            "Priors: [0.1, 0.9], Accuracy: 0.9415204678362573\n"
          ]
        }
      ]
    },
    {
      "cell_type": "markdown",
      "source": [
        "40. Write a Python program to perform Recursive Feature Elimination (RFE) before training an SVM Classifier and compare accuracy.\n"
      ],
      "metadata": {
        "id": "reS0DmAfIDQf"
      }
    },
    {
      "cell_type": "code",
      "source": [
        "from sklearn.datasets import load_breast_cancer\n",
        "from sklearn.model_selection import train_test_split\n",
        "from sklearn.svm import SVC\n",
        "from sklearn.feature_selection import SelectFromModel\n",
        "from sklearn.metrics import accuracy_score\n",
        "from sklearn.preprocessing import StandardScaler\n",
        "\n",
        "# 1. Load the data\n",
        "cancer = load_breast_cancer()\n",
        "X = cancer.data\n",
        "y = cancer.target\n",
        "\n",
        "# 2. Split the data\n",
        "X_train, X_test, y_train, y_test = train_test_split(X, y, test_size=0.3, random_state=42)\n",
        "\n",
        "# 3. Scale the data (Crucially, do this AFTER splitting)\n",
        "scaler = StandardScaler()\n",
        "X_train_scaled = scaler.fit_transform(X_train)\n",
        "X_test_scaled = scaler.transform(X_test)\n",
        "\n",
        "# 4. Train a Linear SVM (essential for SelectFromModel)\n",
        "linear_svm = SVC(kernel='linear', C=0.1)  # Choose an appropriate C value\n",
        "linear_svm.fit(X_train_scaled, y_train)\n",
        "\n",
        "# 5. Feature Selection (SelectFromModel)\n",
        "model = SelectFromModel(linear_svm, prefit=True)  # The SVM is already fitted\n",
        "\n",
        "X_train_selected = model.transform(X_train_scaled) # Use the scaled training data\n",
        "X_test_selected = model.transform(X_test_scaled)   # Use the scaled test data\n",
        "\n",
        "# 6. Train a new SVM (can be non-linear now) on the selected features\n",
        "svm_final = SVC(kernel='rbf')  # You can use a different kernel now\n",
        "svm_final.fit(X_train_selected, y_train)\n",
        "\n",
        "# 7. Make predictions and evaluate\n",
        "y_pred = svm_final.predict(X_test_selected)  # Use the scaled and selected test data\n",
        "accuracy = accuracy_score(y_test, y_pred)\n",
        "print(f\"Accuracy: {accuracy}\")\n",
        "\n"
      ],
      "metadata": {
        "id": "l7R9vVOpIFgj",
        "colab": {
          "base_uri": "https://localhost:8080/"
        },
        "outputId": "407fa301-b9b5-483f-dd2a-4654ae54e4e2"
      },
      "execution_count": 9,
      "outputs": [
        {
          "output_type": "stream",
          "name": "stdout",
          "text": [
            "Accuracy: 0.9649122807017544\n"
          ]
        }
      ]
    },
    {
      "cell_type": "markdown",
      "source": [
        "41. Write a Python program to train an SVM Classifier and evaluate its performance using Precision, Recall, and F1-Score instead of accuracy.\n"
      ],
      "metadata": {
        "id": "PJMI2XyYIF8k"
      }
    },
    {
      "cell_type": "code",
      "source": [
        "from sklearn.datasets import load_breast_cancer\n",
        "from sklearn.model_selection import train_test_split\n",
        "from sklearn.svm import SVC\n",
        "from sklearn.metrics import precision_score, recall_score, f1_score, accuracy_score\n",
        "from sklearn.preprocessing import StandardScaler\n",
        "\n",
        "# 1. Load the data\n",
        "cancer = load_breast_cancer()\n",
        "X = cancer.data\n",
        "y = cancer.target\n",
        "\n",
        "# 2. Split the data\n",
        "X_train, X_test, y_train, y_test = train_test_split(X, y, test_size=0.3, random_state=42)\n",
        "\n",
        "# 3. Scale the data (important for SVMs)\n",
        "scaler = StandardScaler()\n",
        "X_train_scaled = scaler.fit_transform(X_train)\n",
        "X_test_scaled = scaler.transform(X_test)\n",
        "\n",
        "# 4. Train the SVM classifier\n",
        "clf = SVC(kernel='rbf')  # Or your chosen kernel\n",
        "clf.fit(X_train_scaled, y_train)\n",
        "\n",
        "# 5. Make predictions\n",
        "y_pred = clf.predict(X_test_scaled)\n",
        "\n",
        "# 6. Evaluate the model\n",
        "accuracy = accuracy_score(y_test, y_pred)\n",
        "precision = precision_score(y_test, y_pred)  # For binary classification\n",
        "recall = recall_score(y_test, y_pred)        # For binary classification\n",
        "f1 = f1_score(y_test, y_pred)                # For binary classification\n",
        "\n",
        "print(f\"Accuracy: {accuracy}\")\n",
        "print(f\"Precision: {precision}\")\n",
        "print(f\"Recall: {recall}\")\n",
        "print(f\"F1-Score: {f1}\")\n",
        "\n"
      ],
      "metadata": {
        "id": "AEWv7iCnIIHJ",
        "colab": {
          "base_uri": "https://localhost:8080/"
        },
        "outputId": "4a84eddf-14e5-4044-e571-38d9d970e9fd"
      },
      "execution_count": 11,
      "outputs": [
        {
          "output_type": "stream",
          "name": "stdout",
          "text": [
            "Accuracy: 0.9766081871345029\n",
            "Precision: 0.9814814814814815\n",
            "Recall: 0.9814814814814815\n",
            "F1-Score: 0.9814814814814815\n"
          ]
        }
      ]
    },
    {
      "cell_type": "markdown",
      "source": [
        "42. Write a Python program to train a Naïve Bayes Classifier and evaluate its performance using Log Loss (Cross-Entropy Loss).\n"
      ],
      "metadata": {
        "id": "Dgqq3QK2IIgP"
      }
    },
    {
      "cell_type": "code",
      "source": [
        "from sklearn.datasets import load_breast_cancer\n",
        "from sklearn.model_selection import train_test_split\n",
        "from sklearn.naive_bayes import GaussianNB\n",
        "from sklearn.metrics import log_loss  # Import log_loss\n",
        "from sklearn.preprocessing import StandardScaler\n",
        "\n",
        "# 1. Load the data\n",
        "cancer = load_breast_cancer()\n",
        "X = cancer.data\n",
        "y = cancer.target\n",
        "\n",
        "# 2. Split the data\n",
        "X_train, X_test, y_train, y_test = train_test_split(X, y, test_size=0.3, random_state=42)\n",
        "\n",
        "# 3. Scale the data (Optional but often helpful for other models, not strictly needed for NB)\n",
        "scaler = StandardScaler()\n",
        "X_train_scaled = scaler.fit_transform(X_train)\n",
        "X_test_scaled = scaler.transform(X_test)\n",
        "\n",
        "# 4. Train the Naïve Bayes classifier\n",
        "gnb = GaussianNB()\n",
        "gnb.fit(X_train, y_train)  # Can use scaled or unscaled data for NB\n",
        "\n",
        "# 5. Make probability predictions (essential for log_loss)\n",
        "y_prob = gnb.predict_proba(X_test)  # Get probabilities, not just class predictions\n",
        "\n",
        "# 6. Evaluate using log_loss\n",
        "logloss = log_loss(y_test, y_prob)\n",
        "print(f\"Log Loss: {logloss}\")\n"
      ],
      "metadata": {
        "id": "JmDPYVdhIK9t",
        "colab": {
          "base_uri": "https://localhost:8080/"
        },
        "outputId": "a677a7a9-8f03-449e-ddce-c7879c0744da"
      },
      "execution_count": 12,
      "outputs": [
        {
          "output_type": "stream",
          "name": "stdout",
          "text": [
            "Log Loss: 0.48986013210958873\n"
          ]
        }
      ]
    },
    {
      "cell_type": "markdown",
      "source": [
        "43. Write a Python program to train an SVM Classifier and visualize the Confusion Matrix using seaborn.\n"
      ],
      "metadata": {
        "id": "Qy6R7uEIILYN"
      }
    },
    {
      "cell_type": "code",
      "source": [
        "import matplotlib.pyplot as plt\n",
        "import seaborn as sns\n",
        "from sklearn.datasets import load_breast_cancer\n",
        "from sklearn.model_selection import train_test_split\n",
        "from sklearn.svm import SVC\n",
        "from sklearn.metrics import confusion_matrix\n",
        "from sklearn.preprocessing import StandardScaler\n",
        "\n",
        "# 1. Load the data\n",
        "cancer = load_breast_cancer()\n",
        "X = cancer.data\n",
        "y = cancer.target\n",
        "\n",
        "# 2. Split the data\n",
        "X_train, X_test, y_train, y_test = train_test_split(X, y, test_size=0.3, random_state=42)\n",
        "\n",
        "# 3. Scale the data (important for SVMs)\n",
        "scaler = StandardScaler()\n",
        "X_train_scaled = scaler.fit_transform(X_train)\n",
        "X_test_scaled = scaler.transform(X_test)\n",
        "\n",
        "# 4. Train the SVM classifier\n",
        "clf = SVC(kernel='rbf')  # Or your chosen kernel\n",
        "clf.fit(X_train_scaled, y_train)\n",
        "\n",
        "# 5. Make predictions\n",
        "y_pred = clf.predict(X_test_scaled)\n",
        "\n",
        "# 6. Generate the confusion matrix\n",
        "cm = confusion_matrix(y_test, y_pred)\n",
        "\n",
        "# 7. Visualize the confusion matrix using seaborn\n",
        "plt.figure(figsize=(8, 6))\n",
        "sns.heatmap(cm, annot=True, fmt='d', cmap='Blues',\n",
        "            xticklabels=cancer.target_names, yticklabels=cancer.target_names)\n",
        "plt.xlabel('Predicted Label')\n",
        "plt.ylabel('True Label')\n",
        "plt.title('Confusion Matrix')\n",
        "plt.show()\n"
      ],
      "metadata": {
        "id": "Y8Y-T8omIN-D",
        "colab": {
          "base_uri": "https://localhost:8080/",
          "height": 564
        },
        "outputId": "b0ae3dab-8cdb-48aa-b215-e4e053e001f4"
      },
      "execution_count": 13,
      "outputs": [
        {
          "output_type": "display_data",
          "data": {
            "text/plain": [
              "<Figure size 800x600 with 2 Axes>"
            ],
            "image/png": "[encoded data removed]"
          },
          "metadata": {}
        }
      ]
    },
    {
      "cell_type": "markdown",
      "source": [
        "44. Write a Python program to train an SVM Regressor (SVR) and evaluate its performance using Mean Absolute Error (MAE) instead of MSE.\n"
      ],
      "metadata": {
        "id": "tURX0120IOeP"
      }
    },
    {
      "cell_type": "code",
      "source": [
        "from sklearn.datasets import fetch_california_housing\n",
        "from sklearn.model_selection import train_test_split\n",
        "from sklearn.svm import SVR\n",
        "from sklearn.metrics import mean_absolute_error  # Import MAE\n",
        "from sklearn.preprocessing import StandardScaler\n",
        "\n",
        "# 1. Load the data\n",
        "housing = fetch_california_housing()\n",
        "X = housing.data\n",
        "y = housing.target\n",
        "\n",
        "# 2. Split the data\n",
        "X_train, X_test, y_train, y_test = train_test_split(X, y, test_size=0.3, random_state=42)\n",
        "\n",
        "# 3. Scale the data (important for SVMs)\n",
        "scaler = StandardScaler()\n",
        "X_train_scaled = scaler.fit_transform(X_train)\n",
        "X_test_scaled = scaler.transform(X_test)\n",
        "\n",
        "# 4. Train the SVR model\n",
        "svr = SVR(kernel='rbf')  # Or your chosen kernel\n",
        "svr.fit(X_train_scaled, y_train)\n",
        "\n",
        "# 5. Make predictions\n",
        "y_pred = svr.predict(X_test_scaled)\n",
        "\n",
        "# 6. Evaluate using MAE\n",
        "mae = mean_absolute_error(y_test, y_pred)\n",
        "print(f\"Mean Absolute Error: {mae}\")\n"
      ],
      "metadata": {
        "id": "ecDvhFmTITlQ",
        "colab": {
          "base_uri": "https://localhost:8080/"
        },
        "outputId": "005fc853-6f4b-4007-df08-9519c7f2dabf"
      },
      "execution_count": 14,
      "outputs": [
        {
          "output_type": "stream",
          "name": "stdout",
          "text": [
            "Mean Absolute Error: 0.3972059291578809\n"
          ]
        }
      ]
    },
    {
      "cell_type": "markdown",
      "source": [
        "45. Write a Python program to train a Naïve Bayes classifier and evaluate its performance using the ROC-AUC score.\n"
      ],
      "metadata": {
        "id": "Wy0ErG-nIT58"
      }
    },
    {
      "cell_type": "code",
      "source": [
        "from sklearn.datasets import load_breast_cancer\n",
        "from sklearn.model_selection import train_test_split\n",
        "from sklearn.naive_bayes import GaussianNB\n",
        "from sklearn.metrics import roc_auc_score  # Import roc_auc_score\n",
        "from sklearn.preprocessing import StandardScaler\n",
        "\n",
        "# 1. Load the data\n",
        "cancer = load_breast_cancer()\n",
        "X = cancer.data\n",
        "y = cancer.target\n",
        "\n",
        "# 2. Split the data\n",
        "X_train, X_test, y_train, y_test = train_test_split(X, y, test_size=0.3, random_state=42)\n",
        "\n",
        "# 3. Scale the data (Optional for NB, but good practice)\n",
        "scaler = StandardScaler()\n",
        "X_train_scaled = scaler.fit_transform(X_train)\n",
        "X_test_scaled = scaler.transform(X_test)\n",
        "\n",
        "# 4. Train the Naïve Bayes classifier\n",
        "gnb = GaussianNB()\n",
        "gnb.fit(X_train, y_train)  # Can use scaled or unscaled data for NB\n",
        "\n",
        "# 5. Make probability predictions (essential for ROC-AUC)\n",
        "y_prob = gnb.predict_proba(X_test)[:, 1]  # Get probabilities for the positive class (class 1)\n",
        "\n",
        "# 6. Evaluate using ROC-AUC\n",
        "roc_auc = roc_auc_score(y_test, y_prob)\n",
        "print(f\"ROC-AUC Score: {roc_auc}\")\n"
      ],
      "metadata": {
        "id": "yWH9ItXxIVzp",
        "colab": {
          "base_uri": "https://localhost:8080/"
        },
        "outputId": "e9588c77-a901-43f0-9602-73154df6c549"
      },
      "execution_count": 15,
      "outputs": [
        {
          "output_type": "stream",
          "name": "stdout",
          "text": [
            "ROC-AUC Score: 0.9922104644326867\n"
          ]
        }
      ]
    },
    {
      "cell_type": "markdown",
      "source": [
        "46. Write a Python program to train an SVM Classifier and visualize the Precision-Recall Curve."
      ],
      "metadata": {
        "id": "9Q1prNWrIWVC"
      }
    },
    {
      "cell_type": "code",
      "source": [
        "import matplotlib.pyplot as plt\n",
        "from sklearn.datasets import load_breast_cancer\n",
        "from sklearn.model_selection import train_test_split\n",
        "from sklearn.svm import SVC\n",
        "from sklearn.metrics import precision_recall_curve, auc  # Import precision_recall_curve and auc\n",
        "from sklearn.preprocessing import StandardScaler\n",
        "\n",
        "# 1. Load the data\n",
        "cancer = load_breast_cancer()\n",
        "X = cancer.data\n",
        "y = cancer.target\n",
        "\n",
        "# 2. Split the data\n",
        "X_train, X_test, y_train, y_test = train_test_split(X, y, test_size=0.3, random_state=42)\n",
        "\n",
        "# 3. Scale the data (important for SVMs)\n",
        "scaler = StandardScaler()\n",
        "X_train_scaled = scaler.fit_transform(X_train)\n",
        "X_test_scaled = scaler.transform(X_test)\n",
        "\n",
        "# 4. Train the SVM classifier\n",
        "clf = SVC(kernel='rbf', probability=True)  # probability=True is essential for PR curve\n",
        "clf.fit(X_train_scaled, y_train)\n",
        "\n",
        "# 5. Make probability predictions (needed for PR curve)\n",
        "y_prob = clf.predict_proba(X_test_scaled)[:, 1]  # Probabilities for the positive class\n",
        "\n",
        "# 6. Calculate precision-recall curve\n",
        "precision, recall, _ = precision_recall_curve(y_test, y_prob)\n",
        "\n",
        "# 7. Calculate AUC-PR (Area Under the Precision-Recall Curve)\n",
        "auc_pr = auc(recall, precision)\n",
        "\n",
        "# 8. Plot the Precision-Recall curve\n",
        "plt.figure(figsize=(8, 6))\n",
        "plt.plot(recall, precision, label=f'Precision-Recall curve (area = {auc_pr:.2f})')\n",
        "plt.xlabel('Recall')\n",
        "plt.ylabel('Precision')\n",
        "plt.title('Precision-Recall Curve')\n",
        "plt.legend(loc='lower left')\n",
        "plt.grid(True)\n",
        "plt.show()\n"
      ],
      "metadata": {
        "id": "X-n_MXv6IX4O",
        "colab": {
          "base_uri": "https://localhost:8080/",
          "height": 564
        },
        "outputId": "6778b6e4-5427-4b73-8e76-0e68e68ca11a"
      },
      "execution_count": 16,
      "outputs": [
        {
          "output_type": "display_data",
          "data": {
            "text/plain": [
              "<Figure size 800x600 with 1 Axes>"
            ],
            "image/png": "[encoded data removed]"
          },
          "metadata": {}
        }
      ]
    },
    {
      "cell_type": "code",
      "source": [],
      "metadata": {
        "id": "WDvMS_ybVqM_"
      },
      "execution_count": null,
      "outputs": []
    }
  ]
}